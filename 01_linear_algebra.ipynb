{
 "cells": [
  {
   "cell_type": "markdown",
   "metadata": {
    "ein.tags": [
     "worksheet-0"
    ],
    "slideshow": {
     "slide_type": "-"
    }
   },
   "source": [
    "# Linear algebra\n",
    "\n",
    "This is a voluntary problem set that helps you to learn linear algebra (and the related numpy commands.)  Consult Greene \"Econometric Analysis\" Appendix A when solving these problems.\n",
    "\n",
    "If handed in (and solved correctly ;-), it gives you 5 credits.\n"
   ]
  },
  {
   "cell_type": "code",
   "execution_count": null,
   "metadata": {
    "collapsed": true
   },
   "outputs": [],
   "source": [
    "print 'Pierre Augustamar'\n",
    "print 'INFX 574A'"
   ]
  },
  {
   "cell_type": "code",
   "execution_count": 2,
   "metadata": {
    "autoscroll": "json-false",
    "collapsed": false,
    "ein.tags": [
     "worksheet-0"
    ],
    "slideshow": {
     "slide_type": "-"
    }
   },
   "outputs": [],
   "source": [
    "%matplotlib inline\n",
    "import sympy as sympy\n",
    "import numpy as np\n",
    "import matplotlib.pyplot as plt\n",
    "from scipy import *"
   ]
  },
  {
   "cell_type": "markdown",
   "metadata": {
    "ein.tags": [
     "worksheet-0"
    ],
    "slideshow": {
     "slide_type": "-"
    }
   },
   "source": [
    "## 1 Matrix multiplication\n",
    "* create the following matrices:\n",
    "a = [ 1 2 3 4], b = [5 6 7 8 ]'\n",
    "(note: b includes the transposition sign)\n",
    "* compute the following matrix products $a \\cdot b$ and $a' \\cdot b'$"
   ]
  },
  {
   "cell_type": "code",
   "execution_count": 3,
   "metadata": {
    "autoscroll": "json-false",
    "collapsed": false,
    "ein.tags": [
     "worksheet-0"
    ],
    "slideshow": {
     "slide_type": "-"
    }
   },
   "outputs": [
    {
     "name": "stdout",
     "output_type": "stream",
     "text": [
      "[1 2 3 4]\n",
      "[[5]\n",
      " [6]\n",
      " [7]\n",
      " [8]]\n",
      "\n",
      "a.b\n",
      "[70]\n",
      "\n",
      "[[1]\n",
      " [2]\n",
      " [3]\n",
      " [4]]\n",
      "[[5 6 7 8]]\n",
      "\n",
      "a′⋅b′\n",
      "[[ 5  6  7  8]\n",
      " [10 12 14 16]\n",
      " [15 18 21 24]\n",
      " [20 24 28 32]]\n"
     ]
    }
   ],
   "source": [
    "a = np.array([1,2,3,4])\n",
    "c = np.array([5,6,7,8])\n",
    "b = c.reshape((1,4)).T\n",
    "\n",
    "print a\n",
    "print b\n",
    "print\n",
    "print 'a.b'\n",
    "print a.dot(b)\n",
    "print\n",
    "\n",
    "a = a.reshape(1,4).T\n",
    "print a\n",
    "b = b.reshape(4, 1).T\n",
    "print b\n",
    "print \n",
    "print \"a′⋅b′\"\n",
    "\n",
    "print a.dot(b)"
   ]
  },
  {
   "cell_type": "markdown",
   "metadata": {
    "ein.tags": [
     "worksheet-0"
    ],
    "slideshow": {
     "slide_type": "-"
    }
   },
   "source": [
    "## 2 Linear (in)dependence\n",
    "Consider three vectors:\n",
    "a = [1 2 3 4],\n",
    "b = [5 6 7 8] and\n",
    "c = [9 10 11 12]\n",
    "\n",
    "* are these vectors linearly independent?  Calculate the rank, a related determinant, and show how they are related/unrelated"
   ]
  },
  {
   "cell_type": "code",
   "execution_count": 4,
   "metadata": {
    "autoscroll": "json-false",
    "collapsed": false,
    "ein.tags": [
     "worksheet-0"
    ],
    "slideshow": {
     "slide_type": "-"
    }
   },
   "outputs": [
    {
     "name": "stdout",
     "output_type": "stream",
     "text": [
      "[[ 1  2  3  4]\n",
      " [ 5  6  7  8]\n",
      " [ 9 10 11 12]]\n",
      "rank\n",
      "3\n",
      "vectors are not linearly independent\n",
      "no relation between the rows\n",
      "no related determinant as it is only possible for square matrix\n"
     ]
    }
   ],
   "source": [
    "a = np.matrix('1 2 3 4')\n",
    "b = np.matrix('5 6 7 8')\n",
    "c = np.matrix('9 10 11 12')\n",
    "\n",
    "A = np.row_stack([a, b, c])\n",
    "print A\n",
    "\n",
    "print 'rank' \n",
    "print 3\n",
    "print 'vectors are not linearly independent'\n",
    "\n",
    "print 'no relation between the rows'\n",
    "              \n",
    "print 'no related determinant as it is only possible for square matrix'"
   ]
  },
  {
   "cell_type": "markdown",
   "metadata": {
    "ein.tags": [
     "worksheet-0"
    ],
    "slideshow": {
     "slide_type": "-"
    }
   },
   "source": [
    "## 3 Find the inverses of the following matrices:\n",
    "\n",
    "\n",
    "A = [ <br/>\n",
    "    1 2 3 4 <br/>\n",
    "5 6 7 8 <br/>\n",
    "-1 10 11 12 <br/>\n",
    "13 14 15 17 ],\n",
    "\n",
    "B = [ <br/>\n",
    "    1 0 0 <br/>\n",
    "     0 4 0 <br/>\n",
    "     0 0 16]\n",
    "\n",
    "and\n",
    "\n",
    "C = [ <br/>\n",
    "    1 2 3 4 <br/>\n",
    "      5 6 7 8 <br/>\n",
    "      9 10 11 12 <br/>\n",
    "      13 14 15 17 ]\n",
    "\n",
    "* Check the results by left- and right multiplication of the inverse.  Explain."
   ]
  },
  {
   "cell_type": "code",
   "execution_count": 19,
   "metadata": {
    "autoscroll": "json-false",
    "collapsed": false,
    "ein.tags": [
     "worksheet-0"
    ],
    "slideshow": {
     "slide_type": "-"
    }
   },
   "outputs": [
    {
     "name": "stdout",
     "output_type": "stream",
     "text": [
      "[[ 1  2  3  4]\n",
      " [ 3  6  7  8]\n",
      " [-1 10 11 12]\n",
      " [13 14 15 17]]\n",
      "[[ -1.66666667e-01   3.33333333e-01  -1.66666667e-01   3.07446376e-16]\n",
      " [  1.33333333e+00  -4.41666667e+00   1.08333333e+00   1.00000000e+00]\n",
      " [ -4.50000000e+00   9.50000000e+00  -2.00000000e+00  -2.00000000e+00]\n",
      " [  3.00000000e+00  -5.00000000e+00   1.00000000e+00   1.00000000e+00]]\n"
     ]
    }
   ],
   "source": [
    "a = np.matrix('1 2 3 4; 3 6 7 8; -1 10 11 12; 13 14 15 17')\n",
    "print a\n",
    "x = np.linalg.inv(a)\n",
    "print x\n",
    "\n",
    "print 'This matrix is left invertible and right invertible since it is a square matrix'\n"
   ]
  },
  {
   "cell_type": "code",
   "execution_count": 22,
   "metadata": {
    "collapsed": false
   },
   "outputs": [
    {
     "name": "stdout",
     "output_type": "stream",
     "text": [
      "[[ 1  0  0]\n",
      " [ 0  4  0]\n",
      " [ 0  0 16]]\n",
      "\n",
      "[[ 1.      0.      0.    ]\n",
      " [ 0.      0.25    0.    ]\n",
      " [ 0.      0.      0.0625]]\n"
     ]
    }
   ],
   "source": [
    "b = np.matrix('1 0 0; 0 4 0; 0 0 16')\n",
    "print b\n",
    "print \n",
    "z = np.linalg.inv(b)\n",
    "print z\n",
    "\n",
    "print 'This matrix is left invertible and right invertible since it is a square matrix'"
   ]
  },
  {
   "cell_type": "code",
   "execution_count": 24,
   "metadata": {
    "collapsed": false
   },
   "outputs": [
    {
     "name": "stdout",
     "output_type": "stream",
     "text": [
      "[[ 1  2  3  4]\n",
      " [ 5  6  7  8]\n",
      " [ 9 10 11 12]\n",
      " [13 14 15 17]]\n",
      "\n",
      "[[ -1.54070514e+15   3.08141027e+15  -1.54070514e+15  -4.70000000e-01]\n",
      " [  3.08141027e+15  -6.16282054e+15   3.08141027e+15   1.94000000e+00]\n",
      " [ -1.54070514e+15   3.08141027e+15  -1.54070514e+15  -2.47000000e+00]\n",
      " [  1.15789474e+00  -1.31578947e+00  -8.42105263e-01   1.00000000e+00]]\n",
      "\n",
      "This matrix is left invertible and right invertible since it is a square matrix\n"
     ]
    }
   ],
   "source": [
    "\n",
    "c = np.matrix('1 2 3 4; 5 6 7 8; 9 10 11 12; 13 14 15 17')\n",
    "print c\n",
    "print\n",
    "w =  np.linalg.inv(c)\n",
    "print w\n",
    "print \n",
    "print 'This matrix is left invertible and right invertible since it is a square matrix'"
   ]
  },
  {
   "cell_type": "markdown",
   "metadata": {
    "ein.tags": [
     "worksheet-0"
    ],
    "slideshow": {
     "slide_type": "-"
    }
   },
   "source": [
    "## 4 Characteristic roots\n",
    "* Find the roots (eigenvalues) of the matrices A, B, C above.\n",
    "* Calculate the condition numbers of these matrices in two ways: the default numpy way, and in this way as it is explained in Greene (2003, page 829)\n",
    "* Explain the results"
   ]
  },
  {
   "cell_type": "code",
   "execution_count": 48,
   "metadata": {
    "autoscroll": "json-false",
    "collapsed": false,
    "ein.tags": [
     "worksheet-0"
    ],
    "slideshow": {
     "slide_type": "-"
    }
   },
   "outputs": [
    {
     "name": "stdout",
     "output_type": "stream",
     "text": [
      "[[ 1  2  3  4]\n",
      " [ 3  6  7  8]\n",
      " [-1 10 11 12]\n",
      " [13 14 15 17]]\n",
      "\n",
      "[ 35.67898331   1.72904838  -2.23387822  -0.17415347]\n",
      "This matrix has the following eigenvalues: 35.67898331,  1.72904838,  -2.23387822,  -0.17415347\n",
      "\n",
      "condition of this matrix is: 492.15677\n",
      "505.225815849\n",
      "calculating  condition numbers based on Greene\n",
      "\n",
      "condition number using Greene \n",
      "37.8549864615\n",
      "Both options gave a condition number greater than 20. Since the results are above 20 than this is worrisome\n"
     ]
    }
   ],
   "source": [
    "a = np.matrix('1 2 3 4; 3 6 7 8; -1 10 11 12; 13 14 15 17')\n",
    "print a\n",
    "print\n",
    "print np.linalg.eigvals(a)\n",
    "\n",
    "print 'This matrix has the following eigenvalues: 35.67898331,  1.72904838,  -2.23387822,  -0.17415347'\n",
    "print\n",
    "\n",
    "print 'condition of this matrix is: %.5f' % np.linalg.cond(a)\n",
    "print np.linalg.cond(a, 'fro')\n",
    "\n",
    "import pandas as pd\n",
    "print 'calculating  condition numbers based on Greene'\n",
    "print\n",
    "print 'condition number using Greene '\n",
    "\n",
    "condition_number =np.linalg.norm(a)\n",
    "print condition_number\n",
    "print 'Both options gave a condition number greater than 20. Since the results are above 20 than this is worrisome'"
   ]
  },
  {
   "cell_type": "code",
   "execution_count": 47,
   "metadata": {
    "collapsed": false
   },
   "outputs": [
    {
     "name": "stdout",
     "output_type": "stream",
     "text": [
      "[  1.   4.  16.]\n",
      "This matrix has the following eigenvalues: 1,   4,  1and 6\n",
      "\n",
      "condition of this matrix is: 16.00000\n",
      "\n",
      "condition number using Greene \n",
      "16.5227116419\n",
      "\n",
      "Greene option gave a larger value than the numpy... possibly something wrong with m\n"
     ]
    }
   ],
   "source": [
    "b = np.matrix('1 0 0; 0 4 0; 0 0 16')\n",
    "print np.linalg.eigvals(b)\n",
    "\n",
    "\n",
    "print 'This matrix has the following eigenvalues: 1,   4,  1and 6'\n",
    "print\n",
    "print 'condition of this matrix is: %.5f' % np.linalg.cond(b)\n",
    "print\n",
    "print 'condition number using Greene '\n",
    "\n",
    "condition_number =np.linalg.norm(b)\n",
    "print condition_number\n",
    "print\n",
    "print 'Both options gave a value uner 20. Thus, this is not worrisome'"
   ]
  },
  {
   "cell_type": "code",
   "execution_count": 51,
   "metadata": {
    "collapsed": false
   },
   "outputs": [
    {
     "name": "stdout",
     "output_type": "stream",
     "text": [
      "[  3.66727818e+01  -2.00000000e+00  -2.08470091e-15   3.27218155e-01]\n",
      "This matrix has the following eigenvalues: 3.66727818e+01  -2.00000000e+00  -2.08470091e-15   3.27218155e-01\n",
      "\n",
      "condition of this matrix is: 76046968278614976.00000\n",
      "condition number using Greene \n",
      "39.102429592\n",
      "\n",
      "Both options gave a condition number greater than 20. Since the results are above 20 than this is worrisome\n"
     ]
    }
   ],
   "source": [
    "c =  np.matrix('1 2 3 4; 5 6 7 8; 9 10 11 12; 13 14 15 17')\n",
    "print np.linalg.eigvals(c)\n",
    "\n",
    "print 'This matrix has the following eigenvalues: 3.66727818e+01  -2.00000000e+00  -2.08470091e-15   3.27218155e-01'\n",
    "\n",
    "print\n",
    "print 'condition of this matrix is: %.5f' % np.linalg.cond(c)\n",
    "\n",
    "print 'condition number using Greene '\n",
    "\n",
    "condition_number =np.linalg.norm(c)\n",
    "\n",
    "print condition_number\n",
    "print\n",
    "print 'Both options gave a condition number greater than 20. Since the results are above 20 than this is worrisome'"
   ]
  },
  {
   "cell_type": "code",
   "execution_count": null,
   "metadata": {
    "collapsed": true
   },
   "outputs": [],
   "source": []
  }
 ],
 "metadata": {
  "anaconda-cloud": {},
  "kernelspec": {
   "display_name": "Python [default]",
   "language": "python",
   "name": "python2"
  },
  "language_info": {
   "codemirror_mode": {
    "name": "ipython",
    "version": 2
   },
   "file_extension": ".py",
   "mimetype": "text/x-python",
   "name": "python",
   "nbconvert_exporter": "python",
   "pygments_lexer": "ipython2",
   "version": "2.7.12"
  },
  "name": "01_linear_algebra.ipynb"
 },
 "nbformat": 4,
 "nbformat_minor": 2
}
