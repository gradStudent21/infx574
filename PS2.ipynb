{
 "cells": [
  {
   "cell_type": "markdown",
   "metadata": {
    "ein.tags": [
     "worksheet-0"
    ],
    "slideshow": {
     "slide_type": "-"
    }
   },
   "source": [
    "# Problem Set 2, due January 23th at 5:30 pm/January 24th 3:30pm\n",
    "\n",
    "**Please Note:** This assignment will likely take you a _long_ time, especially if you are new to Python. Start early!"
   ]
  },
  {
   "cell_type": "markdown",
   "metadata": {
    "ein.tags": [
     "worksheet-0"
    ],
    "slideshow": {
     "slide_type": "-"
    }
   },
   "source": [
    "## Introduction to the assignment\n",
    "\n",
    "For this assignment, you will be using data from the [Progresa program](http://en.wikipedia.org/wiki/Oportunidades), a government social assistance program in Mexico. This program, as well as the details of its impact, are described in the paper \"[School subsidies for the poor: evaluating the Mexican Progresa poverty program](http://www.sciencedirect.com/science/article/pii/S0304387803001858)\", by Paul Shultz (available on Canvas). Please familiarize yourself with the PROGRESA program before beginning this problem set, so you have a rough sense of where the data come from and how they were generated. If you just proceed into the problem set without understanding Progresa or the data, it will be very difficult!\n",
    "\n",
    "The goal of this problem set is to implement some of the basic econometric techniques that you are learning in class to measure the impact of Progresa on secondary school enrollment rates. The timeline of the program was:\n",
    "\n",
    " * Baseline survey conducted in 1997\n",
    " * Intervention begins in 1998, \"Wave 1\" of data collected in 1998\n",
    " * \"Wave 2 of data\" collected in 1999\n",
    " * Evaluation ends in 2000, at which point the control villages were treated. \n",
    " \n",
    "When you are ready, download the progresa_sample.csv data from Canvas. The data are actual data collected to evaluate the impact of the Progresa program.  In this file, each row corresponds to an observation taken for a given child for a given year. There are two years of data (1997 and 1998), and just under 40,000 children who are surveyed in each year. For each child-year observation, the following variables are collected:\n",
    "\n",
    "| Variable name | Description|\n",
    "|---------|---------|\n",
    "|year\t  |year in which data is collected\n",
    "|sex\t  |male = 1|\n",
    "|indig\t  |indigenous = 1|\n",
    "|dist_sec |nearest distance to a secondary school|\n",
    "|sc\t      |enrolled in school in year of survey|\n",
    "|grc      |grade enrolled|\n",
    "|fam_n    |family size|\n",
    "|min_dist |\tmin distance to an urban center|\n",
    "|dist_cap |\tmin distance to the capital|\n",
    "|poor     |\tpoor = 1|\n",
    "|progresa |treatment =1|\n",
    "|hohedu\t  |years of schooling of head of household|\n",
    "|hohwag\t  |monthly wages of head of household|\n",
    "|welfare_index|\twelfare index used to classify poor|\n",
    "|hohsex\t  |gender of head of household (male=1)|\n",
    "|hohage   |age of head of household|\n",
    "|age      |years old|\n",
    "|folnum\t  |individual id|\n",
    "|village  |\tvillage id|\n",
    "|sc97\t  |schooling in 1997|"
   ]
  },
  {
   "cell_type": "code",
   "execution_count": 85,
   "metadata": {
    "collapsed": true
   },
   "outputs": [],
   "source": [
    "import numpy as np\n",
    "import pandas as pd\n",
    "import matplotlib.pyplot as plt\n",
    "#import library for stats \n",
    "from scipy.stats import ttest_ind\n",
    "import statsmodels.formula.api as smf"
   ]
  },
  {
   "cell_type": "code",
   "execution_count": 86,
   "metadata": {
    "collapsed": false
   },
   "outputs": [],
   "source": [
    "#import progressa sample data\n",
    "progressa_df = pd.read_csv('progresa_sample.csv')"
   ]
  },
  {
   "cell_type": "code",
   "execution_count": 87,
   "metadata": {
    "collapsed": false
   },
   "outputs": [
    {
     "name": "stdout",
     "output_type": "stream",
     "text": [
      "(77250, 21)\n",
      "Index([u'year', u'sex', u'indig', u'dist_sec', u'sc', u'grc', u'fam_n',\n",
      "       u'min_dist', u'dist_cap', u'poor', u'progresa', u'hohedu', u'hohwag',\n",
      "       u'welfare_index', u'hohsex', u'hohage', u'age', u'village', u'folnum',\n",
      "       u'grc97', u'sc97'],\n",
      "      dtype='object')\n",
      "year               int64\n",
      "sex              float64\n",
      "indig            float64\n",
      "dist_sec         float64\n",
      "sc               float64\n",
      "grc              float64\n",
      "fam_n              int64\n",
      "min_dist         float64\n",
      "dist_cap         float64\n",
      "poor              object\n",
      "progresa          object\n",
      "hohedu             int64\n",
      "hohwag           float64\n",
      "welfare_index    float64\n",
      "hohsex           float64\n",
      "hohage           float64\n",
      "age                int64\n",
      "village            int64\n",
      "folnum             int64\n",
      "grc97              int64\n",
      "sc97             float64\n",
      "dtype: object\n"
     ]
    }
   ],
   "source": [
    "#analyze progressa data structure\n",
    "print progressa_df.shape\n",
    "print progressa_df.columns\n",
    "print progressa_df.dtypes"
   ]
  },
  {
   "cell_type": "code",
   "execution_count": 88,
   "metadata": {
    "collapsed": false,
    "scrolled": true
   },
   "outputs": [
    {
     "data": {
      "text/html": [
       "<div>\n",
       "<table border=\"1\" class=\"dataframe\">\n",
       "  <thead>\n",
       "    <tr style=\"text-align: right;\">\n",
       "      <th></th>\n",
       "      <th>year</th>\n",
       "      <th>sex</th>\n",
       "      <th>indig</th>\n",
       "      <th>dist_sec</th>\n",
       "      <th>sc</th>\n",
       "      <th>grc</th>\n",
       "      <th>fam_n</th>\n",
       "      <th>min_dist</th>\n",
       "      <th>dist_cap</th>\n",
       "      <th>poor</th>\n",
       "      <th>...</th>\n",
       "      <th>hohedu</th>\n",
       "      <th>hohwag</th>\n",
       "      <th>welfare_index</th>\n",
       "      <th>hohsex</th>\n",
       "      <th>hohage</th>\n",
       "      <th>age</th>\n",
       "      <th>village</th>\n",
       "      <th>folnum</th>\n",
       "      <th>grc97</th>\n",
       "      <th>sc97</th>\n",
       "    </tr>\n",
       "  </thead>\n",
       "  <tbody>\n",
       "    <tr>\n",
       "      <th>0</th>\n",
       "      <td>97</td>\n",
       "      <td>0.0</td>\n",
       "      <td>0.0</td>\n",
       "      <td>4.473</td>\n",
       "      <td>1.0</td>\n",
       "      <td>7.0</td>\n",
       "      <td>7</td>\n",
       "      <td>21.168384</td>\n",
       "      <td>21.168384</td>\n",
       "      <td>pobre</td>\n",
       "      <td>...</td>\n",
       "      <td>6</td>\n",
       "      <td>0.0</td>\n",
       "      <td>583.0</td>\n",
       "      <td>1.0</td>\n",
       "      <td>35.0</td>\n",
       "      <td>13</td>\n",
       "      <td>163</td>\n",
       "      <td>1</td>\n",
       "      <td>7</td>\n",
       "      <td>1.0</td>\n",
       "    </tr>\n",
       "    <tr>\n",
       "      <th>1</th>\n",
       "      <td>98</td>\n",
       "      <td>0.0</td>\n",
       "      <td>0.0</td>\n",
       "      <td>4.473</td>\n",
       "      <td>1.0</td>\n",
       "      <td>8.0</td>\n",
       "      <td>7</td>\n",
       "      <td>21.168384</td>\n",
       "      <td>21.168384</td>\n",
       "      <td>pobre</td>\n",
       "      <td>...</td>\n",
       "      <td>6</td>\n",
       "      <td>0.0</td>\n",
       "      <td>583.0</td>\n",
       "      <td>1.0</td>\n",
       "      <td>35.0</td>\n",
       "      <td>14</td>\n",
       "      <td>163</td>\n",
       "      <td>1</td>\n",
       "      <td>7</td>\n",
       "      <td>1.0</td>\n",
       "    </tr>\n",
       "    <tr>\n",
       "      <th>2</th>\n",
       "      <td>97</td>\n",
       "      <td>1.0</td>\n",
       "      <td>0.0</td>\n",
       "      <td>4.473</td>\n",
       "      <td>1.0</td>\n",
       "      <td>6.0</td>\n",
       "      <td>7</td>\n",
       "      <td>21.168384</td>\n",
       "      <td>21.168384</td>\n",
       "      <td>pobre</td>\n",
       "      <td>...</td>\n",
       "      <td>6</td>\n",
       "      <td>0.0</td>\n",
       "      <td>583.0</td>\n",
       "      <td>1.0</td>\n",
       "      <td>35.0</td>\n",
       "      <td>12</td>\n",
       "      <td>163</td>\n",
       "      <td>2</td>\n",
       "      <td>6</td>\n",
       "      <td>1.0</td>\n",
       "    </tr>\n",
       "    <tr>\n",
       "      <th>3</th>\n",
       "      <td>98</td>\n",
       "      <td>1.0</td>\n",
       "      <td>0.0</td>\n",
       "      <td>4.473</td>\n",
       "      <td>1.0</td>\n",
       "      <td>7.0</td>\n",
       "      <td>7</td>\n",
       "      <td>21.168384</td>\n",
       "      <td>21.168384</td>\n",
       "      <td>pobre</td>\n",
       "      <td>...</td>\n",
       "      <td>6</td>\n",
       "      <td>0.0</td>\n",
       "      <td>583.0</td>\n",
       "      <td>1.0</td>\n",
       "      <td>35.0</td>\n",
       "      <td>13</td>\n",
       "      <td>163</td>\n",
       "      <td>2</td>\n",
       "      <td>6</td>\n",
       "      <td>1.0</td>\n",
       "    </tr>\n",
       "    <tr>\n",
       "      <th>4</th>\n",
       "      <td>97</td>\n",
       "      <td>0.0</td>\n",
       "      <td>0.0</td>\n",
       "      <td>4.473</td>\n",
       "      <td>1.0</td>\n",
       "      <td>2.0</td>\n",
       "      <td>7</td>\n",
       "      <td>21.168384</td>\n",
       "      <td>21.168384</td>\n",
       "      <td>pobre</td>\n",
       "      <td>...</td>\n",
       "      <td>6</td>\n",
       "      <td>0.0</td>\n",
       "      <td>583.0</td>\n",
       "      <td>1.0</td>\n",
       "      <td>35.0</td>\n",
       "      <td>8</td>\n",
       "      <td>163</td>\n",
       "      <td>3</td>\n",
       "      <td>2</td>\n",
       "      <td>1.0</td>\n",
       "    </tr>\n",
       "  </tbody>\n",
       "</table>\n",
       "<p>5 rows × 21 columns</p>\n",
       "</div>"
      ],
      "text/plain": [
       "   year  sex  indig  dist_sec   sc  grc  fam_n   min_dist   dist_cap   poor  \\\n",
       "0    97  0.0    0.0     4.473  1.0  7.0      7  21.168384  21.168384  pobre   \n",
       "1    98  0.0    0.0     4.473  1.0  8.0      7  21.168384  21.168384  pobre   \n",
       "2    97  1.0    0.0     4.473  1.0  6.0      7  21.168384  21.168384  pobre   \n",
       "3    98  1.0    0.0     4.473  1.0  7.0      7  21.168384  21.168384  pobre   \n",
       "4    97  0.0    0.0     4.473  1.0  2.0      7  21.168384  21.168384  pobre   \n",
       "\n",
       "   ...  hohedu  hohwag  welfare_index  hohsex  hohage  age  village  folnum  \\\n",
       "0  ...       6     0.0          583.0     1.0    35.0   13      163       1   \n",
       "1  ...       6     0.0          583.0     1.0    35.0   14      163       1   \n",
       "2  ...       6     0.0          583.0     1.0    35.0   12      163       2   \n",
       "3  ...       6     0.0          583.0     1.0    35.0   13      163       2   \n",
       "4  ...       6     0.0          583.0     1.0    35.0    8      163       3   \n",
       "\n",
       "   grc97  sc97  \n",
       "0      7   1.0  \n",
       "1      7   1.0  \n",
       "2      6   1.0  \n",
       "3      6   1.0  \n",
       "4      2   1.0  \n",
       "\n",
       "[5 rows x 21 columns]"
      ]
     },
     "execution_count": 88,
     "metadata": {},
     "output_type": "execute_result"
    }
   ],
   "source": [
    "#analyze progressa data\n",
    "progressa_df.head() #get the top 6 records\n"
   ]
  },
  {
   "cell_type": "markdown",
   "metadata": {
    "ein.tags": [
     "worksheet-0"
    ],
    "slideshow": {
     "slide_type": "-"
    }
   },
   "source": [
    "---\n",
    "\n",
    "##Part 1: Descriptive analysis\n",
    "\n",
    "### 1.1\tSummary Statistics\n",
    "\n",
    "Present summary statistics (mean and standard deviation) for all of the demographic variables in the dataset (i.e., everything except year, folnum, village). Present these in a single table alphabetized by variable name. Do NOT simply expect the grader to scroll through your output!"
   ]
  },
  {
   "cell_type": "code",
   "execution_count": 89,
   "metadata": {
    "autoscroll": "json-false",
    "collapsed": false,
    "ein.tags": [
     "worksheet-0"
    ],
    "slideshow": {
     "slide_type": "-"
    }
   },
   "outputs": [],
   "source": [
    "#create a list to store the columns and order the list\n",
    "demo_list =[] \n",
    "for column in progressa_df.columns:\n",
    "    if column == 'year' or column == 'folnum' or column == 'village' or  column=='poor' or column=='progresa':\n",
    "        continue\n",
    "    else:\n",
    "        demo_list.append(column)\n",
    "demo_list.sort()\n",
    " "
   ]
  },
  {
   "cell_type": "code",
   "execution_count": 90,
   "metadata": {
    "collapsed": false
   },
   "outputs": [
    {
     "data": {
      "text/html": [
       "<table width=40%><tr><th>Demographic</th><th>Mean</th><th>Standard Deviation</th></tr><tr><td>age</td><td>11.3664595469</td><td>3.16774384259</td></tr><tr><td>dist_cap</td><td>147.674452051</td><td>76.06313355</td></tr><tr><td>dist_sec</td><td>2.41890995954</td><td>2.23410880784</td></tr><tr><td>fam_n</td><td>7.21571521036</td><td>2.35290045582</td></tr><tr><td>grc</td><td>3.96353658364</td><td>2.4990634662</td></tr><tr><td>grc97</td><td>3.70537216828</td><td>2.57238732312</td></tr><tr><td>hohage</td><td>44.4367167271</td><td>11.6203715968</td></tr><tr><td>hohedu</td><td>2.76810355987</td><td>2.65610577554</td></tr><tr><td>hohsex</td><td>0.92518451379</td><td>0.263095088332</td></tr><tr><td>hohwag</td><td>586.985312361</td><td>788.133664195</td></tr><tr><td>indig</td><td>0.298323586745</td><td>0.457525239376</td></tr><tr><td>min_dist</td><td>103.447520191</td><td>42.0894407806</td></tr><tr><td>sc</td><td>0.81981772461</td><td>0.384341996396</td></tr><tr><td>sc97</td><td>0.813922429066</td><td>0.389171906186</td></tr><tr><td>sex</td><td>0.512210913423</td><td>0.499854107672</td></tr><tr><td>welfare_index</td><td>690.346563523</td><td>139.491129969</td></tr></table>"
      ],
      "text/plain": [
       "['age',\n",
       " 'dist_cap',\n",
       " 'dist_sec',\n",
       " 'fam_n',\n",
       " 'grc',\n",
       " 'grc97',\n",
       " 'hohage',\n",
       " 'hohedu',\n",
       " 'hohsex',\n",
       " 'hohwag',\n",
       " 'indig',\n",
       " 'min_dist',\n",
       " 'sc',\n",
       " 'sc97',\n",
       " 'sex',\n",
       " 'welfare_index']"
      ]
     },
     "execution_count": 90,
     "metadata": {},
     "output_type": "execute_result"
    }
   ],
   "source": [
    "#create a class to build the table \n",
    "class ListTable(list):\n",
    "    # renders an HTML Table to show mean and standard deviation for each of the variables.\n",
    "    def _repr_html_(self):\n",
    "        html = [\"<table width=40%>\"]\n",
    "        html.append(\"<tr><th>Demographic</th><th>Mean</th><th>Standard Deviation</th></tr>\")\n",
    "        for l in self:\n",
    "            html.append(\"<tr>\")\n",
    "            html.append(\"<td>{0}</td>\".format(l))\n",
    "            html.append(\"<td>{0}</td>\".format(progressa_df[l].mean()))\n",
    "            html.append(\"<td>{0}</td>\".format(progressa_df[l].std()))\n",
    "            html.append(\"</tr>\")\n",
    "        html.append(\"</table>\")\n",
    "        return ''.join(html)\n",
    "\n",
    "#call the class with the demographic data - this will execute the html generator function     \n",
    "ListTable(demo_list)"
   ]
  },
  {
   "cell_type": "markdown",
   "metadata": {
    "ein.tags": [
     "worksheet-0"
    ],
    "slideshow": {
     "slide_type": "-"
    }
   },
   "source": [
    "### 1.2 Differences at baseline?\n",
    "\n",
    "Are the baseline (1997) demographic characteristics **for the poor**  different in treatment and control villages? Hint: Use a T-Test to determine whether there is a statistically significant difference in the average values of each of the variables in the dataset. Focus only on the data from 1997 for individuals who are poor (i.e., poor=='pobre').\n",
    "\n",
    "Present your results in a single table with the following columns and 14 (or so) rows:\n",
    "\n",
    "| Variable name | Average value (Treatment villages) | Average value (Control villages) | Difference (Treat - Control) | p-value |\n",
    "|------|------|------|------|------|\n",
    "|Male  |?     |?     |?     |?     |\n"
   ]
  },
  {
   "cell_type": "code",
   "execution_count": 91,
   "metadata": {
    "autoscroll": "json-false",
    "collapsed": false,
    "ein.tags": [
     "worksheet-0"
    ],
    "slideshow": {
     "slide_type": "-"
    }
   },
   "outputs": [],
   "source": [
    "#filter for year = 97, treatment villages and individuals that are poor\n",
    "treatment = progressa_df.query('year == 97').query('progresa ==\"basal\"').query('poor ==\"pobre\"').dropna()\n",
    "\n",
    "#filter for year = 97, controlled villages and individuals that are poor\n",
    "controlled = progressa_df.query('year == 97').query('progresa !=\"basal\"').query('poor ==\"pobre\"').dropna()\n",
    "        "
   ]
  },
  {
   "cell_type": "code",
   "execution_count": 92,
   "metadata": {
    "collapsed": false
   },
   "outputs": [
    {
     "data": {
      "text/html": [
       "<table><tr><th>Variable name</th><th>Average value(Treatment villages)</th><th>Average value (Control villages)</th><th>Difference(Treat - Control)</th><th>p-value</th></tr><tr><td>age</td><td>10.7438250564</td><td>10.78558574</td><td>-0.0417606836206</td><td>0.247407683584</td></tr><tr><td>dist_cap</td><td>151.801472408</td><td>154.492094615</td><td>-2.6906222073</td><td>0.00436191360837</td></tr><tr><td>dist_sec</td><td>2.3996477634</td><td>2.40068668559</td><td>-0.00103892219251</td><td>0.968070298907</td></tr><tr><td>fam_n</td><td>7.28103204153</td><td>7.30293941212</td><td>-0.0219073705842</td><td>0.426054245783</td></tr><tr><td>grc</td><td>3.70921390739</td><td>3.73365326935</td><td>-0.0244393619572</td><td>0.395506627957</td></tr><tr><td>grc97</td><td>3.70921390739</td><td>3.73365326935</td><td>-0.0244393619572</td><td>0.395506627957</td></tr><tr><td>hohage</td><td>43.6312339399</td><td>44.2707172851</td><td>-0.639483345212</td><td>2.38741915656e-06</td></tr><tr><td>hohedu</td><td>2.72672924642</td><td>2.6609820893</td><td>0.0657471571245</td><td>0.0249552747126</td></tr><tr><td>hohsex</td><td>0.925586029682</td><td>0.923386751221</td><td>0.0021992784605</td><td>0.47954208484</td></tr><tr><td>hohwag</td><td>550.207085704</td><td>580.694451902</td><td>-30.4873661979</td><td>0.000285131460141</td></tr><tr><td>indig</td><td>0.31674445435</td><td>0.325306367298</td><td>-0.00856191294798</td><td>0.119003901587</td></tr><tr><td>min_dist</td><td>107.395231427</td><td>103.098347543</td><td>4.29688388469</td><td>6.94294253497e-18</td></tr><tr><td>sc</td><td>0.822696523153</td><td>0.815065558317</td><td>0.00763096483585</td><td>0.0924665126322</td></tr><tr><td>sc97</td><td>0.822696523153</td><td>0.815065558317</td><td>0.00763096483585</td><td>0.0924665126322</td></tr><tr><td>sex</td><td>0.52026849861</td><td>0.506555831691</td><td>0.0137126669195</td><td>0.0195933425211</td></tr><tr><td>welfare_index</td><td>656.810475797</td><td>661.593513119</td><td>-4.78303732168</td><td>0.000404811194506</td></tr></table>"
      ],
      "text/plain": [
       "<__main__.ListTable instance at 0x000000000D197948>"
      ]
     },
     "execution_count": 92,
     "metadata": {},
     "output_type": "execute_result"
    }
   ],
   "source": [
    "#Create a class to build the table\n",
    "class ListTable():\n",
    "    # renders an HTML Table to show mean and standard deviation for each of the variables.\n",
    "    def _repr_html_(self):\n",
    "        html = [\"<table>\"]\n",
    "        html.append(\"<tr><th>Variable name</th><th>Average value(Treatment villages)</th><th>Average value (Control villages)</th><th>Difference(Treat - Control)</th><th>p-value</th></tr>\")\n",
    "        for l in demo_list:\n",
    "            #calculate the t-test and the p-value\n",
    "            t, p = ttest_ind(treatment[l], controlled[l], equal_var = False)\n",
    "            html.append(\"<tr>\")\n",
    "            html.append(\"<td>{0}</td>\".format(l))\n",
    "            html.append(\"<td>{0}</td>\".format(treatment[l].mean()))\n",
    "            html.append(\"<td>{0}</td>\".format(controlled[l].mean()))\n",
    "            html.append(\"<td>{0}</td>\".format(treatment[l].mean() - controlled[l].mean()))\n",
    "            html.append(\"<td>{0}</td>\".format(p))\n",
    "            html.append(\"</tr>\")\n",
    "        html.append(\"</table>\")\n",
    "        return ''.join(html)\n",
    "\n",
    "#calling the class - this will output the table with the related data     \n",
    "ListTable()"
   ]
  },
  {
   "cell_type": "markdown",
   "metadata": {
    "ein.tags": [
     "worksheet-0"
    ],
    "slideshow": {
     "slide_type": "-"
    }
   },
   "source": [
    "### 1.3 Interpretation\n",
    "\n",
    "* A: Are there statistically significant differences between treatment and control villages as baseline? \n",
    "* B: Why does it matter if there are differences at baseline?\n",
    "* C: What does this imply about how to measure the impact of the treatment?"
   ]
  },
  {
   "cell_type": "markdown",
   "metadata": {
    "autoscroll": "json-false",
    "collapsed": false,
    "ein.tags": [
     "worksheet-0"
    ],
    "slideshow": {
     "slide_type": "-"
    }
   },
   "source": [
    "Are there statistically significant differences between treatment and control villages as baseline?\n",
    "\n",
    "The calculated p-values for welfare_index, sex, hohwag, hohedu, and dist_cap have a p-value less than 0.05. Thus, they provide a strong evidence against the null hypothesis, so we reject the null hypothesis and conclude that mean for treatment is different than the mean for the controlled group. If we analyze hohedu or \"years of schooling of head of household\" we could conclude that the mean is statistically significant after treatment than it is after controlled. \n",
    "\n",
    "Similarly, the following variables, age, fam_n, dist_sec, grc, hohage, hohsex, indig, min_dist, and sc have a p-value much greather than 0.05. Thus, they provide a weak evidence agianst the null hypothesis, so we fail to reject the null hypothesis. Thus,  for these variables the mean is not statiscally significant after treatment than it is after controlled. "
   ]
  },
  {
   "cell_type": "markdown",
   "metadata": {
    "collapsed": false
   },
   "source": [
    "Why does it matter if there are differences at baseline?\n",
    "\n",
    "Differences between groups in baseline variables matter because of the possible impact they may have on the outcome. Take for instance, variables like sc, age, sex, hohegu that could have some impact rather it's by chance or due to treatment. Ideally, we want to avoid any type of results based of chance. "
   ]
  },
  {
   "cell_type": "markdown",
   "metadata": {},
   "source": [
    "What does this imply about how to measure the impact of the treatment?\n",
    "\n",
    "We should not rely solely on the p-value. The p-value tells us if there is an effect among the subjects in the treatment or the controled groups, but it cannot tell us how much the effect is. In order to get more insights on the legimity and the effect of the measurement, we will need another evaluation factor that amplifies the impact of the treatment. "
   ]
  },
  {
   "cell_type": "markdown",
   "metadata": {
    "ein.tags": [
     "worksheet-0"
    ],
    "slideshow": {
     "slide_type": "-"
    }
   },
   "source": [
    "### 1.4 Graphical exploration, part 1\n",
    "\n",
    "For each level of household head education, compute the average enrollment rate in 1997. Create a scatterplot that shows this relationship. What do you notice?"
   ]
  },
  {
   "cell_type": "code",
   "execution_count": 93,
   "metadata": {
    "autoscroll": "json-false",
    "collapsed": false,
    "ein.tags": [
     "worksheet-0"
    ],
    "scrolled": true,
    "slideshow": {
     "slide_type": "-"
    }
   },
   "outputs": [],
   "source": [
    "#create a dictionary to hold the education level and the average enrollment\n",
    "edu_dict ={}\n",
    "#filter for participants in 97\n",
    "grouped = progressa_df.query('year == 97').dropna() \n",
    "#grouped by household education level and get the mean\n",
    "grouped = grouped.groupby('hohedu').mean()\n",
    "# add enrollment average value into a dictionary based on the household education\n",
    "for index, row in grouped.iterrows():\n",
    "    edu_dict[index] = round(row['sc'],2)\n"
   ]
  },
  {
   "cell_type": "code",
   "execution_count": 94,
   "metadata": {
    "collapsed": false,
    "scrolled": true
   },
   "outputs": [
    {
     "data": {
      "image/png": "[encoded data removed]",
      "text/plain": [
       "<matplotlib.figure.Figure at 0x1915bf98>"
      ]
     },
     "metadata": {},
     "output_type": "display_data"
    }
   ],
   "source": [
    "#Set the x and y coordinates based on the value added in the dictionary\n",
    "x, y = edu_dict.keys(), edu_dict.values()\n",
    "plt.scatter(x, y, alpha=.1, s=100) #plot the cooridnates\n",
    "# Add a title.\n",
    "plt.title(\"Enrollment rate by level of household education for 1997\")\n",
    "# Add labels to both the Y and X axis\n",
    "plt.ylabel('Enrollment rate')\n",
    "plt.xlabel('level of household education')\n",
    "plt.show() #show the  scatter plot\n"
   ]
  },
  {
   "cell_type": "markdown",
   "metadata": {},
   "source": [
    "The scatteplot shows a moderate positive correlation. Thus, enrollment rate tends to increase as level household \n",
    "education increases. However, we also noticed a single outlier that falls outside the overall pattern of the \n",
    "scatter plot. At education level 20, the enrollment rate suddenly experienced a major drop.  "
   ]
  },
  {
   "cell_type": "markdown",
   "metadata": {
    "ein.tags": [
     "worksheet-0"
    ],
    "slideshow": {
     "slide_type": "-"
    }
   },
   "source": [
    "### 1.5 Graphical exploration, part 2\n",
    "\n",
    "Create a histogram of village enrollment rates **among poor households in treated villages**, before and after treatment. Specifically, for each village, calculate the average rate of enrollment of poor households in treated villages in 1997, then compute the average rate of enrollment of poor households in treated villages in 1998. Create two separate histograms showing the distribution of these average enrollments rates, one histogram for 1997 and one histogram for 1998. On each histogram, draw a vertical line that intersects the x-axis at the average value (across all households).\n",
    "* Does there appear to be a difference? Is this difference statistically significant?\n",
    "* Which D estimator in Schultz (2004) does this approach correspond to?"
   ]
  },
  {
   "cell_type": "code",
   "execution_count": 95,
   "metadata": {
    "collapsed": false
   },
   "outputs": [],
   "source": [
    "#create a dictionary to hold enrollment rate\n",
    "village98_enrolled = {}\n",
    "#filter for year = 98, treatment villages and individuals that are poor\n",
    "treatment98 = progressa_df.query('year == 98').query('progresa ==\"basal\"').query('poor ==\"pobre\"').dropna()\n",
    "#grouped the filtered results by villages and created the mean\n",
    "grouped = treatment98.groupby('village').mean()\n",
    "#add the mean enrollment based on the village into the dictionary\n",
    "for index, row in grouped.iterrows():\n",
    "    village98_enrolled[index] = round(row['sc'],2)\n",
    "    "
   ]
  },
  {
   "cell_type": "code",
   "execution_count": 96,
   "metadata": {
    "collapsed": false
   },
   "outputs": [
    {
     "data": {
      "image/png": "[encoded data removed]",
      "text/plain": [
       "<matplotlib.figure.Figure at 0x1117aa90>"
      ]
     },
     "metadata": {},
     "output_type": "display_data"
    }
   ],
   "source": [
    "#calculate the mean value for the vertical line\n",
    "meanOfValues = float(sum(village98_enrolled.values())) / len(village98_enrolled)\n",
    "#selecting the x coordinates as the values of the dictionary\n",
    "x=village98_enrolled.values()\n",
    "#plot the vertical line\n",
    "plt.axvline(meanOfValues, color='r', linestyle='dashed', linewidth=2)\n",
    "plt.title('Enrollment rates among poor households in treated villages in 98')\n",
    "plt.ylabel('frequency')\n",
    "plt.xlabel('Enrollment rate')\n",
    "plt.hist(x, bins='auto', color='c') #plot the histogratm\n",
    "plt.show() #show the graph\n"
   ]
  },
  {
   "cell_type": "code",
   "execution_count": 97,
   "metadata": {
    "autoscroll": "json-false",
    "collapsed": false,
    "ein.tags": [
     "worksheet-0"
    ],
    "scrolled": false,
    "slideshow": {
     "slide_type": "-"
    }
   },
   "outputs": [],
   "source": [
    "#create a dictionary to hold enrollment rate\n",
    "village97_enrolled = {}\n",
    "#filter for year = 97, treatment villages and individuals that are poor\n",
    "treatment97 = progressa_df.query('year == 97').query('progresa ==\"basal\"').query('poor ==\"pobre\"').dropna()\n",
    "#grouped the filtered results by villages and created the mean\n",
    "grouped = treatment97.groupby('village').mean()\n",
    "#add the mean enrollment based on the village into the dictionary\n",
    "for index, row in grouped.iterrows():\n",
    "    village97_enrolled[index] = round(row['sc'],2)\n"
   ]
  },
  {
   "cell_type": "code",
   "execution_count": 98,
   "metadata": {
    "collapsed": false
   },
   "outputs": [
    {
     "data": {
      "image/png": "[encoded data removed]",
      "text/plain": [
       "<matplotlib.figure.Figure at 0x19165a90>"
      ]
     },
     "metadata": {},
     "output_type": "display_data"
    }
   ],
   "source": [
    "#calculate the mean value for the vertical line\n",
    "meanOfValues = float(sum(village97_enrolled.values())) / len(village97_enrolled)\n",
    "#selecting the x coordinates as the values of the dictionary\n",
    "x=village97_enrolled.values()\n",
    "#plot the vertical line\n",
    "plt.axvline(meanOfValues, color='r', linestyle='dashed', linewidth=2)\n",
    "plt.title('Enrollment rates among poor households in treated villages in 97')\n",
    "plt.ylabel('frequency')\n",
    "plt.xlabel('Enrollment rate')\n",
    "plt.hist(x, bins='auto', color='c') #plot the histogram\n",
    "plt.show() #show the graph"
   ]
  },
  {
   "cell_type": "markdown",
   "metadata": {},
   "source": [
    "Does there appear to be a difference? Is this difference statistically significant?\n",
    "\n",
    "The vertical lines between the two graphs show some sort of differences though not significant. The null hypothesis is that there is no difference in enrollment rates among poor households in treated villages in 97 and 98. Since no P-values are given to find some sort of statisfical significant, then the next thing is to look at the histogram representation. knowing that a histogram is an approximation of a frequency of a probability density function, then the two histograms show different distribution of enrollments for similar frequencies. Thus, there is a significance at least in the way the frequencies are distributed. \n"
   ]
  },
  {
   "cell_type": "markdown",
   "metadata": {},
   "source": [
    "Which D estimator in Schultz (2004) does this approach correspond to?\n",
    "\n",
    "It seems to represent the \"Kernel density estimators\""
   ]
  },
  {
   "cell_type": "markdown",
   "metadata": {
    "ein.tags": [
     "worksheet-0"
    ],
    "slideshow": {
     "slide_type": "-"
    }
   },
   "source": [
    "## Part 2: Measuring Impact\n",
    "\n",
    "### 2.1 Simple differences: T-test\n",
    "\n",
    "Start out by estimating the impact of Progresa using \"simple differences.\" Restricting yourself to data from 1998 (after treatment).\n",
    "* calculate the average enrollment rate among **poor** households in the Treatment villages and the average enrollment rate among **poor** households in the control villages.\n",
    "* Which difference estimator in Schultz (2004) does this approach correspond to?\n",
    "* Use a t-test to determine if this difference is statistically significant. What do you conclude?"
   ]
  },
  {
   "cell_type": "code",
   "execution_count": 99,
   "metadata": {
    "autoscroll": "json-false",
    "collapsed": false,
    "ein.tags": [
     "worksheet-0"
    ],
    "slideshow": {
     "slide_type": "-"
    }
   },
   "outputs": [
    {
     "name": "stdout",
     "output_type": "stream",
     "text": [
      "0.849257030578\n",
      "0.810923092512\n"
     ]
    }
   ],
   "source": [
    "#filter poor households from the treatment group in 98\n",
    "treatmentPoor = progressa_df.query('year == 98').query('progresa ==\"basal\"').query('poor ==\"pobre\"').dropna()\n",
    "#calculate the average enrollment for treated group\n",
    "print treatmentPoor.sc.mean() \n",
    "\n",
    "#filter poor households from the controlled group in 98\n",
    "controlledPoor = progressa_df.query('year == 98').query('progresa == \"0\"').query('poor ==\"pobre\"').dropna()\n",
    "#calculate the average enrollment for controlled group\n",
    "print controlledPoor.sc.mean()"
   ]
  },
  {
   "cell_type": "markdown",
   "metadata": {
    "collapsed": false
   },
   "source": [
    "Which difference estimator in Schultz (2004) does this approach correspond to?\n",
    "\n",
    "This approach corresponds to difference-to-difference estimator"
   ]
  },
  {
   "cell_type": "code",
   "execution_count": 100,
   "metadata": {
    "collapsed": false
   },
   "outputs": [
    {
     "name": "stdout",
     "output_type": "stream",
     "text": [
      "8.1016503053 5.65645560536e-16\n"
     ]
    }
   ],
   "source": [
    "#calculate t-test for treatment and contolled groups \n",
    "t, p = ttest_ind(treatmentPoor.sc, controlledPoor.sc)\n",
    "print t, p"
   ]
  },
  {
   "cell_type": "markdown",
   "metadata": {
    "collapsed": true
   },
   "source": [
    "This t-est generates a p-value that's vastly less than 0.05, thus we reject the null hypothesis that \n",
    "there is no difference between the treated group and the controlled group. \n"
   ]
  },
  {
   "cell_type": "markdown",
   "metadata": {
    "ein.tags": [
     "worksheet-0"
    ],
    "slideshow": {
     "slide_type": "-"
    }
   },
   "source": [
    "### 2.2 Simple differences: Regression\n",
    "\n",
    "Estimate the effects of Progresa on enrollment using a regression model, by regressing the 1998 enrollment rates **of the poor** on treatment assignment. Discuss the following:\n",
    "\n",
    "* Based on this model, how much did Progresa increase the likelihood of a child enrolling?\n",
    "* How does your regression estimate compare to your t-test estimate from part 2.1?\n",
    "* Based on this regression model, can we reject the null hypothesis that the treatment effects are zero? \n",
    "* What is the counterfactual assumption underlying this regression?"
   ]
  },
  {
   "cell_type": "code",
   "execution_count": 101,
   "metadata": {
    "collapsed": false,
    "scrolled": true
   },
   "outputs": [
    {
     "name": "stdout",
     "output_type": "stream",
     "text": [
      "                            OLS Regression Results                            \n",
      "==============================================================================\n",
      "Dep. Variable:                     sc   R-squared:                       0.127\n",
      "Model:                            OLS   Adj. R-squared:                  0.127\n",
      "Method:                 Least Squares   F-statistic:                     3797.\n",
      "Date:                Fri, 27 Jan 2017   Prob (F-statistic):               0.00\n",
      "Time:                        17:21:51   Log-Likelihood:                 156.25\n",
      "No. Observations:               26155   AIC:                            -308.5\n",
      "Df Residuals:                   26153   BIC:                            -292.2\n",
      "Df Model:                           1                                         \n",
      "Covariance Type:            nonrobust                                         \n",
      "=================================================================================\n",
      "                    coef    std err          t      P>|t|      [95.0% Conf. Int.]\n",
      "---------------------------------------------------------------------------------\n",
      "Intercept         1.0000      0.002    530.545      0.000         0.996     1.004\n",
      "progresa[T.0]    -0.1891      0.003    -61.620      0.000        -0.195    -0.183\n",
      "==============================================================================\n",
      "Omnibus:                    13583.688   Durbin-Watson:                   1.693\n",
      "Prob(Omnibus):                  0.000   Jarque-Bera (JB):            72859.657\n",
      "Skew:                          -2.585   Prob(JB):                         0.00\n",
      "Kurtosis:                       9.334   Cond. No.                         2.43\n",
      "==============================================================================\n",
      "\n",
      "Warnings:\n",
      "[1] Standard Errors assume that the covariance matrix of the errors is correctly specified.\n"
     ]
    }
   ],
   "source": [
    "#filter poor households group in 98\n",
    "grouped3= progressa_df.query('year == 98').query('poor ==\"pobre\"').dropna()\n",
    "#generating a linear regression of enrollment on the treatment\n",
    "#convert treatment from basal to 1 before generating a linear regression\n",
    "grouped3.loc[grouped3['progresa'] == 'basal'] = 1\n",
    "mod = smf.ols(formula='sc ~ progresa', data=grouped3)\n",
    "res = mod.fit()\n",
    "print res.summary() #show the regression summary      \n"
   ]
  },
  {
   "cell_type": "code",
   "execution_count": 102,
   "metadata": {
    "collapsed": false
   },
   "outputs": [
    {
     "name": "stdout",
     "output_type": "stream",
     "text": [
      "                            OLS Regression Results                            \n",
      "==============================================================================\n",
      "Dep. Variable:                     sc   R-squared:                       0.003\n",
      "Model:                            OLS   Adj. R-squared:                  0.002\n",
      "Method:                 Least Squares   F-statistic:                     65.64\n",
      "Date:                Fri, 27 Jan 2017   Prob (F-statistic):           5.66e-16\n",
      "Time:                        17:21:51   Log-Likelihood:                -11171.\n",
      "No. Observations:               26155   AIC:                         2.235e+04\n",
      "Df Residuals:                   26153   BIC:                         2.236e+04\n",
      "Df Model:                           1                                         \n",
      "Covariance Type:            nonrobust                                         \n",
      "=====================================================================================\n",
      "                        coef    std err          t      P>|t|      [95.0% Conf. Int.]\n",
      "-------------------------------------------------------------------------------------\n",
      "Intercept             0.8109      0.004    217.190      0.000         0.804     0.818\n",
      "progresa[T.basal]     0.0383      0.005      8.102      0.000         0.029     0.048\n",
      "==============================================================================\n",
      "Omnibus:                     7487.800   Durbin-Watson:                   1.734\n",
      "Prob(Omnibus):                  0.000   Jarque-Bera (JB):            15756.374\n",
      "Skew:                          -1.796   Prob(JB):                         0.00\n",
      "Kurtosis:                       4.245   Cond. No.                         3.02\n",
      "==============================================================================\n",
      "\n",
      "Warnings:\n",
      "[1] Standard Errors assume that the covariance matrix of the errors is correctly specified.\n"
     ]
    }
   ],
   "source": [
    "#added another version without converting basal to 1\n",
    "#filter poor households group in 98\n",
    "grouped3= progressa_df.query('year == 98').query('poor ==\"pobre\"').dropna()\n",
    "#generating a linear regression of enrollment on the treatment\n",
    "mod = smf.ols(formula='sc ~ progresa', data=grouped3)\n",
    "res = mod.fit()\n",
    "print res.summary() #show the regression summary      \n"
   ]
  },
  {
   "cell_type": "markdown",
   "metadata": {
    "collapsed": true
   },
   "source": [
    "Based on this model, how much did Progresa increase the likelihood of a child enrolling?\n",
    "\n",
    "In this linear regression, progresa is our predictor, and \"sc\" being the target/response variable. The intercept \n",
    "in this regression is essentialy the enrollment rate expected to see an impact caused by progresa. The coefficient estimate shows that progresa tends to go down by 0.18 for every increase in enrollment for the controlled group. Also, I added a second regression that shows that enrollment rate increased for the treatment group by 0.0383.\n",
    "\n",
    "Thus, progresa did impacting a child likelihood of enrolling either from the controlled or the treated group. \n"
   ]
  },
  {
   "cell_type": "markdown",
   "metadata": {},
   "source": [
    "How does your regression estimate compare to your t-test estimate from part 2.1?\n",
    "\n",
    "In 2.1 we concluded that with a p-value less than 0.05 we were able to reject the null hypothesis. With this regression estimate we notice that the soefficient t-value is vastly away from zero. Thus, we can also conclude that we can also reject the null hypothesis. Thus, both the regression estimate and the t-test match when it comes to rejecting the null hypothesis. that is, we could declare that a relationship between enrollment and progresa do exist. "
   ]
  },
  {
   "cell_type": "markdown",
   "metadata": {},
   "source": [
    "Based on this regression model, can we reject the null hypothesis that the treatment effects are zero?\n",
    "\n",
    "We can confirm that a relationship exists between enrollement and treatment. The coefficient estimate shows that progresa tends to go down by 0.18 for every increase in enrollment for controlled group, but we also show an increase in enrollment for the treated group. We would need to perform additional analysis to confirm whether there are no effects. So we can reject the null hypothesis and confirm that the treatment has had an impact on enrollments. "
   ]
  },
  {
   "cell_type": "markdown",
   "metadata": {},
   "source": [
    "What is the counterfactual assumption underlying this regression?\n",
    "\n",
    "This regression may not provide clear assumption. We do know after the treatment, the enrollment frequency rate can be calculated, but the control is not clear. We may have to analyze how each level education are impacted. Is it the location, age, gender, distance from schools etc. Different control conditions imply different counterfactual states and thus induce different causal effects. "
   ]
  },
  {
   "cell_type": "markdown",
   "metadata": {
    "ein.tags": [
     "worksheet-0"
    ],
    "slideshow": {
     "slide_type": "-"
    }
   },
   "source": [
    "### 2.3 Multiple Regression\n",
    "\n",
    "Re-run the above regression estimated but this time include a set of control variables. Include, for instance, age, distance to a secondary school, gender, education of household head, indigenous, etc.\n",
    "\n",
    "* How do the controls affect the point estimate of treatment effect?\n",
    "* How do the controls affect the standard error on the treatment effect? \n",
    "* How do you interpret the differences (or similarities) between your estimates of 2.2 and 2.3?"
   ]
  },
  {
   "cell_type": "code",
   "execution_count": 103,
   "metadata": {
    "autoscroll": "json-false",
    "collapsed": false,
    "ein.tags": [
     "worksheet-0"
    ],
    "scrolled": false,
    "slideshow": {
     "slide_type": "-"
    }
   },
   "outputs": [
    {
     "name": "stdout",
     "output_type": "stream",
     "text": [
      "                            OLS Regression Results                            \n",
      "==============================================================================\n",
      "Dep. Variable:                     sc   R-squared:                       0.405\n",
      "Model:                            OLS   Adj. R-squared:                  0.405\n",
      "Method:                 Least Squares   F-statistic:                     1271.\n",
      "Date:                Fri, 27 Jan 2017   Prob (F-statistic):               0.00\n",
      "Time:                        17:21:52   Log-Likelihood:                 5174.0\n",
      "No. Observations:               26155   AIC:                        -1.032e+04\n",
      "Df Residuals:                   26140   BIC:                        -1.020e+04\n",
      "Df Model:                          14                                         \n",
      "Covariance Type:            nonrobust                                         \n",
      "=================================================================================\n",
      "                    coef    std err          t      P>|t|      [95.0% Conf. Int.]\n",
      "---------------------------------------------------------------------------------\n",
      "Intercept         0.9822      0.010     96.066      0.000         0.962     1.002\n",
      "progresa[T.0]     0.7157      0.019     37.062      0.000         0.678     0.754\n",
      "sex               0.0368      0.004      9.186      0.000         0.029     0.045\n",
      "indig             0.0295      0.005      5.994      0.000         0.020     0.039\n",
      "dist_sec         -0.0059      0.001     -6.433      0.000        -0.008    -0.004\n",
      "grc               0.0521      0.002     32.777      0.000         0.049     0.055\n",
      "fam_n             0.0011      0.001      1.244      0.213        -0.001     0.003\n",
      "min_dist          0.0004   6.73e-05      6.142      0.000         0.000     0.001\n",
      "dist_cap          0.0001   3.66e-05      3.792      0.000      6.71e-05     0.000\n",
      "hohedu            0.0049      0.001      5.473      0.000         0.003     0.007\n",
      "hohwag        -6.744e-06    2.8e-06     -2.409      0.016     -1.22e-05 -1.26e-06\n",
      "welfare_index  3.938e-05   1.86e-05      2.120      0.034      2.98e-06  7.58e-05\n",
      "hohsex            0.0066      0.008      0.832      0.405        -0.009     0.022\n",
      "hohage           -0.0002      0.000     -1.240      0.215        -0.001     0.000\n",
      "age              -0.1077      0.001    -82.659      0.000        -0.110    -0.105\n",
      "==============================================================================\n",
      "Omnibus:                     7651.370   Durbin-Watson:                   1.711\n",
      "Prob(Omnibus):                  0.000   Jarque-Bera (JB):            42765.674\n",
      "Skew:                          -1.295   Prob(JB):                         0.00\n",
      "Kurtosis:                       8.704   Cond. No.                     1.05e+04\n",
      "==============================================================================\n",
      "\n",
      "Warnings:\n",
      "[1] Standard Errors assume that the covariance matrix of the errors is correctly specified.\n",
      "[2] The condition number is large, 1.05e+04. This might indicate that there are\n",
      "strong multicollinearity or other numerical problems.\n"
     ]
    }
   ],
   "source": [
    "#filter poor households group in 98\n",
    "grouped4 = progressa_df.query('year == 98').query('poor ==\"pobre\"').dropna()\n",
    "#convert treatment from basal to 1 before generating a linear regression\n",
    "grouped4.loc[grouped4['progresa'] == 'basal'] = 1\n",
    "#generating the miulitple linear regression\n",
    "mod = smf.ols(formula='sc ~ progresa + sex + indig+ dist_sec + grc + fam_n + min_dist + dist_cap+ hohedu + hohwag + welfare_index + hohsex + hohage + age', data=grouped4)\n",
    "res = mod.fit()\n",
    "print res.summary() #generate a summary regression \n"
   ]
  },
  {
   "cell_type": "code",
   "execution_count": 104,
   "metadata": {
    "collapsed": false
   },
   "outputs": [
    {
     "name": "stdout",
     "output_type": "stream",
     "text": [
      "                            OLS Regression Results                            \n",
      "==============================================================================\n",
      "Dep. Variable:                     sc   R-squared:                       0.297\n",
      "Model:                            OLS   Adj. R-squared:                  0.297\n",
      "Method:                 Least Squares   F-statistic:                     789.3\n",
      "Date:                Fri, 27 Jan 2017   Prob (F-statistic):               0.00\n",
      "Time:                        17:21:52   Log-Likelihood:                -6593.5\n",
      "No. Observations:               26155   AIC:                         1.322e+04\n",
      "Df Residuals:                   26140   BIC:                         1.334e+04\n",
      "Df Model:                          14                                         \n",
      "Covariance Type:            nonrobust                                         \n",
      "=====================================================================================\n",
      "                        coef    std err          t      P>|t|      [95.0% Conf. Int.]\n",
      "-------------------------------------------------------------------------------------\n",
      "Intercept             1.6518      0.020     82.259      0.000         1.612     1.691\n",
      "progresa[T.basal]     0.0317      0.004      7.935      0.000         0.024     0.040\n",
      "sex                   0.0334      0.004      8.671      0.000         0.026     0.041\n",
      "indig                 0.0293      0.005      6.172      0.000         0.020     0.039\n",
      "dist_sec             -0.0067      0.001     -7.270      0.000        -0.009    -0.005\n",
      "grc                   0.0501      0.002     32.645      0.000         0.047     0.053\n",
      "fam_n                 0.0013      0.001      1.449      0.147        -0.000     0.003\n",
      "min_dist              0.0004   6.36e-05      5.567      0.000         0.000     0.000\n",
      "dist_cap              0.0002   3.68e-05      4.957      0.000         0.000     0.000\n",
      "hohedu                0.0040      0.001      4.638      0.000         0.002     0.006\n",
      "hohwag            -2.502e-06    2.8e-06     -0.895      0.371     -7.98e-06  2.98e-06\n",
      "welfare_index     -1.781e-05   1.82e-05     -0.980      0.327     -5.34e-05  1.78e-05\n",
      "hohsex                0.0055      0.008      0.707      0.479        -0.010     0.021\n",
      "hohage               -0.0003      0.000     -1.309      0.191        -0.001     0.000\n",
      "age                  -0.0993      0.001    -79.104      0.000        -0.102    -0.097\n",
      "==============================================================================\n",
      "Omnibus:                     3255.678   Durbin-Watson:                   1.733\n",
      "Prob(Omnibus):                  0.000   Jarque-Bera (JB):             4618.939\n",
      "Skew:                          -0.975   Prob(JB):                         0.00\n",
      "Kurtosis:                       3.659   Cond. No.                     1.09e+04\n",
      "==============================================================================\n",
      "\n",
      "Warnings:\n",
      "[1] Standard Errors assume that the covariance matrix of the errors is correctly specified.\n",
      "[2] The condition number is large, 1.09e+04. This might indicate that there are\n",
      "strong multicollinearity or other numerical problems.\n"
     ]
    }
   ],
   "source": [
    "#redo the same but without changing basal to 1\n",
    "#filter poor households group in 98\n",
    "grouped4 = progressa_df.query('year == 98').query('poor ==\"pobre\"').dropna()\n",
    "#generating the miulitple linear regression\n",
    "mod = smf.ols(formula='sc ~ progresa + sex + indig+ dist_sec + grc + fam_n + min_dist + dist_cap+ hohedu + hohwag + welfare_index + hohsex + hohage + age', data=grouped4)\n",
    "res = mod.fit()\n",
    "print res.summary() #generate a summary regression \n"
   ]
  },
  {
   "cell_type": "markdown",
   "metadata": {},
   "source": [
    "How do the controls affect the point estimate of treatment effect?\n",
    "\n",
    "The coefficient estimate contains fifteens rows or fifteen contols.Each will have an impact on the treatment. As we add or remove control variables the point estimate of the treatment is affected. The intercept, in this linear regression, is essentially the expected value of the enrollement required to experience any form of impact on the treatment when considering multiple variables such as age, distance, gender etc. In this case, it takes on average 0.9822 for a school enrollment that has a treatment that's effective. "
   ]
  },
  {
   "cell_type": "markdown",
   "metadata": {},
   "source": [
    "How do the controls affect the standard error on the treatment effect?\n",
    "\n",
    "Ideally, the standard error gives an estimate of the expected difference in case we ran the model again and again. \n",
    "In other words, we can say that the required treatment to affect an enrollment vary by  a std error of 0.019. \n",
    "Also, the standard error can be used to compute confidence intervals and to statistically test the hypothesis \n",
    "of the existence of a relationship between enrollment (increase or decrease) and a given treatment.\n"
   ]
  },
  {
   "cell_type": "markdown",
   "metadata": {},
   "source": [
    "How do you interpret the differences (or similarities) between your estimates of 2.2 and 2.3?\n",
    "\n",
    "In 2.2 which was a single linear regression, our estimate shows that progresa(treatment) tends to go down by 0.18 for every increase in enrollment. While in 2.3 or the multi linear regression, our estimate shows that progresa(treatment) tends to increase by  0.7157 for every increase in enrollment. Thus, we can conclude that the addition of additional control variables like sex, dist_sec, etc in the multi regression have made a significant impact into improving the possibility of enrollment. "
   ]
  },
  {
   "cell_type": "markdown",
   "metadata": {
    "ein.tags": [
     "worksheet-0"
    ],
    "slideshow": {
     "slide_type": "-"
    }
   },
   "source": [
    "### 2.4 Difference-in-Difference, version 1 (tabular)\n",
    "\n",
    "Thus far, we have computed the effects of Progresa by estimating the difference in 1998 enrollment rates across villages. An alternative approach would be to compute the treatment effect using a difference-in-differences framework.\n",
    "\n",
    "Begin by estimating the average treatment effects of the program for poor households using data from 1997 and 1998. Specifically, calculate the difference (between 1997 and 1998) in enrollment rates among poor households in treated villages; then compute the difference (between 1997 and 1998) in enrollment rates among poor households in treated villages. The difference between these two differences is your estimate.\n",
    "\n",
    "* What is your estimate of the impact, and how does it compare to your earlier (simple difference) results?\n",
    "* What is the counterfactual assumption underlying this estimate? \n"
   ]
  },
  {
   "cell_type": "code",
   "execution_count": 105,
   "metadata": {
    "autoscroll": "json-false",
    "collapsed": false,
    "ein.tags": [
     "worksheet-0"
    ],
    "slideshow": {
     "slide_type": "-"
    }
   },
   "outputs": [
    {
     "data": {
      "text/plain": [
       "0.021763984968193095"
      ]
     },
     "execution_count": 105,
     "metadata": {},
     "output_type": "execute_result"
    }
   ],
   "source": [
    "# calculate the difference (between 1997 and 1998) in enrollment rates among poor households in treated village\n",
    "enrolledTreatmentPoor = progressa_df.query('progresa ==\"basal\"').query('poor ==\"pobre\"').dropna()\n",
    "grouped5 =  enrolledTreatmentPoor.query('year >= 97 and year <= 98')\n",
    "grouped5.sc.mean()\n",
    "\n",
    "# calculate the difference (between 1997 and 1998) in enrollment rates among poor households in controlled village\n",
    "controlledPoor = progressa_df.query('progresa == \"0\"').query('poor ==\"pobre\"').dropna()\n",
    "grouped6 = controlledPoor.query('year >= 97 and year <= 98')\n",
    "grouped6.sc.mean()\n",
    "\n",
    "# compute the estimate difference in difference between controlled and treated group\n",
    "estimate = grouped5.sc.mean() - grouped6.sc.mean()\n",
    "estimate\n"
   ]
  },
  {
   "cell_type": "markdown",
   "metadata": {},
   "source": [
    "What is your estimate of the impact, and how does it compare to your earlier (simple difference) results?\n",
    "\n",
    "In 2.4, we split a population of potential people that might enrolled in school in two groups. One, is the control group that has not been affected by progresa. The other was affected by progresa: they are the treatment group. Essentially, the Difference-in-Difference will capture the fact that the real effect of the progresa is not directly measurable in terms of how many people who were impacted by progresa ended up enrolling in school. Ideally, we want to know if these people did better than the ones who were not impacted by progresa. \n",
    "\n",
    "In simple difference, we only have the treatment group and noticed that progresa (treatment) tends to go down by 0.18 for every increase in enrollment. In the difference-in-difference between the conroled and treated group, we notice that enrollment rose in treatment group relative to the controlled group. "
   ]
  },
  {
   "cell_type": "markdown",
   "metadata": {},
   "source": [
    "What is the counterfactual assumption underlying this estimate?\n",
    "\n",
    "We don’t know the outcome of the treatment group when they weren’t treated. In other words, we don't know how enrollment would have been impacted when treated group was not under the impact of progresa. But we do know that the difference in estimation between treated and controled group was around 0.0217. We assume that this difference is fixed over time. If we were to repeat the same experiment in 1999, we hope to have a similar difference between the treated and controlled group. \n"
   ]
  },
  {
   "cell_type": "markdown",
   "metadata": {
    "ein.tags": [
     "worksheet-0"
    ],
    "slideshow": {
     "slide_type": "-"
    }
   },
   "source": [
    "### 2.5 Difference-in-Difference, version 1 (regression)\n",
    "\n",
    "Now use a regression specification to estimate the average treatment effect of the program (on the poor) in a difference-in-differences framework. Include at least 5 control variables.\n",
    "\n",
    "* What is your estimate of the impact of Progresa? Be very specific in interpreting your coefficients and standard errors, and make sure to specify exactly what units you are measuring and estimating.\n",
    "* How do these estimates of the treatment effect compare to the estimates based on the simple difference?\n",
    "* How do these estimates compare to the difference-in-difference estimates from 2.4 above? What accounts for these differences?\n",
    "* What is the counterfactual assumption underlying this regression? "
   ]
  },
  {
   "cell_type": "code",
   "execution_count": 106,
   "metadata": {
    "autoscroll": "json-false",
    "collapsed": false,
    "ein.tags": [
     "worksheet-0"
    ],
    "scrolled": false,
    "slideshow": {
     "slide_type": "-"
    }
   },
   "outputs": [
    {
     "name": "stdout",
     "output_type": "stream",
     "text": [
      "                            OLS Regression Results                            \n",
      "==============================================================================\n",
      "Dep. Variable:                     sc   R-squared:                       0.308\n",
      "Model:                            OLS   Adj. R-squared:                  0.308\n",
      "Method:                 Least Squares   F-statistic:                     1582.\n",
      "Date:                Fri, 27 Jan 2017   Prob (F-statistic):               0.00\n",
      "Time:                        17:21:53   Log-Likelihood:                -14983.\n",
      "No. Observations:               56893   AIC:                         3.000e+04\n",
      "Df Residuals:                   56876   BIC:                         3.015e+04\n",
      "Df Model:                          16                                         \n",
      "Covariance Type:            nonrobust                                         \n",
      "======================================================================================\n",
      "                         coef    std err          t      P>|t|      [95.0% Conf. Int.]\n",
      "--------------------------------------------------------------------------------------\n",
      "Intercept              1.6165      0.014    119.320      0.000         1.590     1.643\n",
      "progresa[T.0]         -0.0032      0.004     -0.876      0.381        -0.011     0.004\n",
      "year                   0.0573      0.003     16.981      0.000         0.051     0.064\n",
      "year:progresa[T.0]    -0.0289      0.005     -5.288      0.000        -0.040    -0.018\n",
      "sex                    0.0367      0.003     13.885      0.000         0.032     0.042\n",
      "indig                  0.0328      0.003     10.107      0.000         0.026     0.039\n",
      "dist_sec              -0.0061      0.001     -9.643      0.000        -0.007    -0.005\n",
      "grc                    0.0481      0.001     46.587      0.000         0.046     0.050\n",
      "fam_n                  0.0008      0.001      1.302      0.193        -0.000     0.002\n",
      "min_dist               0.0003   4.36e-05      7.547      0.000         0.000     0.000\n",
      "dist_cap               0.0002   2.52e-05      7.100      0.000         0.000     0.000\n",
      "hohedu                 0.0036      0.001      6.107      0.000         0.002     0.005\n",
      "hohwag               5.54e-08   1.91e-06      0.029      0.977     -3.69e-06  3.81e-06\n",
      "welfare_index      -1.628e-05   1.25e-05     -1.306      0.192     -4.07e-05  8.15e-06\n",
      "hohsex                -0.0016      0.005     -0.309      0.757        -0.012     0.009\n",
      "hohage             -2.233e-05      0.000     -0.166      0.868        -0.000     0.000\n",
      "age                   -0.0979      0.001   -117.883      0.000        -0.100    -0.096\n",
      "==============================================================================\n",
      "Omnibus:                     6075.009   Durbin-Watson:                   1.512\n",
      "Prob(Omnibus):                  0.000   Jarque-Bera (JB):             8202.108\n",
      "Skew:                          -0.897   Prob(JB):                         0.00\n",
      "Kurtosis:                       3.490   Cond. No.                     1.08e+04\n",
      "==============================================================================\n",
      "\n",
      "Warnings:\n",
      "[1] Standard Errors assume that the covariance matrix of the errors is correctly specified.\n",
      "[2] The condition number is large, 1.08e+04. This might indicate that there are\n",
      "strong multicollinearity or other numerical problems.\n"
     ]
    }
   ],
   "source": [
    "import statsmodels.formula.api as smf\n",
    "grouped7 = progressa_df.query('poor ==\"pobre\"').dropna()\n",
    "#convert treatment from basal to 1 before generating a linear regression\n",
    "grouped7.loc[grouped7['progresa'] == 'basal', 'progresa'] = 1\n",
    "#convert year from 98 to 1 and 97 to 0\n",
    "grouped7.loc[grouped7['year'] == 98, 'year'] = 1\n",
    "grouped7.loc[grouped7['year'] == 97, 'year'] = 0\n",
    "#generate a linear regression \n",
    "mod = smf.ols(formula='sc ~ year*progresa + sex + indig+ dist_sec + grc + fam_n + min_dist + dist_cap+ hohedu + hohwag + welfare_index + hohsex + hohage + age ', data=grouped7)\n",
    "res = mod.fit()\n",
    "print res.summary()"
   ]
  },
  {
   "cell_type": "code",
   "execution_count": 107,
   "metadata": {
    "collapsed": false
   },
   "outputs": [
    {
     "name": "stdout",
     "output_type": "stream",
     "text": [
      "                            OLS Regression Results                            \n",
      "==============================================================================\n",
      "Dep. Variable:                     sc   R-squared:                       0.308\n",
      "Model:                            OLS   Adj. R-squared:                  0.308\n",
      "Method:                 Least Squares   F-statistic:                     1582.\n",
      "Date:                Fri, 27 Jan 2017   Prob (F-statistic):               0.00\n",
      "Time:                        17:21:53   Log-Likelihood:                -14983.\n",
      "No. Observations:               56893   AIC:                         3.000e+04\n",
      "Df Residuals:                   56876   BIC:                         3.015e+04\n",
      "Df Model:                          16                                         \n",
      "Covariance Type:            nonrobust                                         \n",
      "==========================================================================================\n",
      "                             coef    std err          t      P>|t|      [95.0% Conf. Int.]\n",
      "------------------------------------------------------------------------------------------\n",
      "Intercept                 -1.1415      0.421     -2.712      0.007        -1.966    -0.317\n",
      "progresa[T.basal]         -2.7988      0.532     -5.257      0.000        -3.842    -1.755\n",
      "year                       0.0284      0.004      6.579      0.000         0.020     0.037\n",
      "year:progresa[T.basal]     0.0289      0.005      5.288      0.000         0.018     0.040\n",
      "sex                        0.0367      0.003     13.885      0.000         0.032     0.042\n",
      "indig                      0.0328      0.003     10.107      0.000         0.026     0.039\n",
      "dist_sec                  -0.0061      0.001     -9.643      0.000        -0.007    -0.005\n",
      "grc                        0.0481      0.001     46.587      0.000         0.046     0.050\n",
      "fam_n                      0.0008      0.001      1.302      0.193        -0.000     0.002\n",
      "min_dist                   0.0003   4.36e-05      7.547      0.000         0.000     0.000\n",
      "dist_cap                   0.0002   2.52e-05      7.100      0.000         0.000     0.000\n",
      "hohedu                     0.0036      0.001      6.107      0.000         0.002     0.005\n",
      "hohwag                   5.54e-08   1.91e-06      0.029      0.977     -3.69e-06  3.81e-06\n",
      "welfare_index          -1.628e-05   1.25e-05     -1.306      0.192     -4.07e-05  8.15e-06\n",
      "hohsex                    -0.0016      0.005     -0.309      0.757        -0.012     0.009\n",
      "hohage                 -2.233e-05      0.000     -0.166      0.868        -0.000     0.000\n",
      "age                       -0.0979      0.001   -117.883      0.000        -0.100    -0.096\n",
      "==============================================================================\n",
      "Omnibus:                     6075.009   Durbin-Watson:                   1.512\n",
      "Prob(Omnibus):                  0.000   Jarque-Bera (JB):             8202.108\n",
      "Skew:                          -0.897   Prob(JB):                         0.00\n",
      "Kurtosis:                       3.490   Cond. No.                     5.08e+05\n",
      "==============================================================================\n",
      "\n",
      "Warnings:\n",
      "[1] Standard Errors assume that the covariance matrix of the errors is correctly specified.\n",
      "[2] The condition number is large, 5.08e+05. This might indicate that there are\n",
      "strong multicollinearity or other numerical problems.\n"
     ]
    }
   ],
   "source": [
    "#redo the same as above without the conversion for basal and year\n",
    "import statsmodels.formula.api as smf\n",
    "grouped7 = progressa_df.query('poor ==\"pobre\"').dropna()\n",
    "#generate a linear regression \n",
    "mod = smf.ols(formula='sc ~ year*progresa + sex + indig+ dist_sec + grc + fam_n + min_dist + dist_cap+ hohedu + hohwag + welfare_index + hohsex + hohage + age ', data=grouped7)\n",
    "res = mod.fit()\n",
    "print res.summary()"
   ]
  },
  {
   "cell_type": "markdown",
   "metadata": {},
   "source": [
    "What is your estimate of the impact of Progresa? Be very specific in interpreting your coefficients and standard errors, and make sure to specify exactly what units you are measuring and estimating.\n",
    "\n",
    "The intercept, in this linear regression, is essentially the expected value of the enrollement required to experience any form of impact on the treatment when considering multiple variables such as age, distance, gender etc. In this case, enrollment rate of youth to attend school appears to increase by 1.6165. \n",
    "\n",
    "The standard error can be used to compute an estimate of the expected difference in case we ran the model again and again. In other words, we can say that the required length of time to identify impact on enrollment can vary by 0.003 years. "
   ]
  },
  {
   "cell_type": "markdown",
   "metadata": {
    "collapsed": true
   },
   "source": [
    "How do these estimates of the treatment effect compare to the estimates based on the simple difference?\n",
    "\n",
    "In simple difference, we only have the treatment group and noticed that progresa (treatment) tends to go down by 0.18 for every increase in enrollment. In 2.5, we generated a linear regression based on the difference-in-difference. We generated a cross-sectional regression between year and progresa as such, treatControl = year * treatment. The cross-sectional came at -0.0289 or 0.0289 when not converting the variables to either 0 0r 1.Thus, in both we a decrease in enrollment that could be an effect of the control group. Or an increased in enrollment for the treated group. \n"
   ]
  },
  {
   "cell_type": "markdown",
   "metadata": {
    "collapsed": true
   },
   "source": [
    "How do these estimates compare to the difference-in-difference estimates from 2.4 above? What accounts for these differences?\n",
    "\n",
    "In 2.5, we generated a linear regression based on the difference-in-difference. We generated a cross-sectional regression between year and progresa as such, treatControl = year * treatment. Ideally, the coefficient estimated for the cross-sectional values should be close to the manual DID calculation. The cross-sectional came at 0.0289. And the manual DiD came to be at: 0.021763984968193095 or -0.021763984968193095 depending if the difference is done from treatement minus controlled or vice-versa. In any case, the estimate done in 2.4 and in 2.5 are not that far off. \n",
    "\n",
    "The differences can be related to variables that were not accounted for and or were missing in the assessment. \n"
   ]
  },
  {
   "cell_type": "markdown",
   "metadata": {
    "collapsed": true
   },
   "source": [
    "What is the counterfactual assumption underlying this regression?\n",
    "\n",
    "We don’t know the outcome of the treatment group for the time where they were not under the supervision of any type of treatment. In other words, we don't know how enrollment would have been impacted when treated group was not under the impact of progresa. But we do know based on the cross-sectional regression that for every increase in enrollment, year * treatment tends to decrease in the controlled group. We assume that this trend is fixed over time. If we were to repeat the same experiment in 2001, we hope to have a similar trends in the increase of enrollment. "
   ]
  },
  {
   "cell_type": "markdown",
   "metadata": {
    "ein.tags": [
     "worksheet-0"
    ],
    "slideshow": {
     "slide_type": "-"
    }
   },
   "source": [
    "### 2.6 Difference-in-Difference, version 2\n",
    "\n",
    "In the previous problem, you estimated a difference-in-differences model that compared changes in enrollment rates over time across treatment and control villages. An alternative approach would be to compare enrollment rates in 1998 between poor and non-poor across treatment and control villages. \n",
    "\n",
    "* How would we estimate this version of the treatment effects in a regression model? \n",
    "* What is the counterfactual assumption underlying this regression?\n",
    "* How do these treatment effects compare to the estimates above?\n",
    "* Discuss some possible explanations for differences or similarities "
   ]
  },
  {
   "cell_type": "code",
   "execution_count": 108,
   "metadata": {
    "autoscroll": "json-false",
    "collapsed": false,
    "ein.tags": [
     "worksheet-0"
    ],
    "slideshow": {
     "slide_type": "-"
    }
   },
   "outputs": [
    {
     "name": "stdout",
     "output_type": "stream",
     "text": [
      "0.00888518210822\n"
     ]
    }
   ],
   "source": [
    "# calculate the difference  in enrollment rates among poor households in treated village in 1998\n",
    "enrolledTreatmentPoor98 = progressa_df.query('progresa ==\"basal\"').query('year == 98').dropna()\n",
    "#poor treatment group\n",
    "grouped8 =  enrolledTreatmentPoor98.query('poor ==\"pobre\"')\n",
    "#non-poor treatment group \n",
    "grouped9 =  enrolledTreatmentPoor98.query('poor ==\"no pobre\"')\n",
    "\n",
    "# calculate the difference  in enrollment rates among poor households in controlled village in 1998\n",
    "controlledPoor98 = progressa_df.query('progresa == \"0\"').query('year == 98').dropna()\n",
    "#poor treatment group \n",
    "grouped10 = controlledPoor98.query('poor ==\"pobre\"')\n",
    "#non-poor treatment group \n",
    "grouped11 =  controlledPoor98.query('poor ==\"no pobre\"')\n",
    "\n",
    "# compute the estimate of the average treatment effects of the program for poor and non-poor households\n",
    "estimate = (grouped8.sc.mean() - grouped9.sc.mean()) - (grouped10.sc.mean() - grouped11.sc.mean())\n",
    "print estimate\n"
   ]
  },
  {
   "cell_type": "markdown",
   "metadata": {},
   "source": [
    "How would we estimate this version of the treatment effects in a regression model?\n",
    "\n",
    "As seen previously, the coefficient estimated for the cross-sectional values was close to the manual DiD calculation. Thus, we expect in the case of a cross-sectional regression, the coefficient estimation should be close to 0.008885182108223755. "
   ]
  },
  {
   "cell_type": "markdown",
   "metadata": {},
   "source": [
    "What is the counterfactual assumption underlying this regression?\n",
    "\n",
    "We don’t know the outcome of the treatment group for the time where they were not under the supervision of any type of treatment. In other words, we don't know how enrollment would have been impacted when treated group was not under the impact of progresa. But we do know based on the DiD of the controlled grouped against the treated group for poor and non-poor tthat there is an increase of 0.008885182108223755 in enrollment. We assume that this trend is fixed over time, so if we were to repeat the same experiment in 2001, we hope to have a similar trends in the increase of enrollment."
   ]
  },
  {
   "cell_type": "markdown",
   "metadata": {},
   "source": [
    "How do these treatment effects compare to the estimates above?\n",
    "\n",
    "When non poor households are added into either the controlled or treated group, we see an increase in the individual treatment or controlled group. However, the overall Difference-in-Difference between the two groups show a huge drop in the enrollment rate. It is important to note that there is still a positive trends in the enrollment, but it is just a lower increase trend when compare to the case where we did not have the non-poor households.  \n"
   ]
  },
  {
   "cell_type": "markdown",
   "metadata": {},
   "source": [
    "Discuss some possible explanations for differences or similarities\n",
    "\n",
    "Possible scenarios can be the reason of this difference, and one possible scenario could be related to the possibility of misclassification between poor and non-poor households. It is quite possible that hanges in the classification may have caused bias to be added into how the data was collected. We don't know if classification may have taken place before or after the treatments and or some households have moved from poor to non-poor and vice-versa. \n"
   ]
  },
  {
   "cell_type": "markdown",
   "metadata": {
    "ein.tags": [
     "worksheet-0"
    ],
    "slideshow": {
     "slide_type": "-"
    }
   },
   "source": [
    "### 2.7 Spillover effects (extra credit)\n",
    "\n",
    "Thus far, we have focused on the impact of PROGRESA on poor households. Repeat your analysis in 2.5, using a double-difference regression to estimate the impact of PROGRESA on non-poor households. In other words, compare the difference in enrollments between 1997 and 1998 for non-poor households in treatment villages with the difference in enrollments between 1997 and 1998 for non-poor households in control villages.\n",
    "\n",
    "* A: Describe one or two reasons why PROGRESA might have impacted non-poor households.\n",
    "* B: Do you observe any impacts of PROGRESA on the non-poor?\n",
    "* C: What is the identifying assumption that you are using to estimate the impact of PROGRESA on non-poor households."
   ]
  },
  {
   "cell_type": "markdown",
   "metadata": {
    "autoscroll": "json-false",
    "collapsed": false,
    "ein.tags": [
     "worksheet-0"
    ],
    "scrolled": true,
    "slideshow": {
     "slide_type": "-"
    }
   },
   "source": [
    "No-Time to work on this. "
   ]
  },
  {
   "cell_type": "markdown",
   "metadata": {
    "ein.tags": [
     "worksheet-0"
    ],
    "slideshow": {
     "slide_type": "-"
    }
   },
   "source": [
    "### 2.8 Summary\n",
    "\n",
    "Based on all the analysis you have undertaken to date, do you thik that Progresa had a causal impact on the enrollment rates of poor households in Mexico?"
   ]
  },
  {
   "cell_type": "markdown",
   "metadata": {},
   "source": [
    "Yes, my observation is that progresa has an impact into enrollment rates of poor households. Most of the analysis done showed an increase in enrollment rate for mainly poor households. There is substantial evidence to support the claim that this program has had a positive impact in improving school's enrollment among youth in Mexico. \n",
    "\n",
    "One concern though there is a drop in enrollment for higher level of education. It could be that most people have had the basic level of education and were able to find jobs, thus they were not as concerned as enrolling to further education. This is understable as the participants come from poor rural areas. "
   ]
  }
 ],
 "metadata": {
  "anaconda-cloud": {},
  "kernelspec": {
   "display_name": "Python [default]",
   "language": "python",
   "name": "python2"
  },
  "name": "INFX574-PS2.ipynb"
 },
 "nbformat": 4,
 "nbformat_minor": 2
}
