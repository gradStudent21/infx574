{
 "cells": [
  {
   "cell_type": "markdown",
   "metadata": {},
   "source": [
    "# Problem Set 1, due January 13th at 12:00pm \n",
    "(in other words, it is due at noon, or one minute after 11:59am).\n",
    "\n",
    "###Before You Start\n",
    "Make sure to at least take a basic tutorial in the IPython notebook, otherwise you'll be totally lost.  For this problem set, you should download INFX574-PS1.ipynb and the flights.zip dataset from Canvas. Create a local copy of the notebook and rename it LASTNAME_FIRSTNAME-PS1.ipynb. Then edit your renamed file directly in your browser by typing:\n",
    "```\n",
    "ipython notebook <name_of_downloaded_file>\n",
    "```\n",
    "\n",
    "You should also make sure the following libraries load correctly (click on the box below and hit Ctrl-Enter)"
   ]
  },
  {
   "cell_type": "code",
   "execution_count": 2,
   "metadata": {
    "collapsed": false,
    "scrolled": true
   },
   "outputs": [
    {
     "name": "stdout",
     "output_type": "stream",
     "text": [
      "Pierre Augustamar\n",
      "January 17\n",
      "INFX 574 A\n",
      "Problem Se1 1\n"
     ]
    }
   ],
   "source": [
    "print 'Pierre Augustamar'\n",
    "print 'January 17'\n",
    "print 'INFX 574 A'\n",
    "print 'Problem Se1 1'"
   ]
  },
  {
   "cell_type": "code",
   "execution_count": 3,
   "metadata": {
    "collapsed": false
   },
   "outputs": [
    {
     "name": "stdout",
     "output_type": "stream",
     "text": [
      "IPython version:       5.1.0 (need at least 1.0)\n",
      "Numpy version:        1.11.3 (need at least 1.7.1)\n",
      "SciPy version:        0.18.1 (need at least 0.12.0)\n",
      "Pandas version:       0.19.2 (need at least 0.11.0)\n",
      "Mapltolib version:     1.5.3 (need at least 1.2.1)\n",
      "Scikit-Learn version: 0.18.1 (need at least 0.13.1)\n"
     ]
    }
   ],
   "source": [
    "#IPython is what you are using now to run the notebook\n",
    "import IPython\n",
    "print \"IPython version:      %6.6s (need at least 1.0)\" % IPython.__version__\n",
    "\n",
    "# Numpy is a library for working with Arrays\n",
    "import numpy as np\n",
    "print \"Numpy version:        %6.6s (need at least 1.7.1)\" % np.__version__\n",
    "\n",
    "# SciPy implements many different numerical algorithms\n",
    "import scipy as sp\n",
    "print \"SciPy version:        %6.6s (need at least 0.12.0)\" % sp.__version__\n",
    "\n",
    "# Pandas makes working with data tables easier\n",
    "import pandas as pd\n",
    "print \"Pandas version:       %6.6s (need at least 0.11.0)\" % pd.__version__\n",
    "\n",
    "# Module for plotting\n",
    "import matplotlib\n",
    "print \"Mapltolib version:    %6.6s (need at least 1.2.1)\" % matplotlib.__version__\n",
    "\n",
    "# SciKit Learn implements several Machine Learning algorithms\n",
    "import sklearn\n",
    "print \"Scikit-Learn version: %6.6s (need at least 0.13.1)\" % sklearn.__version__"
   ]
  },
  {
   "cell_type": "markdown",
   "metadata": {},
   "source": [
    "##About the Problem Set: \n",
    "This is the same problem set used by Emma Spiro in INFX573. The only difference is that instead of doing the problem set in R, you will use Python and the IPython notebook.\n",
    "\n",
    "##Instructions: \n",
    "In this problem set you will perform a basic exploratory analysis on an example dataset, bringing to bear all of your new skills in data manipulation and visualization. You will be required to submit well commented python code, documenting all code used in this problem set, along with a write up answering all questions below. Use figures as appropriate to support your answers, and when required by the problem. \n",
    "This data set uses the NYCFlights13 dataset. You can download the dataset from canvas."
   ]
  },
  {
   "cell_type": "code",
   "execution_count": 4,
   "metadata": {
    "collapsed": false
   },
   "outputs": [],
   "source": [
    "import pandas as pd\n",
    "import numpy as np\n",
    "import matplotlib.pyplot as plt"
   ]
  },
  {
   "cell_type": "code",
   "execution_count": 5,
   "metadata": {
    "collapsed": false
   },
   "outputs": [],
   "source": [
    "flights_df= pd.read_csv('flights.csv')"
   ]
  },
  {
   "cell_type": "code",
   "execution_count": 6,
   "metadata": {
    "collapsed": false
   },
   "outputs": [
    {
     "name": "stdout",
     "output_type": "stream",
     "text": [
      "(336776, 17)\n",
      "Index([u'Unnamed: 0', u'year', u'month', u'day', u'dep_time', u'dep_delay',\n",
      "       u'arr_time', u'arr_delay', u'carrier', u'tailnum', u'flight', u'origin',\n",
      "       u'dest', u'air_time', u'distance', u'hour', u'minute'],\n",
      "      dtype='object')\n",
      "Unnamed: 0      int64\n",
      "year            int64\n",
      "month           int64\n",
      "day             int64\n",
      "dep_time      float64\n",
      "dep_delay     float64\n",
      "arr_time      float64\n",
      "arr_delay     float64\n",
      "carrier        object\n",
      "tailnum        object\n",
      "flight          int64\n",
      "origin         object\n",
      "dest           object\n",
      "air_time      float64\n",
      "distance        int64\n",
      "hour          float64\n",
      "minute        float64\n",
      "dtype: object\n"
     ]
    }
   ],
   "source": [
    "print flights_df.shape\n",
    "print flights_df.columns\n",
    "print flights_df.dtypes"
   ]
  },
  {
   "cell_type": "code",
   "execution_count": 7,
   "metadata": {
    "collapsed": false
   },
   "outputs": [
    {
     "data": {
      "text/html": [
       "<div>\n",
       "<table border=\"1\" class=\"dataframe\">\n",
       "  <thead>\n",
       "    <tr style=\"text-align: right;\">\n",
       "      <th></th>\n",
       "      <th>Unnamed: 0</th>\n",
       "      <th>year</th>\n",
       "      <th>month</th>\n",
       "      <th>day</th>\n",
       "      <th>dep_time</th>\n",
       "      <th>dep_delay</th>\n",
       "      <th>arr_time</th>\n",
       "      <th>arr_delay</th>\n",
       "      <th>carrier</th>\n",
       "      <th>tailnum</th>\n",
       "      <th>flight</th>\n",
       "      <th>origin</th>\n",
       "      <th>dest</th>\n",
       "      <th>air_time</th>\n",
       "      <th>distance</th>\n",
       "      <th>hour</th>\n",
       "      <th>minute</th>\n",
       "    </tr>\n",
       "  </thead>\n",
       "  <tbody>\n",
       "    <tr>\n",
       "      <th>0</th>\n",
       "      <td>1</td>\n",
       "      <td>2013</td>\n",
       "      <td>1</td>\n",
       "      <td>1</td>\n",
       "      <td>517.0</td>\n",
       "      <td>2.0</td>\n",
       "      <td>830.0</td>\n",
       "      <td>11.0</td>\n",
       "      <td>UA</td>\n",
       "      <td>N14228</td>\n",
       "      <td>1545</td>\n",
       "      <td>EWR</td>\n",
       "      <td>IAH</td>\n",
       "      <td>227.0</td>\n",
       "      <td>1400</td>\n",
       "      <td>5.0</td>\n",
       "      <td>17.0</td>\n",
       "    </tr>\n",
       "    <tr>\n",
       "      <th>1</th>\n",
       "      <td>2</td>\n",
       "      <td>2013</td>\n",
       "      <td>1</td>\n",
       "      <td>1</td>\n",
       "      <td>533.0</td>\n",
       "      <td>4.0</td>\n",
       "      <td>850.0</td>\n",
       "      <td>20.0</td>\n",
       "      <td>UA</td>\n",
       "      <td>N24211</td>\n",
       "      <td>1714</td>\n",
       "      <td>LGA</td>\n",
       "      <td>IAH</td>\n",
       "      <td>227.0</td>\n",
       "      <td>1416</td>\n",
       "      <td>5.0</td>\n",
       "      <td>33.0</td>\n",
       "    </tr>\n",
       "    <tr>\n",
       "      <th>2</th>\n",
       "      <td>3</td>\n",
       "      <td>2013</td>\n",
       "      <td>1</td>\n",
       "      <td>1</td>\n",
       "      <td>542.0</td>\n",
       "      <td>2.0</td>\n",
       "      <td>923.0</td>\n",
       "      <td>33.0</td>\n",
       "      <td>AA</td>\n",
       "      <td>N619AA</td>\n",
       "      <td>1141</td>\n",
       "      <td>JFK</td>\n",
       "      <td>MIA</td>\n",
       "      <td>160.0</td>\n",
       "      <td>1089</td>\n",
       "      <td>5.0</td>\n",
       "      <td>42.0</td>\n",
       "    </tr>\n",
       "    <tr>\n",
       "      <th>3</th>\n",
       "      <td>4</td>\n",
       "      <td>2013</td>\n",
       "      <td>1</td>\n",
       "      <td>1</td>\n",
       "      <td>544.0</td>\n",
       "      <td>-1.0</td>\n",
       "      <td>1004.0</td>\n",
       "      <td>-18.0</td>\n",
       "      <td>B6</td>\n",
       "      <td>N804JB</td>\n",
       "      <td>725</td>\n",
       "      <td>JFK</td>\n",
       "      <td>BQN</td>\n",
       "      <td>183.0</td>\n",
       "      <td>1576</td>\n",
       "      <td>5.0</td>\n",
       "      <td>44.0</td>\n",
       "    </tr>\n",
       "    <tr>\n",
       "      <th>4</th>\n",
       "      <td>5</td>\n",
       "      <td>2013</td>\n",
       "      <td>1</td>\n",
       "      <td>1</td>\n",
       "      <td>554.0</td>\n",
       "      <td>-6.0</td>\n",
       "      <td>812.0</td>\n",
       "      <td>-25.0</td>\n",
       "      <td>DL</td>\n",
       "      <td>N668DN</td>\n",
       "      <td>461</td>\n",
       "      <td>LGA</td>\n",
       "      <td>ATL</td>\n",
       "      <td>116.0</td>\n",
       "      <td>762</td>\n",
       "      <td>5.0</td>\n",
       "      <td>54.0</td>\n",
       "    </tr>\n",
       "    <tr>\n",
       "      <th>5</th>\n",
       "      <td>6</td>\n",
       "      <td>2013</td>\n",
       "      <td>1</td>\n",
       "      <td>1</td>\n",
       "      <td>554.0</td>\n",
       "      <td>-4.0</td>\n",
       "      <td>740.0</td>\n",
       "      <td>12.0</td>\n",
       "      <td>UA</td>\n",
       "      <td>N39463</td>\n",
       "      <td>1696</td>\n",
       "      <td>EWR</td>\n",
       "      <td>ORD</td>\n",
       "      <td>150.0</td>\n",
       "      <td>719</td>\n",
       "      <td>5.0</td>\n",
       "      <td>54.0</td>\n",
       "    </tr>\n",
       "    <tr>\n",
       "      <th>6</th>\n",
       "      <td>7</td>\n",
       "      <td>2013</td>\n",
       "      <td>1</td>\n",
       "      <td>1</td>\n",
       "      <td>555.0</td>\n",
       "      <td>-5.0</td>\n",
       "      <td>913.0</td>\n",
       "      <td>19.0</td>\n",
       "      <td>B6</td>\n",
       "      <td>N516JB</td>\n",
       "      <td>507</td>\n",
       "      <td>EWR</td>\n",
       "      <td>FLL</td>\n",
       "      <td>158.0</td>\n",
       "      <td>1065</td>\n",
       "      <td>5.0</td>\n",
       "      <td>55.0</td>\n",
       "    </tr>\n",
       "    <tr>\n",
       "      <th>7</th>\n",
       "      <td>8</td>\n",
       "      <td>2013</td>\n",
       "      <td>1</td>\n",
       "      <td>1</td>\n",
       "      <td>557.0</td>\n",
       "      <td>-3.0</td>\n",
       "      <td>709.0</td>\n",
       "      <td>-14.0</td>\n",
       "      <td>EV</td>\n",
       "      <td>N829AS</td>\n",
       "      <td>5708</td>\n",
       "      <td>LGA</td>\n",
       "      <td>IAD</td>\n",
       "      <td>53.0</td>\n",
       "      <td>229</td>\n",
       "      <td>5.0</td>\n",
       "      <td>57.0</td>\n",
       "    </tr>\n",
       "    <tr>\n",
       "      <th>8</th>\n",
       "      <td>9</td>\n",
       "      <td>2013</td>\n",
       "      <td>1</td>\n",
       "      <td>1</td>\n",
       "      <td>557.0</td>\n",
       "      <td>-3.0</td>\n",
       "      <td>838.0</td>\n",
       "      <td>-8.0</td>\n",
       "      <td>B6</td>\n",
       "      <td>N593JB</td>\n",
       "      <td>79</td>\n",
       "      <td>JFK</td>\n",
       "      <td>MCO</td>\n",
       "      <td>140.0</td>\n",
       "      <td>944</td>\n",
       "      <td>5.0</td>\n",
       "      <td>57.0</td>\n",
       "    </tr>\n",
       "    <tr>\n",
       "      <th>9</th>\n",
       "      <td>10</td>\n",
       "      <td>2013</td>\n",
       "      <td>1</td>\n",
       "      <td>1</td>\n",
       "      <td>558.0</td>\n",
       "      <td>-2.0</td>\n",
       "      <td>753.0</td>\n",
       "      <td>8.0</td>\n",
       "      <td>AA</td>\n",
       "      <td>N3ALAA</td>\n",
       "      <td>301</td>\n",
       "      <td>LGA</td>\n",
       "      <td>ORD</td>\n",
       "      <td>138.0</td>\n",
       "      <td>733</td>\n",
       "      <td>5.0</td>\n",
       "      <td>58.0</td>\n",
       "    </tr>\n",
       "  </tbody>\n",
       "</table>\n",
       "</div>"
      ],
      "text/plain": [
       "   Unnamed: 0  year  month  day  dep_time  dep_delay  arr_time  arr_delay  \\\n",
       "0           1  2013      1    1     517.0        2.0     830.0       11.0   \n",
       "1           2  2013      1    1     533.0        4.0     850.0       20.0   \n",
       "2           3  2013      1    1     542.0        2.0     923.0       33.0   \n",
       "3           4  2013      1    1     544.0       -1.0    1004.0      -18.0   \n",
       "4           5  2013      1    1     554.0       -6.0     812.0      -25.0   \n",
       "5           6  2013      1    1     554.0       -4.0     740.0       12.0   \n",
       "6           7  2013      1    1     555.0       -5.0     913.0       19.0   \n",
       "7           8  2013      1    1     557.0       -3.0     709.0      -14.0   \n",
       "8           9  2013      1    1     557.0       -3.0     838.0       -8.0   \n",
       "9          10  2013      1    1     558.0       -2.0     753.0        8.0   \n",
       "\n",
       "  carrier tailnum  flight origin dest  air_time  distance  hour  minute  \n",
       "0      UA  N14228    1545    EWR  IAH     227.0      1400   5.0    17.0  \n",
       "1      UA  N24211    1714    LGA  IAH     227.0      1416   5.0    33.0  \n",
       "2      AA  N619AA    1141    JFK  MIA     160.0      1089   5.0    42.0  \n",
       "3      B6  N804JB     725    JFK  BQN     183.0      1576   5.0    44.0  \n",
       "4      DL  N668DN     461    LGA  ATL     116.0       762   5.0    54.0  \n",
       "5      UA  N39463    1696    EWR  ORD     150.0       719   5.0    54.0  \n",
       "6      B6  N516JB     507    EWR  FLL     158.0      1065   5.0    55.0  \n",
       "7      EV  N829AS    5708    LGA  IAD      53.0       229   5.0    57.0  \n",
       "8      B6  N593JB      79    JFK  MCO     140.0       944   5.0    57.0  \n",
       "9      AA  N3ALAA     301    LGA  ORD     138.0       733   5.0    58.0  "
      ]
     },
     "execution_count": 7,
     "metadata": {},
     "output_type": "execute_result"
    }
   ],
   "source": [
    "flights_df.dest.unique()\n",
    "flights_df.head(10)"
   ]
  },
  {
   "cell_type": "markdown",
   "metadata": {},
   "source": [
    "##Some Tips\n",
    "\n",
    "* This assignment involves extensive Data frame splitting and aggregation. You should look into the details of the methods groupby, transform, sum, count, mean etc\n",
    "* Many of the tasks in the assignment can be done either through the Pandas Data Frame or by converting the data frames to Series. Many of the methods in the numpy are applicable to Series only. When stuck, try to explore the type of object (Pandas Data Frame or Numpy Series) you are dealing with."
   ]
  },
  {
   "cell_type": "markdown",
   "metadata": {},
   "source": [
    "##Question 1\n",
    "Let’s explore flights from NYC to Seattle. Use the flights dataset to answer the following questions.\n",
    "\n",
    "2(a) How many flights were there from NYC airports to Seattle in 2013?"
   ]
  },
  {
   "cell_type": "code",
   "execution_count": 8,
   "metadata": {
    "collapsed": false
   },
   "outputs": [
    {
     "name": "stdout",
     "output_type": "stream",
     "text": [
      "There were 3923 flights from NYC to Seattle.\n"
     ]
    }
   ],
   "source": [
    "#usin the len function to query flights traveling to Seattle from NYC\n",
    "sea_flights = len(flights_df.query('dest==\"SEA\"'))\n",
    "\n",
    "print \"There were %d flights from NYC to Seattle.\" % sea_flights"
   ]
  },
  {
   "cell_type": "markdown",
   "metadata": {},
   "source": [
    " -- Write your answer in English here -- "
   ]
  },
  {
   "cell_type": "markdown",
   "metadata": {},
   "source": [
    "(b) How many airlines fly from NYC to Seattle?"
   ]
  },
  {
   "cell_type": "code",
   "execution_count": 9,
   "metadata": {
    "collapsed": false
   },
   "outputs": [
    {
     "name": "stdout",
     "output_type": "stream",
     "text": [
      "There are 5 airlines that fly from NYC to Seattle.\n"
     ]
    }
   ],
   "source": [
    "#use the len function to get total unique carrier to Seattle \n",
    "airlines_fly_to_Seattle = len(flights_df.query('dest==\"SEA\"').carrier.unique())\n",
    "\n",
    "print \"There are %d airlines that fly from NYC to Seattle.\" % airlines_fly_to_Seattle"
   ]
  },
  {
   "cell_type": "markdown",
   "metadata": {},
   "source": [
    " -- Write your answer in English here -- "
   ]
  },
  {
   "cell_type": "markdown",
   "metadata": {},
   "source": [
    "(c) How many unique air planes fly from NYC to Seattle?"
   ]
  },
  {
   "cell_type": "code",
   "execution_count": 10,
   "metadata": {
    "collapsed": false
   },
   "outputs": [
    {
     "name": "stdout",
     "output_type": "stream",
     "text": [
      "There were 936 unique air planes that fly from NYC to Seattle.\n"
     ]
    }
   ],
   "source": [
    "#use len to find total unique tailnum for flights going to Seattle\n",
    "unique_airplanes_to_Seattle = len(flights_df.query('dest==\"SEA\"').tailnum.unique())\n",
    "                            \n",
    "print \"There were %d unique air planes that fly from NYC to Seattle.\" % unique_airplanes_to_Seattle\n"
   ]
  },
  {
   "cell_type": "markdown",
   "metadata": {},
   "source": [
    " -- Write your answer in English here -- "
   ]
  },
  {
   "cell_type": "markdown",
   "metadata": {},
   "source": [
    "(d) What is the average arrival delay for flights from NC to Seattle?"
   ]
  },
  {
   "cell_type": "code",
   "execution_count": 11,
   "metadata": {
    "collapsed": false
   },
   "outputs": [
    {
     "name": "stdout",
     "output_type": "stream",
     "text": [
      "On average flights from NYC to SEA were early by 1.10 minutes.\n"
     ]
    }
   ],
   "source": [
    "# get records that contains fligths from NYC to SEA\n",
    "sea_flights = flights_df.query('dest==\"SEA\"') \n",
    "\n",
    "# remove records that contain arrival delay equals to NA\n",
    "sea_flights_finite = sea_flights[np.isfinite(sea_flights['arr_delay'])]  \n",
    "\n",
    "#calculate average arrival delay\n",
    "average_arrival_delay_NYCToSEA = sea_flights_finite[\"arr_delay\"].mean()\n",
    "\n",
    "#format the response based on whether the average arrival delay is positive or negative\n",
    "if average_arrival_delay_NYCToSEA > 0:\n",
    "    print \"On average flights from NYC to SEA were late by %.2f minutes.\" % average_arrival_delay_NYCToSEA\n",
    "else:\n",
    "    average_arrival_delay_NYCToSEA = average_arrival_delay_NYCToSEA * -1\n",
    "    print \"On average flights from NYC to SEA were early by %.2f minutes.\" % average_arrival_delay_NYCToSEA\n",
    " "
   ]
  },
  {
   "cell_type": "markdown",
   "metadata": {},
   "source": [
    " -- Write your answer in English here -- "
   ]
  },
  {
   "cell_type": "markdown",
   "metadata": {},
   "source": [
    "(e) What proportion of flights to Seattle come from each NYC airport?"
   ]
  },
  {
   "cell_type": "code",
   "execution_count": 12,
   "metadata": {
    "collapsed": false
   },
   "outputs": [
    {
     "name": "stdout",
     "output_type": "stream",
     "text": [
      "The proportion of fligths to Seattle from EWR is 47 percent\n",
      "The proportion of fligths to Seattle from JFK is 53 percent\n"
     ]
    }
   ],
   "source": [
    "#function to calculate proportion\n",
    "def proportion(origin):\n",
    "    total_flights=len(flights_df.query('dest==\"SEA\"'))*1.0\n",
    "    # get flights goiing to Seattle based on the NYC airport\n",
    "    flights_by_origin=flights_df[(flights_df['dest']==\"SEA\") & (flights_df['origin']==origin)] \n",
    "    total_flights_by_origin = len(flights_by_origin)*1.0 # convert to float\n",
    "    proportion = (total_flights_by_origin/total_flights) #calculate the proportion\n",
    "    proportion = np.round(proportion, decimals=2) #round it to 2 decimal points \n",
    "    return int(proportion* 100)\n",
    "        \n",
    "#find the origin that flights to seattle start from in NYC \n",
    "unique_NYC_airports_to_Seattle = flights_df.query('dest==\"SEA\"').origin.unique()\n",
    "\n",
    "#loop through the unique airports and calculate the proportion\n",
    "for airport in unique_NYC_airports_to_Seattle:\n",
    "    pro=proportion(airport)\n",
    "    print 'The proportion of fligths to Seattle from %s is %d percent' % (airport, pro)"
   ]
  },
  {
   "cell_type": "markdown",
   "metadata": {},
   "source": [
    " -- Write your answer in English here -- "
   ]
  },
  {
   "cell_type": "markdown",
   "metadata": {},
   "source": [
    "## Question 2\n",
    "Flights are often delayed. Consider the following questions exploring delay patterns.\n",
    "\n",
    "(a) Which date has the largest average departure delay? Which date has the largest average arrival delay?"
   ]
  },
  {
   "cell_type": "code",
   "execution_count": 13,
   "metadata": {
    "collapsed": false
   },
   "outputs": [
    {
     "name": "stdout",
     "output_type": "stream",
     "text": [
      "6/1 had the largest average arrival delay of 52.51 minutes from flights leaving NYC in 2013.\n",
      "7/1 had the highest average departure delay of 48.24 minutes from flights leaving NYC in 2013.\n",
      "\n",
      "Second option shows that the largest average depature was on 9/2 with a delay of 116 minutes\n",
      "Second option shows that the largest average arrival was on 9/12 with a delay of 127.86 minutes\n",
      "\n"
     ]
    }
   ],
   "source": [
    "#option 1\n",
    "def findDateWithHighestAverageDelay(delayType):\n",
    "    maxAvgDelay = 0\n",
    "    dateMonth = 0\n",
    "    dateDay = 0\n",
    "    unique_month=flights_df.month.unique()\n",
    "    #loop through the month and day and calculate the average delay = mean of departure delay or mean of arrival delay\n",
    "    for m in unique_month:\n",
    "        for d in range(1,31):\n",
    "            current_date = flights_df.loc[(flights_df['month'] == m) & flights_df['day']==d]\n",
    "            if delayType == 'arr_delay':\n",
    "                postiveArrivalDelay = current_date.query('arr_delay > 0')\n",
    "                average_arrival =  postiveArrivalDelay.arr_delay.mean()\n",
    "            else:\n",
    "                positiveDepartureDelay = current_date.query('dep_delay > 0')\n",
    "                average_arrival = positiveDepartureDelay.dep_delay.mean()\n",
    "            if np.isnan(average_arrival):\n",
    "                continue\n",
    "            if maxAvgDelay < average_arrival:\n",
    "                maxAvgDelay = average_arrival #track the highest delay\n",
    "                dateMonth = m #track the month \n",
    "                dateDay = d    #track the day\n",
    "\n",
    "    if delayType==\"arr_delay\":\n",
    "        print \"%s/%s had the largest average arrival delay of %.2f minutes from flights leaving NYC in 2013.\" % (dateMonth, dateDay, maxAvgDelay)\n",
    "    else:\n",
    "        print \"%s/%s had the highest average departure delay of %.2f minutes from flights leaving NYC in 2013.\" % (dateMonth, dateDay, maxAvgDelay)  \n",
    "        \n",
    "        \n",
    "#function to get date with highest arrival delays      \n",
    "findDateWithHighestAverageDelay(\"arr_delay\")\n",
    "findDateWithHighestAverageDelay(\"dep_delay\")\n",
    "print \n",
    "\n",
    "#option 2\n",
    "#using groupby and lambda to get the average\n",
    "grouped1 = flights_df.query('dep_delay > 0').groupby(['month', 'day']).apply(lambda x: np.average(x['dep_delay']))\n",
    "x = grouped1.sort_values() #sort the record\n",
    "x.tail(1) #take the top result from a descending order\n",
    "\n",
    "print 'Second option shows that the largest average depature was on 9/2 with a delay of 116 minutes'\n",
    "grouped2 = flights_df.query('arr_delay > 0').groupby(['month', 'day']).apply(lambda x: np.average(x['arr_delay']))\n",
    "y = grouped2.sort_values() #sort the record\n",
    "y.tail(1) #take the top result from a descending order\n",
    "\n",
    "print 'Second option shows that the largest average arrival was on 9/12 with a delay of 127.86 minutes'\n",
    "print\n",
    "\n"
   ]
  },
  {
   "cell_type": "markdown",
   "metadata": {},
   "source": [
    " -- Write your answer in English here -- "
   ]
  },
  {
   "cell_type": "markdown",
   "metadata": {},
   "source": [
    "(b) What was the worst day to fly out of NYC in 2013 if you dislike delayed flights?\n"
   ]
  },
  {
   "cell_type": "code",
   "execution_count": 14,
   "metadata": {
    "collapsed": false
   },
   "outputs": [
    {
     "name": "stdout",
     "output_type": "stream",
     "text": [
      "The worst day to fly out of NYC in 2013 appears to be on 7/1. It had an average delay of arrival and departure of 100.22 minutes.\n",
      "\n",
      "     month  day   arr_delay   dep_delay  total_avg_delay\n",
      "244      9    2  102.811364  101.682609       204.493972\n",
      "\n",
      "Second option shows that the worst day to fly out is 9/12 as it has a delay of 239 minutes total average of arrival and departure delay time\n"
     ]
    }
   ],
   "source": [
    "#worst day to fly out will be a combination of positive departure delay and arrival delay\n",
    "maxDelay = 0\n",
    "badDay = 0\n",
    "badMonth = 0\n",
    "unique_month=flights_df.month.unique() #find unique month\n",
    "for m in unique_month:   #loop through the month and day\n",
    "    for d in range(1,31): \n",
    "        current_date = flights_df.loc[(flights_df['month'] == m) & flights_df['day']==d]\n",
    "        positiveDepartureDelay = current_date.query('dep_delay > 0') #retrieve only positve entries\n",
    "        departDelay = positiveDepartureDelay.dep_delay.mean() #calculate the mean \n",
    "        postiveArrivalDelay = current_date.query('arr_delay > 0')\n",
    "        arrivalDelay =  postiveArrivalDelay.arr_delay.mean()\n",
    "        if (np.isnan(departDelay)): #remove any na values \n",
    "            continue\n",
    "        totalDelay = departDelay + arrivalDelay\n",
    "        if totalDelay > maxDelay:\n",
    "            maxDelay =  totalDelay #keep track of the highest delay and the date\n",
    "            badDay = d\n",
    "            badMonth = m\n",
    "            \n",
    "print 'The worst day to fly out of NYC in 2013 appears to be on %s/%s. It had an average delay of arrival and departure of %.2f minutes.' %(badMonth, badDay, maxDelay)                \n",
    "          \n",
    "print \n",
    "#option 2\n",
    "#using groupby and lambda to calculate the average\n",
    "grouped1 = flights_df.query('dep_delay > 0').groupby(['month', 'day']).apply(lambda x: np.average(x['dep_delay']))\n",
    "x = grouped1.sort_values() #sort the result \n",
    "grouped2 = flights_df.query('arr_delay > 0').groupby(['month', 'day']).apply(lambda x: np.average(x['arr_delay']))\n",
    "y = grouped2.sort_values() #sor the result\n",
    "\n",
    "#create a new dataframe that's a combination of the first two created\n",
    "newset = pd.DataFrame({'dep_delay' : x, 'arr_delay': y}).reset_index()\n",
    "\n",
    "#add a column to hold the total delay of arrival and departure\n",
    "newset['total_avg_delay'] = newset['arr_delay'] + newset['dep_delay']\n",
    "x = newset.sort_values(['total_avg_delay'], ascending=[0]) #sort the result\n",
    "print x.head(1) # take the top first result\n",
    "print\n",
    "print \"Second option shows that the worst day to fly out is 9/12 as it has a delay of 239 minutes total average of arrival and departure delay time\"\n"
   ]
  },
  {
   "cell_type": "markdown",
   "metadata": {},
   "source": [
    " -- Write your answer in English here -- "
   ]
  },
  {
   "cell_type": "markdown",
   "metadata": {},
   "source": [
    "(c) Are there any seasonal patterns in departure delays for flights from NYC?"
   ]
  },
  {
   "cell_type": "code",
   "execution_count": 26,
   "metadata": {
    "collapsed": false
   },
   "outputs": [
    {
     "name": "stdout",
     "output_type": "stream",
     "text": [
      "January-2013 delay was at 10.04 minutes\n",
      "February-2013 delay was at 10.82 minutes\n",
      "March-2013 delay was at 13.23 minutes\n",
      "April-2013 delay was at 13.94 minutes\n",
      "May-2013 delay was at 12.99 minutes\n",
      "June-2013 delay was at 20.85 minutes\n",
      "July-2013 delay was at 21.73 minutes\n",
      "August-2013 delay was at 12.61 minutes\n",
      "September-2013 delay was at 6.72 minutes\n",
      "October-2013 delay was at 6.24 minutes\n",
      "November-2013 delay was at 5.44 minutes\n",
      "December-2013 delay was at 16.58 minutes\n",
      "\n",
      "The data shows a peak of high average departure delay in June and July then decrease\n"
     ]
    }
   ],
   "source": [
    "#calculate delays by month \n",
    "import calendar\n",
    "result ={}\n",
    "unique_month=flights_df.month.unique() #get unique month of the data set\n",
    "for m in unique_month:\n",
    "        current_date = flights_df.loc[(flights_df['month'] == m)] #get current date based on the month\n",
    "        departDelay = current_date.dep_delay.mean() #generate a mean by month\n",
    "        if (np.isnan(departDelay)): #remove any na values\n",
    "            continue\n",
    "        result[m] = departDelay #store the result into a dictionary of key month and value the departDelay\n",
    "        \n",
    "sorted(result)\n",
    "for k, v in result.items():\n",
    "\t    print '%s-2013 delay was at %.2f minutes' % (calendar.month_name[k], v)        \n",
    "\n",
    "print\n",
    "print 'The data shows a peak of high average departure delay in June and July then decrease'\n",
    "\n",
    "\n",
    "#option 2\n",
    "#using groupby and lambad to calculate the average\n",
    "grouped3 = flights_df.groupby(['month']).apply(lambda x: np.average(x['dep_delay']))\n",
    "newset4 = grouped3.sort_values(ascending=1) #order the result in descending order\n"
   ]
  },
  {
   "cell_type": "markdown",
   "metadata": {},
   "source": [
    " -- Write your answer in English here -- "
   ]
  },
  {
   "cell_type": "markdown",
   "metadata": {},
   "source": [
    "(d) On average, how do departure delays vary over the course of a day?"
   ]
  },
  {
   "cell_type": "code",
   "execution_count": 27,
   "metadata": {
    "collapsed": false
   },
   "outputs": [
    {
     "name": "stdout",
     "output_type": "stream",
     "text": [
      "At hour nan delay was at nan\n",
      "At hour 1.0 delay was at 207.05\n",
      "At hour 2.0 delay was at 239.92\n",
      "At hour 3.0 delay was at 304.73\n",
      "At hour 4.0 delay was at -5.55\n",
      "At hour 5.0 delay was at -4.36\n",
      "At hour 6.0 delay was at -1.52\n",
      "At hour 7.0 delay was at 0.22\n",
      "At hour 8.0 delay was at 1.09\n",
      "At hour 9.0 delay was at 4.27\n",
      "At hour 10.0 delay was at 5.55\n",
      "At hour 11.0 delay was at 5.65\n",
      "At hour 12.0 delay was at 7.60\n",
      "At hour 13.0 delay was at 9.38\n",
      "At hour 14.0 delay was at 8.09\n",
      "At hour 15.0 delay was at 10.68\n",
      "At hour 16.0 delay was at 13.62\n",
      "At hour 17.0 delay was at 16.76\n",
      "At hour 18.0 delay was at 18.66\n",
      "At hour 19.0 delay was at 21.50\n",
      "At hour 20.0 delay was at 28.27\n",
      "At hour 21.0 delay was at 42.06\n",
      "At hour 22.0 delay was at 68.19\n",
      "At hour 23.0 delay was at 96.62\n",
      "\n",
      "The data shows that on average there are minimal delays from hour 7 to hour 11 of the day. However, there are significant delays early mornings mainly from hour 0 to hour 3\n",
      "\n",
      "option 2\n"
     ]
    },
    {
     "data": {
      "text/plain": [
       "hour\n",
       "4.0      -5.554098\n",
       "5.0      -4.355644\n",
       "6.0      -1.520552\n",
       "7.0       0.223289\n",
       "8.0       1.091432\n",
       "9.0       4.268295\n",
       "10.0      5.548644\n",
       "11.0      5.652309\n",
       "12.0      7.601892\n",
       "14.0      8.090381\n",
       "13.0      9.380639\n",
       "15.0     10.682049\n",
       "16.0     13.621150\n",
       "17.0     16.756593\n",
       "18.0     18.664671\n",
       "19.0     21.497342\n",
       "20.0     28.266213\n",
       "21.0     42.064964\n",
       "22.0     68.190042\n",
       "23.0     96.616196\n",
       "1.0     207.049327\n",
       "2.0     239.921875\n",
       "3.0     304.727273\n",
       "dtype: float64"
      ]
     },
     "execution_count": 27,
     "metadata": {},
     "output_type": "execute_result"
    }
   ],
   "source": [
    "result= {} #dictionarry to add result \n",
    "#calculate average delays per hour \n",
    "unique_hour = flights_df.hour.unique() #get unique hours from the dataset\n",
    "for h in unique_hour: #iterate through the list of hours \n",
    "    current_hour = flights_df.loc[(flights_df['hour'] == h)] #get the actual data set for that horu\n",
    "    current_hour = current_hour[np.isfinite(current_hour['hour'])] #remove any na data\n",
    "    result[h] = current_hour.dep_delay.mean() #calculate the average departure for that hour\n",
    "\n",
    "for k, v in result.items():\n",
    "\t    print 'At hour %s delay was at %.2f' % (k, v)\n",
    "print \n",
    "print 'The data shows that on average there are minimal delays from hour 7 to hour 11 of the day. However, there are significant delays early mornings mainly from hour 0 to hour 3'\n",
    "\n",
    "print\n",
    "\n",
    "#option 2\n",
    "#using groupby and lambad to calculate the average of the departure\n",
    "grouped1 = flights_df.groupby(['hour']).apply(lambda x: np.average(x['dep_delay']))\n",
    "newset2 = grouped1.sort_values(ascending=1) #order the result in descending order\n",
    "print \"option 2\"\n",
    "newset2"
   ]
  },
  {
   "cell_type": "markdown",
   "metadata": {},
   "source": [
    " -- Write your answer in English here -- "
   ]
  },
  {
   "cell_type": "markdown",
   "metadata": {},
   "source": [
    "## Question 3\n",
    "    Which flight departing NYC in 2013 flew the fastest?"
   ]
  },
  {
   "cell_type": "code",
   "execution_count": 20,
   "metadata": {
    "collapsed": false
   },
   "outputs": [
    {
     "name": "stdout",
     "output_type": "stream",
     "text": [
      "Flight number 51.0 from JFK to HNL flew a distance of 4983.0 and spent 580.0 mintues in the air. Thus, the fastest flight.\n"
     ]
    }
   ],
   "source": [
    "#Assuming fastest is defined by the length of time on the air then this would be the longest distance with the shortest air time\n",
    "\n",
    "#function to find the longest route\n",
    "longest_distance= flights_df.distance.max()\n",
    "\n",
    "#query flights including air time for the longest distance\n",
    "flights_with_longest_distance = flights_df.query('distance==%d' % longest_distance)\n",
    "\n",
    "#find air time for flights with the longest route\n",
    "lowest_air_time = flights_with_longest_distance.air_time.min()\n",
    "\n",
    "#query flights with longest route that has the shortest air time\n",
    "flights = flights_df.query('air_time==%d' % lowest_air_time)\n",
    "flights = flights.where(flights_df['distance']==longest_distance)\n",
    "\n",
    "#remove NA records from the data set\n",
    "flights_finite = flights[np.isfinite(flights['distance'])]\n",
    "\n",
    "current_flight=70.0 #bogus flight for initialization\n",
    "for index, row in flights_finite.iterrows():\n",
    "    if current_flight == row['flight']:\n",
    "        continue # go to the next entry\n",
    "    else:\n",
    "        current_flight = row['flight']\n",
    "        print \"Flight number %.1f from %s to %s flew a distance of %.1f and spent %.1f mintues in the air. Thus, the fastest flight.\" % (row['flight'], row['origin'], row['dest'], row['distance'], row['air_time'])\n"
   ]
  },
  {
   "cell_type": "markdown",
   "metadata": {},
   "source": [
    " -- Write your answer in English here -- "
   ]
  },
  {
   "cell_type": "markdown",
   "metadata": {},
   "source": [
    "Question 4\n",
    "Which flights (i.e. carrier + flight + dest) happen every day? Where do they fly to?"
   ]
  },
  {
   "cell_type": "code",
   "execution_count": 21,
   "metadata": {
    "collapsed": false
   },
   "outputs": [
    {
     "name": "stdout",
     "output_type": "stream",
     "text": [
      "flight 15 travelled daily from NYC to HNL using carrier UA .\n",
      "flight 251 travelled daily from NYC to LAS using carrier VX .\n"
     ]
    }
   ],
   "source": [
    "# function to format result\n",
    "def formatResult(flight, destAndCarrier):\n",
    "    v = destAndCarrier.split(\"_\") #split carrir from destination\n",
    "    dest = v[0]\n",
    "    carrier= v[1]\n",
    "    print \"flight %s travelled daily from NYC to %s using carrier %s .\" % (flight, dest, carrier)\n",
    "    \n",
    "# function to load flights that travelled daily\n",
    "def getDestinationAndCarriersThatMakeYearlyTrips(flights):\n",
    "    unique_destinations = flights_df.dest.unique() #get unique destinations\n",
    "    unique_carriers= flights_df.carrier.unique() #get unique carriers\n",
    "\n",
    "    daily_flight ={}  #create a dictionary to hold data\n",
    "    for carrier in unique_carriers: #iterate by the carriers \n",
    "        for dest in unique_destinations: # get a destination\n",
    "            #get a data set based on the carrier and the destination\n",
    "            flights =  flights_df.loc[(flights_df[\"dest\"] == dest) & (flights_df[\"carrier\"] == carrier)] \n",
    "            total =  len(flights) #get total flights\n",
    "            #only capture data where the total is equal to 365\n",
    "            if total == 365: #todo update in case year has has 364 days - but 2013 has 365\n",
    "                key = dest+'_'+carrier #create a key forms using dest and carrier\n",
    "                daily_flight[key] = flights.flight.unique().tolist() #add the unique fligth with the key\n",
    "                \n",
    "    return daily_flight\n",
    "\n",
    "# get all the carriers and destinations that have a daily trip \n",
    "daily_flight = getDestinationAndCarriersThatMakeYearlyTrips(flights_df)  \n",
    "\n",
    "#print unique flights that make daily trips\n",
    "for l in daily_flight:\n",
    "    if len(daily_flight[l])==1: #only select the entries that have a unique flights\n",
    "        formatResult(daily_flight[l][0], l)\n"
   ]
  },
  {
   "cell_type": "markdown",
   "metadata": {},
   "source": [
    " -- Write your answer in English here -- "
   ]
  },
  {
   "cell_type": "markdown",
   "metadata": {},
   "source": [
    "## Question 5\n",
    "Develop one research question you can address using the nycflights2013 dataset. Provide two visualizations to support your exploration of this question. Discuss what you find.\n"
   ]
  },
  {
   "cell_type": "code",
   "execution_count": 22,
   "metadata": {
    "collapsed": false,
    "scrolled": true
   },
   "outputs": [
    {
     "name": "stdout",
     "output_type": "stream",
     "text": [
      "research question is to find destinations that averaged over 20 minutes of delays\n"
     ]
    },
    {
     "data": {
      "image/png": "[encoded data removed]",
      "text/plain": [
       "<matplotlib.figure.Figure at 0xf217518>"
      ]
     },
     "metadata": {},
     "output_type": "display_data"
    },
    {
     "name": "stdout",
     "output_type": "stream",
     "text": [
      "The graph shows that there were 5 destinations that have an arrival delay that's over 20 minutes.\n",
      "It also shows that all of the destinations are from smaller markets that are predominantly in the South\n"
     ]
    }
   ],
   "source": [
    "print \"research question is to find destinations that averaged over 20 minutes of delays\"\n",
    "\n",
    "#global variables\n",
    "objects = []\n",
    "performance = []\n",
    "\n",
    "# function to get records that contain fligths from NYC to SEA\n",
    "def findDestinationsWithOver20MinutesArrivalDelay():\n",
    "    unique_destinations = flights_df.dest.unique()\n",
    "    for dest in unique_destinations:\n",
    "        current_flights = flights_df.loc[(flights_df['dest'] == dest)]\n",
    "        average_arrival = current_flights[\"arr_delay\"].mean()\n",
    "        if average_arrival > 21: # delay greater than 20 minutes\n",
    "            objects.append(dest)\n",
    "            performance.append(int(average_arrival))\n",
    "    \n",
    "\n",
    "#function to plot the bar graphs representing the delayed destinations\n",
    "def plotArrivalDelayedDestination():\n",
    "    y_pos = np.arange(len(objects))\n",
    "    plt.bar(y_pos, performance, align='center', alpha=0.5)\n",
    "    plt.xticks(y_pos, objects)\n",
    "    plt.ylabel('Arrival Delay')\n",
    "    plt.title('Destinations with a delay of over 20 minutes')\n",
    "    plt.show()\n",
    "\n",
    "#call the functions to build the graph and collect the data   \n",
    "findDestinationsWithOver20MinutesArrivalDelay()\n",
    "plotArrivalDelayedDestination()\n",
    "\n",
    "print \"The graph shows that there were 5 destinations that have an arrival delay that's over 20 minutes.\"\n",
    "print \"It also shows that all of the destinations are from smaller markets that are predominantly in the South\""
   ]
  },
  {
   "cell_type": "markdown",
   "metadata": {},
   "source": [
    " -- Enter your discussion here --"
   ]
  },
  {
   "cell_type": "markdown",
   "metadata": {},
   "source": [
    "## Question 6\n",
    "What weather conditions are associated with flight delays leaving NYC? Use graphics to explore."
   ]
  },
  {
   "cell_type": "code",
   "execution_count": 23,
   "metadata": {
    "collapsed": false,
    "scrolled": true
   },
   "outputs": [
    {
     "data": {
      "image/png": "[encoded data removed]",
      "text/plain": [
       "<matplotlib.figure.Figure at 0xdb85470>"
      ]
     },
     "metadata": {},
     "output_type": "display_data"
    },
    {
     "name": "stdout",
     "output_type": "stream",
     "text": [
      "The graph related to temperature vs total delays shows a spike on the total delays when the temperature rises\n"
     ]
    }
   ],
   "source": [
    "#global variables\n",
    "performance = []\n",
    "temperature = []\n",
    "\n",
    "#import weather file\n",
    "weather_df=pd.read_csv('weather.csv')\n",
    "#analyze data\n",
    "weather_df.head(5)\n",
    "weather_df.hour.unique()\n",
    "\n",
    "#update flight hour column in order to match with weather data\n",
    "flights_df['hour'].replace([24,0],inplace=True)\n",
    "\n",
    "#joining flights and weather datasets \n",
    "flights_weather = pd.concat([flights_df, weather_df], axis=1, join_axes=[flights_df.index])\n",
    "#add a column to hold the total delay\n",
    "sLength = len(flights_weather['visib'])\n",
    "flights_weather.loc[:,'totaldelay'] = pd.Series(np.random.randn(sLength), index=flights_weather.index)\n",
    "\n",
    "#remonve data that contain NA from the generated graph\n",
    "flights_weather = flights_weather[np.isfinite(flights_weather['temp'])]\n",
    "flights_weather = flights_weather[np.isfinite(flights_weather['arr_delay'])]\n",
    "flights_weather = flights_weather[np.isfinite(flights_weather['dep_delay'])]\n",
    "\n",
    "# calculate delays for positive arrival delays and departure delays\n",
    "for index, row in flights_weather.iterrows():\n",
    "    row['totaldelay'] = 0\n",
    "    if row['dep_delay'] < 0:\n",
    "        row['dep_delay'] = 0\n",
    "    if row['arr_delay'] < 0:\n",
    "        row['arr_delay'] = 0\n",
    "    row['totaldelay'] = row['dep_delay'] + row['arr_delay']\n",
    "    temperature.append(row['temp']) #store the temperature for that delay into a list\n",
    "    performance.append(int(row['totaldelay'])) #store the actual delay\n",
    "\n",
    "\n",
    "#function to plot total delays vs a specific weather \n",
    "def plotTotalDelayInRelationToWeather(weather, objects):\n",
    "    y_pos = np.arange(len(objects))\n",
    "    plt.bar(y_pos, performance, align='center', alpha=0.5)\n",
    "    plt.xticks(y_pos, objects)\n",
    "    plt.ylabel('Total Delay')\n",
    "    plt.title('Total delay vs  %s' % weather)\n",
    "    plt.xlabel(weather)\n",
    "    plt.show()\n",
    "\n",
    "#call teh plot function\n",
    "plotTotalDelayInRelationToWeather('temp', temperature)\n",
    "\n",
    " \n",
    "\n",
    "print \"The graph related to temperature vs total delays shows a spike on the total delays when the temperature rises\"\n"
   ]
  },
  {
   "cell_type": "markdown",
   "metadata": {},
   "source": [
    "-- Enter your interpretation here --"
   ]
  },
  {
   "cell_type": "code",
   "execution_count": null,
   "metadata": {
    "collapsed": true
   },
   "outputs": [],
   "source": []
  }
 ],
 "metadata": {
  "anaconda-cloud": {},
  "kernelspec": {
   "display_name": "Python [default]",
   "language": "python",
   "name": "python2"
  },
  "language_info": {
   "codemirror_mode": {
    "name": "ipython",
    "version": 2
   },
   "file_extension": ".py",
   "mimetype": "text/x-python",
   "name": "python",
   "nbconvert_exporter": "python",
   "pygments_lexer": "ipython2",
   "version": "2.7.12"
  }
 },
 "nbformat": 4,
 "nbformat_minor": 0
}
