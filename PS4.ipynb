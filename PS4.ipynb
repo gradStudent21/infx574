{
 "cells": [
  {
   "cell_type": "markdown",
   "metadata": {},
   "source": [
    "# Problem Set 4, due February 23 at 11:59am, mid-day, noon.\n",
    "\n",
    "### Before You Start\n",
    "\n",
    "This is a fun but challenging problem set. It will test your python skills, as well as your understanding of the material in class and in the readings. Start early and debug often! Some notes:\n",
    "\n",
    "* Part 1 is meant to be easy, so get through it quickly.\n",
    "* Part 2 (especially 2.1) will be difficult, but it is the lynchpin of this problem set to make sure to do it well and understand what you've done. If you find your gradient descent algorithm is taking more than a few minutes to complete, debug more, compare notes with others, and go to the TA sessions.\n",
    "* Depending on how well you've done 2.1, parts 2.3 and 4.3 will be relatively painless or incredibly painful. \n",
    "* Part 4 (especially 3.3) will be computationally intensive. Don't leave this until the last minute, otherwise your code might be running when the deadline arrives.\n",
    "* Do the extra credit problems last."
   ]
  },
  {
   "cell_type": "markdown",
   "metadata": {},
   "source": [
    "---\n",
    "\n",
    "## Introduction to the assignment\n",
    "\n",
    "As with the last assignment, you will be using the [Boston Housing Prices Data Set](http://archive.ics.uci.edu/ml/datasets/Housing)."
   ]
  },
  {
   "cell_type": "code",
   "execution_count": 226,
   "metadata": {
    "collapsed": false
   },
   "outputs": [],
   "source": [
    "import IPython\n",
    "import numpy as np\n",
    "import scipy as sp\n",
    "import pandas as pd\n",
    "import matplotlib\n",
    "import sklearn\n",
    "\n",
    "%matplotlib inline  \n",
    "import matplotlib.pyplot as plt  \n",
    "import statsmodels.api as sm\n",
    "from sklearn.linear_model import LinearRegression\n",
    "from sklearn.metrics import mean_squared_error\n",
    "import statsmodels.formula.api as smf\n"
   ]
  },
  {
   "cell_type": "code",
   "execution_count": 227,
   "metadata": {
    "collapsed": true
   },
   "outputs": [],
   "source": [
    "from sklearn.datasets import load_boston\n",
    "bdata = load_boston()"
   ]
  },
  {
   "cell_type": "markdown",
   "metadata": {},
   "source": [
    "---\n",
    "\n",
    "## Part 1: Getting oriented\n",
    "\n",
    "Use different learning rates\n",
    "\n",
    "### 1.1 Use existing libraries\n",
    "\n",
    "Soon, you will write your own gradient descent algorithm, which you will then use to minimize the squared error cost function.  First, however, let's use the canned versions that come with Python, to make sure we understand what we're aiming to achieve.\n",
    "\n",
    "Using the same Boston housing prices dataset, use the [Linear Regression class](http://scikit-learn.org/stable/modules/generated/sklearn.linear_model.LinearRegression.html) from sklearn or the [OLS class](http://wiki.scipy.org/Cookbook/OLS) from SciPy to explore the relationship between  median housing price and number of rooms per house. Do this by first (a) regressing the housing price on the number of rooms per house, and then (b) regressing the housing price on the number of rooms per house and the (number of rooms per house) squared.  Interpret your results."
   ]
  },
  {
   "cell_type": "code",
   "execution_count": 228,
   "metadata": {
    "collapsed": false
   },
   "outputs": [
    {
     "name": "stdout",
     "output_type": "stream",
     "text": [
      "['data', 'feature_names', 'DESCR', 'target']\n",
      "['CRIM' 'ZN' 'INDUS' 'CHAS' 'NOX' 'RM' 'AGE' 'DIS' 'RAD' 'TAX' 'PTRATIO'\n",
      " 'B' 'LSTAT']\n"
     ]
    }
   ],
   "source": [
    "# uncomment the following if you want to see a lengthy description of the dataset\n",
    "print bdata.keys()    \n",
    "print bdata.feature_names\n",
    "#print bdata.data.shape\n",
    " # print bdata.target.shape\n",
    "#print bdata.DESCR"
   ]
  },
  {
   "cell_type": "code",
   "execution_count": 229,
   "metadata": {
    "collapsed": false
   },
   "outputs": [
    {
     "name": "stdout",
     "output_type": "stream",
     "text": [
      "                            OLS Regression Results                            \n",
      "==============================================================================\n",
      "Dep. Variable:                 target   R-squared:                       0.484\n",
      "Model:                            OLS   Adj. R-squared:                  0.483\n",
      "Method:                 Least Squares   F-statistic:                     471.8\n",
      "Date:                Wed, 22 Feb 2017   Prob (F-statistic):           2.49e-74\n",
      "Time:                        16:44:31   Log-Likelihood:                -1673.1\n",
      "No. Observations:                 506   AIC:                             3350.\n",
      "Df Residuals:                     504   BIC:                             3359.\n",
      "Df Model:                           1                                         \n",
      "Covariance Type:            nonrobust                                         \n",
      "==============================================================================\n",
      "                 coef    std err          t      P>|t|      [95.0% Conf. Int.]\n",
      "------------------------------------------------------------------------------\n",
      "Intercept    -34.6706      2.650    -13.084      0.000       -39.877   -29.465\n",
      "room           9.1021      0.419     21.722      0.000         8.279     9.925\n",
      "==============================================================================\n",
      "Omnibus:                      102.585   Durbin-Watson:                   0.684\n",
      "Prob(Omnibus):                  0.000   Jarque-Bera (JB):              612.449\n",
      "Skew:                           0.726   Prob(JB):                    1.02e-133\n",
      "Kurtosis:                       8.190   Cond. No.                         58.4\n",
      "==============================================================================\n",
      "\n",
      "Warnings:\n",
      "[1] Standard Errors assume that the covariance matrix of the errors is correctly specified.\n"
     ]
    }
   ],
   "source": [
    "bdata_df = pd.DataFrame(bdata.data, columns=bdata.feature_names)\n",
    "bdata_df['MEDV'] = bdata.target\n",
    "\n",
    "room =np.array(bdata_df[[\"RM\"]].dropna())\n",
    "target = bdata_df.MEDV.dropna()\n",
    "\n",
    "mod = smf.ols(formula='target ~ room', data=bdata_df)\n",
    "res = mod.fit()\n",
    "print res.summary() #show the regression summary   "
   ]
  },
  {
   "cell_type": "code",
   "execution_count": 230,
   "metadata": {
    "collapsed": false,
    "scrolled": false
   },
   "outputs": [
    {
     "name": "stdout",
     "output_type": "stream",
     "text": [
      "                            OLS Regression Results                            \n",
      "==============================================================================\n",
      "Dep. Variable:                 target   R-squared:                       0.548\n",
      "Model:                            OLS   Adj. R-squared:                  0.547\n",
      "Method:                 Least Squares   F-statistic:                     305.4\n",
      "Date:                Wed, 22 Feb 2017   Prob (F-statistic):           1.46e-87\n",
      "Time:                        16:44:33   Log-Likelihood:                -1639.1\n",
      "No. Observations:                 506   AIC:                             3284.\n",
      "Df Residuals:                     503   BIC:                             3297.\n",
      "Df Model:                           2                                         \n",
      "Covariance Type:            nonrobust                                         \n",
      "================================================================================\n",
      "                   coef    std err          t      P>|t|      [95.0% Conf. Int.]\n",
      "--------------------------------------------------------------------------------\n",
      "Intercept       66.0588     12.104      5.458      0.000        42.278    89.839\n",
      "room           -22.6433      3.754     -6.031      0.000       -30.019   -15.267\n",
      "I(room ** 2)     2.4701      0.291      8.502      0.000         1.899     3.041\n",
      "==============================================================================\n",
      "Omnibus:                       82.173   Durbin-Watson:                   0.689\n",
      "Prob(Omnibus):                  0.000   Jarque-Bera (JB):              934.337\n",
      "Skew:                           0.224   Prob(JB):                    1.29e-203\n",
      "Kurtosis:                       9.642   Cond. No.                     1.91e+03\n",
      "==============================================================================\n",
      "\n",
      "Warnings:\n",
      "[1] Standard Errors assume that the covariance matrix of the errors is correctly specified.\n",
      "[2] The condition number is large, 1.91e+03. This might indicate that there are\n",
      "strong multicollinearity or other numerical problems.\n"
     ]
    }
   ],
   "source": [
    "model2 = smf.ols(formula = 'target ~ room + I(room**2)', data = bdata_df)\n",
    "res2 = model2.fit()\n",
    "print res2.summary() #show the regression summary  "
   ]
  },
  {
   "cell_type": "markdown",
   "metadata": {},
   "source": [
    "*Enter your observations here*"
   ]
  },
  {
   "cell_type": "markdown",
   "metadata": {},
   "source": [
    "Analysis shows the intercept at 66.0588 and the beta arrays at -22.64 and 2.4701 respectively. "
   ]
  },
  {
   "cell_type": "markdown",
   "metadata": {},
   "source": [
    "### 1.2 Training and testing\n",
    "\n",
    "Chances are, for the above problem you used all of your data to fit the regression line. In some circumstances this is a reasonable thing to do, but often this will result in overfitting. Let's redo the above results the ML way, using careful cross-validation.  Since you are now experts in cross-validation, and have written your own cross-validation algorithm from scratch, you can now take a shortcut and use the libraries that others have built for you.\n",
    "\n",
    "Using the [cross-validation functions](http://scikit-learn.org/stable/modules/cross_validation.html) from scikit-learn, use 250-fold cross-validation to fit regression (a) above, i.e. the linear fit of housing price on number of rooms per house. Each fold of cross-validation will give you one slope coefficient and one intercept coefficient.  \n",
    "Plot the distribution of the 250 slope coefficients using a histogram with 25 bins, then draw a vertical line at the value of the slope coefficient that you estimated in 1.1 using the full dataset.  What do you notice?"
   ]
  },
  {
   "cell_type": "code",
   "execution_count": 231,
   "metadata": {
    "collapsed": false
   },
   "outputs": [],
   "source": [
    "from sklearn.cross_validation import KFold\n",
    "from sklearn import linear_model\n",
    "from sklearn import svm\n",
    "from sklearn.cross_validation import KFold, cross_val_predict,cross_val_score,train_test_split\n",
    "\n",
    "bdata_df = pd.DataFrame(bdata.data, columns=bdata.feature_names)\n",
    "bdata_df['MEDV'] = bdata.target\n",
    "\n",
    "room =np.array(bdata_df[[\"RM\"]].dropna())\n",
    "target = np.array(bdata_df.MEDV.dropna())\n",
    "\n",
    "room_train, room_test, target_train, target_test = train_test_split(room, target, test_size=0.34, random_state=100)\n",
    "\n",
    "X = room_train\n",
    "y = target_train\n",
    "\n",
    "kf = KFold(len(X), n_folds=250, shuffle=True)\n",
    "model = LinearRegression()\n",
    "slopes = []\n",
    "\n",
    "#iterate through folds\n",
    "for train, test in kf:\n",
    "    X_train, X_test = X[train], y[test]\n",
    "    y_train = y[train]\n",
    "    model.fit(X_train,y_train)\n",
    "    slopes.append(model.coef_)"
   ]
  },
  {
   "cell_type": "code",
   "execution_count": 232,
   "metadata": {
    "collapsed": false
   },
   "outputs": [
    {
     "data": {
      "image/png": "[encoded data removed]",
      "text/plain": [
       "<matplotlib.figure.Figure at 0x6707a58>"
      ]
     },
     "metadata": {},
     "output_type": "display_data"
    }
   ],
   "source": [
    "#draw a histogram\n",
    "import matplotlib.pyplot as plt\n",
    "import numpy as np\n",
    "\n",
    "plt.axvline(res.params[1], color='r', linestyle='dashed', linewidth=2)\n",
    "hist, bins = np.histogram(slopes, bins=25)\n",
    "width = 0.9 * (bins[1] - bins[0])\n",
    "center = (bins[:-1] + bins[1:]) / 2\n",
    "plt.bar(center, hist, align='center', width=width, color='c')\n",
    "plt.show()"
   ]
  },
  {
   "cell_type": "markdown",
   "metadata": {},
   "source": [
    "*Enter your observations here*"
   ]
  },
  {
   "cell_type": "markdown",
   "metadata": {},
   "source": [
    "Analysis shows that the most of the data population is within 5.5 and 8.7 for the 250 cross validation fold. The slope found in 1.1 seems to be away from the main population. "
   ]
  },
  {
   "cell_type": "markdown",
   "metadata": {},
   "source": [
    "### 1.3 Regression lines\n",
    "\n",
    "Create a scatterplot of housing price on rooms per house, and add the two regression lines from 1.1 (or 1.2 if you prefer to do so). Show the linear regression line in red, and the linear+quadratic regression line (which may have curvature) in blue.  Label these two regression lines with the corresponding regression equations (i.e. the slope and intercept of the line).\n",
    "\n",
    "Bonus: Add the 95% confidence bands (i.e.,  the area that has a 95% chance of containing the true regression line) to each of these lines."
   ]
  },
  {
   "cell_type": "markdown",
   "metadata": {},
   "source": [
    "\n"
   ]
  },
  {
   "cell_type": "code",
   "execution_count": 233,
   "metadata": {
    "collapsed": false,
    "scrolled": true
   },
   "outputs": [
    {
     "data": {
      "image/png": "[encoded data removed]",
      "text/plain": [
       "<matplotlib.figure.Figure at 0xc736dd8>"
      ]
     },
     "metadata": {},
     "output_type": "display_data"
    }
   ],
   "source": [
    "from pylab import title,  legend\n",
    "\n",
    "room =np.array(bdata_df[[\"RM\"]].dropna())\n",
    "target = np.array(bdata_df.MEDV.dropna())\n",
    "\n",
    "Y = target\n",
    "X = room\n",
    "\n",
    "plt.title('Relationship between housing price and rooms per house')\n",
    "plt.xlabel('Rooms per house')\n",
    "plt.ylabel('Median housing price')\n",
    "\n",
    "plt.scatter(X, Y, alpha=0.2)\n",
    "\n",
    "yfit = [res.params[0] + res.params[1] * xi for xi in X]\n",
    "\n",
    "plt.plot(X, yfit, color='red')\n",
    "\n",
    "X = np.sort(np.array(list(X.flat)))\n",
    "regression = np.polyfit(X, Y, 2)\n",
    "yfit2 = [res2.params[0] + res2.params[1] * xi + res2.params[2]*xi**2 for xi in X]\n",
    "plt.plot(X, yfit2, color='blue')\n",
    "\n",
    "legend(['y=9.102x-34.671','y=-22.643x+2.470x^2 +66.058'])\n",
    "\n",
    "plt.grid()\n",
    "plt.show()\n"
   ]
  },
  {
   "cell_type": "markdown",
   "metadata": {},
   "source": [
    "## Part 2: Gradient descent: Linear Regression\n",
    "\n",
    "This is where it gets fun!\n",
    "\n",
    "### 2.1 Implement gradient descent with one independent variable (Average rooms per house)\n",
    "\n",
    "Implement the batch gradient descent algorithm that we discussed in class. Use the version you implement to regress the housing price on the number of rooms per house. Experiment with 3-4 different values of the learning rate *R*, and do the following:\n",
    "\n",
    "* Report the values of alpha and beta that minimize the loss function\n",
    "* Report the number of iterations it takes for your algorithm to converge (for each value of *R*)\n",
    "* Report the total running time of your algorithm, in seconds\n",
    "\n",
    "Some skeleton code is provided below, but you should feel free to delete this code and start from scratch if you prefer.\n",
    "\n",
    "* *Hint 1: Don't forget to implement a stopping condition, so that at every iteration you check whether your results have converged. Common approaches to this are to (a) check to see if the loss has stopped decreasing; and (b) check if both your current parameter esimates are close to the estimates from the previous iteration.  In both cases, \"close\" should not be ==0, it should be <=epsilon, where epsilon is something very small (like 0.0001).*\n",
    "* *Hint 2: Some people like to include a MaxIterations parameter in their gradient descent algorithm, to prevent divergence. *"
   ]
  },
  {
   "cell_type": "code",
   "execution_count": 234,
   "metadata": {
    "collapsed": false
   },
   "outputs": [],
   "source": [
    "import time\n",
    "\n",
    "\"\"\"\n",
    "Function\n",
    "--------\n",
    "bivariate_ols\n",
    "    Gradient Decent to minimize OLS. Used to find co-efficients of bivariate OLS Linear regression\n",
    "\n",
    "Parameters\n",
    "----------\n",
    "xvalues, yvalues : narray\n",
    "    xvalues: independent variable\n",
    "    yvalues: dependent variable\n",
    "    \n",
    "R: float\n",
    "    Learning rate\n",
    "    \n",
    "MaxIterations: Int\n",
    "    maximum number of iterations\n",
    "    \n",
    "\n",
    "Returns\n",
    "-------\n",
    "alpha: float\n",
    "    intercept\n",
    "    \n",
    "beta: float\n",
    "    co-efficient\n",
    "\"\"\"\n",
    "def bivariate_ols(xvalues, yvalues, R=0.01, MaxIterations=1000):\n",
    "    start_time = time.time()\n",
    "    initial_b = 0 # initial y-intercept guess\n",
    "    initial_m = 0 # initial slope guess\n",
    "    for i in range(MaxIterations):\n",
    "        intercept, slope = gradient_descent_helper(xvalues, yvalues,initial_b,initial_m, R)\n",
    "        if i % 1000 == 0:\n",
    "            print \"With learning rate:{0} after {1} iterations alpha = {2}, beta = {3}. Time taken {4} seconds\".format(R, i, intercept,slope, str(round(time.time() - start_time,2)))\n",
    "    \n",
    "    return intercept, slope        \n",
    "     \n",
    "     \n",
    "def gradient_descent_helper(xvalues, yvalues, b_current, m_current, learning_rate):\n",
    "    \n",
    "    # y = mx + b\n",
    "    # m is slope, b is y-intercept\n",
    "    b_gradient = 0\n",
    "    m_gradient = 0\n",
    "    N = float(len(xvalues)) #size of the array\n",
    "    for i in range(0, len(xvalues)): #iterate through the size of the training data \n",
    "        x = xvalues[i, 0] # getting the training data \n",
    "        y = yvalues[i]   #getting the target\n",
    "        b_gradient += -(2/N) * (y - ((m_current * x) + b_current)) # derivative for the intercept\n",
    "        m_gradient += -(2/N) * x * (y - ((m_current * x) + b_current)) # derivative for the slope\n",
    "    new_b = b_current - (learning_rate * b_gradient) # getting the final intercept\n",
    "    new_m = m_current - (learning_rate * m_gradient) # getting the final slope\n",
    "    \n",
    "    return [new_b, new_m]    \n",
    "    \n"
   ]
  },
  {
   "cell_type": "code",
   "execution_count": 235,
   "metadata": {
    "collapsed": false
   },
   "outputs": [
    {
     "name": "stdout",
     "output_type": "stream",
     "text": [
      "With learning rate:0.001 after 0 iterations alpha = 0.0450656126482, beta = 0.29219003004. Time taken 0.0 seconds\n",
      "With learning rate:0.001 after 1000 iterations alpha = 0.0450656126482, beta = 0.29219003004. Time taken 1.21 seconds\n",
      "With learning rate:0.001 after 2000 iterations alpha = 0.0450656126482, beta = 0.29219003004. Time taken 2.52 seconds\n",
      "With learning rate:0.001 after 3000 iterations alpha = 0.0450656126482, beta = 0.29219003004. Time taken 3.75 seconds\n",
      "With learning rate:0.001 after 4000 iterations alpha = 0.0450656126482, beta = 0.29219003004. Time taken 4.89 seconds\n",
      "With learning rate:0.001 after 5000 iterations alpha = 0.0450656126482, beta = 0.29219003004. Time taken 6.05 seconds\n",
      "With learning rate:0.001 after 6000 iterations alpha = 0.0450656126482, beta = 0.29219003004. Time taken 7.19 seconds\n",
      "With learning rate:0.001 after 7000 iterations alpha = 0.0450656126482, beta = 0.29219003004. Time taken 8.3 seconds\n",
      "With learning rate:0.001 after 8000 iterations alpha = 0.0450656126482, beta = 0.29219003004. Time taken 9.45 seconds\n",
      "With learning rate:0.001 after 9000 iterations alpha = 0.0450656126482, beta = 0.29219003004. Time taken 10.57 seconds\n",
      "\n",
      "With learning rate:0.01 after 0 iterations alpha = 0.450656126482, beta = 2.9219003004. Time taken 0.0 seconds\n",
      "With learning rate:0.01 after 1000 iterations alpha = 0.450656126482, beta = 2.9219003004. Time taken 1.45 seconds\n",
      "With learning rate:0.01 after 2000 iterations alpha = 0.450656126482, beta = 2.9219003004. Time taken 2.9 seconds\n",
      "With learning rate:0.01 after 3000 iterations alpha = 0.450656126482, beta = 2.9219003004. Time taken 4.08 seconds\n",
      "With learning rate:0.01 after 4000 iterations alpha = 0.450656126482, beta = 2.9219003004. Time taken 5.23 seconds\n",
      "With learning rate:0.01 after 5000 iterations alpha = 0.450656126482, beta = 2.9219003004. Time taken 6.36 seconds\n",
      "With learning rate:0.01 after 6000 iterations alpha = 0.450656126482, beta = 2.9219003004. Time taken 7.48 seconds\n",
      "With learning rate:0.01 after 7000 iterations alpha = 0.450656126482, beta = 2.9219003004. Time taken 8.58 seconds\n",
      "With learning rate:0.01 after 8000 iterations alpha = 0.450656126482, beta = 2.9219003004. Time taken 10.13 seconds\n",
      "With learning rate:0.01 after 9000 iterations alpha = 0.450656126482, beta = 2.9219003004. Time taken 11.42 seconds\n",
      "\n",
      "With learning rate:0.1 after 0 iterations alpha = 4.50656126482, beta = 29.219003004. Time taken 0.0 seconds\n",
      "With learning rate:0.1 after 1000 iterations alpha = 4.50656126482, beta = 29.219003004. Time taken 1.15 seconds\n",
      "With learning rate:0.1 after 2000 iterations alpha = 4.50656126482, beta = 29.219003004. Time taken 2.79 seconds\n",
      "With learning rate:0.1 after 3000 iterations alpha = 4.50656126482, beta = 29.219003004. Time taken 4.89 seconds\n",
      "With learning rate:0.1 after 4000 iterations alpha = 4.50656126482, beta = 29.219003004. Time taken 7.02 seconds\n",
      "With learning rate:0.1 after 5000 iterations alpha = 4.50656126482, beta = 29.219003004. Time taken 8.56 seconds\n",
      "With learning rate:0.1 after 6000 iterations alpha = 4.50656126482, beta = 29.219003004. Time taken 9.77 seconds\n",
      "With learning rate:0.1 after 7000 iterations alpha = 4.50656126482, beta = 29.219003004. Time taken 10.91 seconds\n",
      "With learning rate:0.1 after 8000 iterations alpha = 4.50656126482, beta = 29.219003004. Time taken 12.07 seconds\n",
      "With learning rate:0.1 after 9000 iterations alpha = 4.50656126482, beta = 29.219003004. Time taken 13.22 seconds\n",
      "\n",
      "With learning rate:0.0001 after 0 iterations alpha = 0.00450656126482, beta = 0.029219003004. Time taken 0.0 seconds\n",
      "With learning rate:0.0001 after 1000 iterations alpha = 0.00450656126482, beta = 0.029219003004. Time taken 1.14 seconds\n",
      "With learning rate:0.0001 after 2000 iterations alpha = 0.00450656126482, beta = 0.029219003004. Time taken 2.29 seconds\n",
      "With learning rate:0.0001 after 3000 iterations alpha = 0.00450656126482, beta = 0.029219003004. Time taken 3.43 seconds\n",
      "With learning rate:0.0001 after 4000 iterations alpha = 0.00450656126482, beta = 0.029219003004. Time taken 4.57 seconds\n",
      "With learning rate:0.0001 after 5000 iterations alpha = 0.00450656126482, beta = 0.029219003004. Time taken 5.7 seconds\n",
      "With learning rate:0.0001 after 6000 iterations alpha = 0.00450656126482, beta = 0.029219003004. Time taken 6.83 seconds\n",
      "With learning rate:0.0001 after 7000 iterations alpha = 0.00450656126482, beta = 0.029219003004. Time taken 7.96 seconds\n",
      "With learning rate:0.0001 after 8000 iterations alpha = 0.00450656126482, beta = 0.029219003004. Time taken 9.09 seconds\n",
      "With learning rate:0.0001 after 9000 iterations alpha = 0.00450656126482, beta = 0.029219003004. Time taken 10.24 seconds\n",
      "\n"
     ]
    }
   ],
   "source": [
    "# Testing the bivariate with one feature\n",
    "\n",
    "X =np.array(bdata_df[[\"RM\"]].dropna()) #getting the room feature \n",
    "Y = np.array(bdata_df.MEDV.dropna()) #getting the target data \n",
    "\n",
    "learning_rate = [0.001, 0.01, 0.1,0.0001] # using different learning rates \n",
    "for lr in learning_rate: #iterate through the learning rate and calculate the slope and intercept for each\n",
    "    bivariate_ols(X, Y, lr, 10000)\n",
    "    print "
   ]
  },
  {
   "cell_type": "markdown",
   "metadata": {},
   "source": [
    "*Enter your observations here*"
   ]
  },
  {
   "cell_type": "markdown",
   "metadata": {},
   "source": [
    "The Analysis shows the followings:\n",
    "   - learning rate of 0.001 the intercept is at 0.0450656126482 and the slope is at 0.29219003004. \n",
    "   - learning rate of 0.01 the intercept is at 0.450656126482 and the slope is at 2.9219003004\n",
    "   - learning rate of 0.1 the intercept is at  4.50656126482 and the slope is at 29.219003004\n",
    "   - learning rate of 0.0001 the intercept is at  0.00450656126482 and the slope is at 0.029219003004\n",
    "The running time is almost identical for all of the iterations except that it took 0.40 seconds longer at learning rate of 0.001 to complete 10000 iterations.  "
   ]
  },
  {
   "cell_type": "markdown",
   "metadata": {},
   "source": [
    "### 2.2 Data normalization (done for you!)\n",
    "\n",
    "Soon, you will implement a version of gradient descent that can use an arbitrary number of independent variables. Before doing this, we want to give you some code in case you want to standardize your features."
   ]
  },
  {
   "cell_type": "code",
   "execution_count": 236,
   "metadata": {
    "collapsed": false
   },
   "outputs": [],
   "source": [
    "def standardize(raw_data):\n",
    "    return ((raw_data - np.mean(raw_data, axis = 0)) / np.std(raw_data, axis = 0))"
   ]
  },
  {
   "cell_type": "markdown",
   "metadata": {},
   "source": [
    "### 2.3 Implement gradient descent with an arbitrary number of independent variables\n",
    "\n",
    "Now that you have a simple version of gradient descent working, create a version of gradient descent that can take more than one independent variable.  Assume all independent variables will be continuous.  Test your algorithm using CRIM and RM as independent variables. Standardize these variables before before inputting them to the gradient descent algorithm. \n",
    "\n",
    "As before,  report and interpret your estimated coefficients, the number of iterations before convergence, and the total running time of your algorithm. Experiment with 2-3 different values of R.\n",
    "\n",
    "* *Hint 1: Be careful to implement this efficiently, otherwise it might take a long time for your code to run. Commands like `np.dot` can be a good friend to you on this problem*"
   ]
  },
  {
   "cell_type": "code",
   "execution_count": 237,
   "metadata": {
    "collapsed": false
   },
   "outputs": [],
   "source": [
    "import time\n",
    "\"\"\"\n",
    "Function\n",
    "--------\n",
    "multivariate_ols\n",
    "    Gradient Decent to minimize OLS. Used to find co-efficients of bivariate OLS Linear regression\n",
    "\n",
    "Parameters\n",
    "----------\n",
    "xvalue_matrix, yvalues : narray\n",
    "    xvalue_matrix: independent variable\n",
    "    yvalues: dependent variable\n",
    "    \n",
    "R: float\n",
    "    Learning rate\n",
    "    \n",
    "MaxIterations: Int\n",
    "    maximum number of iterations\n",
    "    \n",
    "\n",
    "Returns\n",
    "-------\n",
    "alpha: float\n",
    "    intercept\n",
    "    \n",
    "beta_array: array[float]\n",
    "    co-efficient\n",
    "\"\"\"\n",
    "def multivariate_ols(xvalues, yvalues, R=0.01, MaxIterations=1000):\n",
    "    start_time = time.time()\n",
    "    initial_b = 0 # initial y-intercept guess\n",
    "    initial_m = 0 # initial slope guess\n",
    "    initial_m2 = 0 # intial x^2 guess \n",
    "  \n",
    "    for i in range(MaxIterations):\n",
    "        intercept, slope,  beta2 = multivariate_helper(xvalues, yvalues,initial_b,initial_m, initial_m2, R)\n",
    "        if i % 1000 == 0:\n",
    "            print \"With rate:{0} after {1} iterations alpha = {2}, beta = {3}, beta2 = {4}. Time taken {5} seconds\".format(R, i, intercept,slope, beta2, str(round(time.time() - start_time,2)))\n",
    "            \n",
    "    print \n",
    "    return intercept, slope, beta2\n",
    "\n",
    "def multivariate_helper(xvalues, yvalues, b_current, m_current, m2_current, learning_rate):\n",
    "    # create a multivariate up to x^2 which means that the beta array will have two coefficients \n",
    "    b_gradient = 0\n",
    "    m_gradient = 0\n",
    "    m2_gradient = 0\n",
    "    N = float(len(xvalues)) #getting the size of the training data\n",
    "    for i in range(0, len(xvalues)):\n",
    "        x = xvalues[i, 0]\n",
    "        y = yvalues[i]\n",
    "        b_gradient += -(2/N) * (y - ((m_current * x) + b_current)) # derivative for the intercept\n",
    "        m_gradient += -(2/N) * x * (y - ((m_current * x) + b_current)) # derivative for the slope\n",
    "        m2_gradient += -(2/N)*x**2 * (y - ((m_current * x) +b_current)) # derivative for x^2\n",
    "    new_b = b_current - (learning_rate * b_gradient) # getting the final intercept\n",
    "    new_m = m_current - (learning_rate * m_gradient) # getting the final slope\n",
    "    new_m2 = m_current - (learning_rate * m2_gradient)  # getting the final x^2 value      \n",
    "    return [new_b, new_m, new_m2] \n",
    " \n"
   ]
  },
  {
   "cell_type": "code",
   "execution_count": 238,
   "metadata": {
    "collapsed": false
   },
   "outputs": [
    {
     "name": "stdout",
     "output_type": "stream",
     "text": [
      "With rate:0.1 after 0 iterations alpha = 4.50656126482, beta = -0.709005204238, beta2 = 2.31090470632. Time taken 0.0 seconds\n",
      "With rate:0.1 after 1000 iterations alpha = 4.50656126482, beta = -0.709005204238, beta2 = 2.31090470632. Time taken 2.52 seconds\n",
      "With rate:0.1 after 2000 iterations alpha = 4.50656126482, beta = -0.709005204238, beta2 = 2.31090470632. Time taken 5.44 seconds\n",
      "With rate:0.1 after 3000 iterations alpha = 4.50656126482, beta = -0.709005204238, beta2 = 2.31090470632. Time taken 7.92 seconds\n",
      "With rate:0.1 after 4000 iterations alpha = 4.50656126482, beta = -0.709005204238, beta2 = 2.31090470632. Time taken 10.34 seconds\n",
      "With rate:0.1 after 5000 iterations alpha = 4.50656126482, beta = -0.709005204238, beta2 = 2.31090470632. Time taken 12.81 seconds\n",
      "With rate:0.1 after 6000 iterations alpha = 4.50656126482, beta = -0.709005204238, beta2 = 2.31090470632. Time taken 15.33 seconds\n",
      "With rate:0.1 after 7000 iterations alpha = 4.50656126482, beta = -0.709005204238, beta2 = 2.31090470632. Time taken 17.76 seconds\n",
      "With rate:0.1 after 8000 iterations alpha = 4.50656126482, beta = -0.709005204238, beta2 = 2.31090470632. Time taken 20.2 seconds\n",
      "With rate:0.1 after 9000 iterations alpha = 4.50656126482, beta = -0.709005204238, beta2 = 2.31090470632. Time taken 22.65 seconds\n",
      "\n",
      "\n",
      "With rate:0.01 after 0 iterations alpha = 0.450656126482, beta = -0.0709005204238, beta2 = 0.231090470632. Time taken 0.0 seconds\n",
      "With rate:0.01 after 1000 iterations alpha = 0.450656126482, beta = -0.0709005204238, beta2 = 0.231090470632. Time taken 2.8 seconds\n",
      "With rate:0.01 after 2000 iterations alpha = 0.450656126482, beta = -0.0709005204238, beta2 = 0.231090470632. Time taken 5.87 seconds\n",
      "With rate:0.01 after 3000 iterations alpha = 0.450656126482, beta = -0.0709005204238, beta2 = 0.231090470632. Time taken 8.41 seconds\n",
      "With rate:0.01 after 4000 iterations alpha = 0.450656126482, beta = -0.0709005204238, beta2 = 0.231090470632. Time taken 10.86 seconds\n",
      "With rate:0.01 after 5000 iterations alpha = 0.450656126482, beta = -0.0709005204238, beta2 = 0.231090470632. Time taken 13.31 seconds\n",
      "With rate:0.01 after 6000 iterations alpha = 0.450656126482, beta = -0.0709005204238, beta2 = 0.231090470632. Time taken 15.87 seconds\n",
      "With rate:0.01 after 7000 iterations alpha = 0.450656126482, beta = -0.0709005204238, beta2 = 0.231090470632. Time taken 18.32 seconds\n",
      "With rate:0.01 after 8000 iterations alpha = 0.450656126482, beta = -0.0709005204238, beta2 = 0.231090470632. Time taken 20.73 seconds\n",
      "With rate:0.01 after 9000 iterations alpha = 0.450656126482, beta = -0.0709005204238, beta2 = 0.231090470632. Time taken 23.21 seconds\n",
      "\n",
      "\n",
      "With rate:0.001 after 0 iterations alpha = 0.0450656126482, beta = -0.00709005204238, beta2 = 0.0231090470632. Time taken 0.0 seconds\n",
      "With rate:0.001 after 1000 iterations alpha = 0.0450656126482, beta = -0.00709005204238, beta2 = 0.0231090470632. Time taken 2.38 seconds\n",
      "With rate:0.001 after 2000 iterations alpha = 0.0450656126482, beta = -0.00709005204238, beta2 = 0.0231090470632. Time taken 5.16 seconds\n",
      "With rate:0.001 after 3000 iterations alpha = 0.0450656126482, beta = -0.00709005204238, beta2 = 0.0231090470632. Time taken 8.16 seconds\n",
      "With rate:0.001 after 4000 iterations alpha = 0.0450656126482, beta = -0.00709005204238, beta2 = 0.0231090470632. Time taken 10.61 seconds\n",
      "With rate:0.001 after 5000 iterations alpha = 0.0450656126482, beta = -0.00709005204238, beta2 = 0.0231090470632. Time taken 13.13 seconds\n",
      "With rate:0.001 after 6000 iterations alpha = 0.0450656126482, beta = -0.00709005204238, beta2 = 0.0231090470632. Time taken 15.58 seconds\n",
      "With rate:0.001 after 7000 iterations alpha = 0.0450656126482, beta = -0.00709005204238, beta2 = 0.0231090470632. Time taken 18.01 seconds\n",
      "With rate:0.001 after 8000 iterations alpha = 0.0450656126482, beta = -0.00709005204238, beta2 = 0.0231090470632. Time taken 20.65 seconds\n",
      "With rate:0.001 after 9000 iterations alpha = 0.0450656126482, beta = -0.00709005204238, beta2 = 0.0231090470632. Time taken 23.53 seconds\n",
      "\n",
      "\n"
     ]
    }
   ],
   "source": [
    "# Testing the multivariate with two features\n",
    "\n",
    "X  = np.array(bdata_df[[\"CRIM\", \"RM\"]].dropna()) #getting crime and room features\n",
    "X  = np.asmatrix(X)\n",
    "Y  = np.array(bdata_df.MEDV.dropna()) #getting the target data \n",
    "\n",
    "X = standardize(X) #standardize the training data \n",
    "\n",
    "MaxIterations = 10000\n",
    "learning_rate = [0.1, 0.01, 0.001] # using different learning rates\n",
    "for lr in learning_rate:  #looping through the different learning rates\n",
    "    multivariate_ols(X, Y, lr, MaxIterations)\n",
    "    print\n"
   ]
  },
  {
   "cell_type": "markdown",
   "metadata": {},
   "source": [
    "The Analysis shows the followings:\n",
    "   - learning rate of 0.1 the intercept is at 4.50656126482, slope at -0.709005204238, and x^2 at 2.31090470632 \n",
    "   - learning rate of 0.01 the intercept is at 0.450656126482, slope at -0.0709005204238, and x^2 at 0.231090470632. \n",
    "   - learning rate of 0.001 the intercept is at 0.0450656126482, slope is at -0.00709005204238 , and x^2 at 0.0231090470632\n",
    "The running time varies for all of the iterations. However, it took over 2 seconds longer at learning rate of 0.01 to complete 10000 iterations.  "
   ]
  },
  {
   "cell_type": "markdown",
   "metadata": {},
   "source": [
    "### 2.4 Compare standardized vs. non-standardized results\n",
    "\n",
    "Repeat the analysis from 2.3, but this time do not standardize your variables - i.e., use the original data. Use the same three values of R (0.1, 0.01, and 0.001). What do you notice about the running time and convergence properties of your algorithm?"
   ]
  },
  {
   "cell_type": "code",
   "execution_count": 239,
   "metadata": {
    "collapsed": false
   },
   "outputs": [
    {
     "name": "stdout",
     "output_type": "stream",
     "text": [
      "With rate:0.1 after 0 iterations alpha = 4.50656126482, beta = 10.1063650866, beta2 = 184.886082746. Time taken 0.0 seconds\n",
      "With rate:0.1 after 1000 iterations alpha = 4.50656126482, beta = 10.1063650866, beta2 = 184.886082746. Time taken 2.48 seconds\n",
      "With rate:0.1 after 2000 iterations alpha = 4.50656126482, beta = 10.1063650866, beta2 = 184.886082746. Time taken 5.54 seconds\n",
      "With rate:0.1 after 3000 iterations alpha = 4.50656126482, beta = 10.1063650866, beta2 = 184.886082746. Time taken 8.08 seconds\n",
      "With rate:0.1 after 4000 iterations alpha = 4.50656126482, beta = 10.1063650866, beta2 = 184.886082746. Time taken 10.54 seconds\n",
      "With rate:0.1 after 5000 iterations alpha = 4.50656126482, beta = 10.1063650866, beta2 = 184.886082746. Time taken 13.03 seconds\n",
      "With rate:0.1 after 6000 iterations alpha = 4.50656126482, beta = 10.1063650866, beta2 = 184.886082746. Time taken 15.55 seconds\n",
      "With rate:0.1 after 7000 iterations alpha = 4.50656126482, beta = 10.1063650866, beta2 = 184.886082746. Time taken 18.06 seconds\n",
      "With rate:0.1 after 8000 iterations alpha = 4.50656126482, beta = 10.1063650866, beta2 = 184.886082746. Time taken 20.57 seconds\n",
      "With rate:0.1 after 9000 iterations alpha = 4.50656126482, beta = 10.1063650866, beta2 = 184.886082746. Time taken 22.99 seconds\n",
      "\n",
      "\n",
      "With rate:0.01 after 0 iterations alpha = 0.450656126482, beta = 1.01063650866, beta2 = 18.4886082746. Time taken 0.0 seconds\n",
      "With rate:0.01 after 1000 iterations alpha = 0.450656126482, beta = 1.01063650866, beta2 = 18.4886082746. Time taken 2.44 seconds\n",
      "With rate:0.01 after 2000 iterations alpha = 0.450656126482, beta = 1.01063650866, beta2 = 18.4886082746. Time taken 4.88 seconds\n",
      "With rate:0.01 after 3000 iterations alpha = 0.450656126482, beta = 1.01063650866, beta2 = 18.4886082746. Time taken 7.32 seconds\n",
      "With rate:0.01 after 4000 iterations alpha = 0.450656126482, beta = 1.01063650866, beta2 = 18.4886082746. Time taken 9.76 seconds\n",
      "With rate:0.01 after 5000 iterations alpha = 0.450656126482, beta = 1.01063650866, beta2 = 18.4886082746. Time taken 12.14 seconds\n",
      "With rate:0.01 after 6000 iterations alpha = 0.450656126482, beta = 1.01063650866, beta2 = 18.4886082746. Time taken 15.47 seconds\n",
      "With rate:0.01 after 7000 iterations alpha = 0.450656126482, beta = 1.01063650866, beta2 = 18.4886082746. Time taken 18.15 seconds\n",
      "With rate:0.01 after 8000 iterations alpha = 0.450656126482, beta = 1.01063650866, beta2 = 18.4886082746. Time taken 20.58 seconds\n",
      "With rate:0.01 after 9000 iterations alpha = 0.450656126482, beta = 1.01063650866, beta2 = 18.4886082746. Time taken 22.97 seconds\n",
      "\n",
      "\n",
      "With rate:0.001 after 0 iterations alpha = 0.0450656126482, beta = 0.101063650866, beta2 = 1.84886082746. Time taken 0.0 seconds\n",
      "With rate:0.001 after 1000 iterations alpha = 0.0450656126482, beta = 0.101063650866, beta2 = 1.84886082746. Time taken 2.43 seconds\n",
      "With rate:0.001 after 2000 iterations alpha = 0.0450656126482, beta = 0.101063650866, beta2 = 1.84886082746. Time taken 4.89 seconds\n",
      "With rate:0.001 after 3000 iterations alpha = 0.0450656126482, beta = 0.101063650866, beta2 = 1.84886082746. Time taken 7.31 seconds\n",
      "With rate:0.001 after 4000 iterations alpha = 0.0450656126482, beta = 0.101063650866, beta2 = 1.84886082746. Time taken 9.8 seconds\n",
      "With rate:0.001 after 5000 iterations alpha = 0.0450656126482, beta = 0.101063650866, beta2 = 1.84886082746. Time taken 12.8 seconds\n",
      "With rate:0.001 after 6000 iterations alpha = 0.0450656126482, beta = 0.101063650866, beta2 = 1.84886082746. Time taken 15.9 seconds\n",
      "With rate:0.001 after 7000 iterations alpha = 0.0450656126482, beta = 0.101063650866, beta2 = 1.84886082746. Time taken 18.44 seconds\n",
      "With rate:0.001 after 8000 iterations alpha = 0.0450656126482, beta = 0.101063650866, beta2 = 1.84886082746. Time taken 20.95 seconds\n",
      "With rate:0.001 after 9000 iterations alpha = 0.0450656126482, beta = 0.101063650866, beta2 = 1.84886082746. Time taken 23.43 seconds\n",
      "\n",
      "\n"
     ]
    }
   ],
   "source": [
    "# Testing the multivariate with two features \n",
    "X  = np.array(bdata_df[[\"CRIM\", \"RM\"]].dropna())\n",
    "X  = np.asmatrix(X)\n",
    "Y  = np.array(bdata_df.MEDV.dropna())\n",
    "\n",
    "#non standardize training data \n",
    "MaxIterations = 10000\n",
    "learning_rate = [0.1, 0.01, 0.001]\n",
    "for lr in learning_rate: \n",
    "    multivariate_ols(X, Y, lr, MaxIterations) #run multivarriate \n",
    "    print "
   ]
  },
  {
   "cell_type": "markdown",
   "metadata": {},
   "source": [
    "*Enter your observations here*"
   ]
  },
  {
   "cell_type": "markdown",
   "metadata": {},
   "source": [
    "The non-standardize shows larger coefficients values or bigger slope and beta arrays when comparing to the standardize models. In other words, there is a steeper slope in the non-standarize model which corresponds to a bigger gradient values in this model as opposed to the standardize model. \n",
    "\n",
    "As far as run-time of execution, it varies between the two models. However, we notice that it took 6 seconds more to run the non-standardize model at 0.001 when compared to the same iteration for the standardize model. "
   ]
  },
  {
   "cell_type": "markdown",
   "metadata": {},
   "source": [
    "## 3. Prediction\n",
    "\n",
    "Let's use our fitted model to make predictions about housing prices. Since the focus is now on prediction rather than the interpretation of the coefficients, it would be wise for you to first standardize your features before proceeding.\n",
    "\n",
    "### 3.1 Cross-Validation\n",
    "\n",
    "Unless you were careful above, you probably overfit your data again. Let's fix that in one of two ways. If you're feeling confident, use k-fold cross-validation to re-fit the multivariate regression from 2.3 above, and report your estimated coefficients (there should be three, corresponding to the intercept and the two coefficients for CRIM and RM). Or if you want to do the quick and dirty version, randomly divide your data into a training set (66%) and testing set (34%) and use the training set to re-fit the regression from 2.3 above. "
   ]
  },
  {
   "cell_type": "code",
   "execution_count": 240,
   "metadata": {
    "collapsed": false
   },
   "outputs": [
    {
     "name": "stdout",
     "output_type": "stream",
     "text": [
      "With rate:0.01 after 0 iterations alpha = 0.504540540541, beta = -0.0107032764963, beta2 = 0.451499117962. Time taken 0.0 seconds\n",
      "With rate:0.01 after 1000 iterations alpha = 0.504540540541, beta = -0.0107032764963, beta2 = 0.451499117962. Time taken 1.89 seconds\n",
      "With rate:0.01 after 2000 iterations alpha = 0.504540540541, beta = -0.0107032764963, beta2 = 0.451499117962. Time taken 3.59 seconds\n",
      "With rate:0.01 after 3000 iterations alpha = 0.504540540541, beta = -0.0107032764963, beta2 = 0.451499117962. Time taken 5.2 seconds\n",
      "With rate:0.01 after 4000 iterations alpha = 0.504540540541, beta = -0.0107032764963, beta2 = 0.451499117962. Time taken 6.83 seconds\n",
      "With rate:0.01 after 5000 iterations alpha = 0.504540540541, beta = -0.0107032764963, beta2 = 0.451499117962. Time taken 8.59 seconds\n",
      "With rate:0.01 after 6000 iterations alpha = 0.504540540541, beta = -0.0107032764963, beta2 = 0.451499117962. Time taken 10.35 seconds\n",
      "With rate:0.01 after 7000 iterations alpha = 0.504540540541, beta = -0.0107032764963, beta2 = 0.451499117962. Time taken 12.15 seconds\n",
      "With rate:0.01 after 8000 iterations alpha = 0.504540540541, beta = -0.0107032764963, beta2 = 0.451499117962. Time taken 13.79 seconds\n",
      "With rate:0.01 after 9000 iterations alpha = 0.504540540541, beta = -0.0107032764963, beta2 = 0.451499117962. Time taken 15.48 seconds\n",
      "\n"
     ]
    }
   ],
   "source": [
    "#creating a seed to allow for the same data to be generated\n",
    "np.random.seed(seed=13579)\n",
    "\n",
    "from sklearn.model_selection import train_test_split\n",
    "\n",
    "X = pd.DataFrame(bdata.data, columns=bdata.feature_names)\n",
    "bdata_df['MEDV'] = bdata.target\n",
    "y = bdata_df['MEDV'].dropna()\n",
    "\n",
    "#split the data in training and test set \n",
    "X_train, X_test, y_train, y_test = train_test_split(X, y, test_size=0.34, random_state=42)\n",
    "\n",
    "#generate training set for Crime and Room\n",
    "trainingSet =np.array(X_train[[\"CRIM\", \"RM\"]].dropna())\n",
    "trainingSet  = np.asmatrix(trainingSet)\n",
    "trainingSet = standardize(trainingSet)\n",
    "\n",
    "target = np.array(y)\n",
    "\n",
    "#calculate multivariate for a train set of 66% \n",
    "MaxIterations = 10000\n",
    "learning_rate = 0.01\n",
    "intercept, beta1, beta2 = multivariate_ols(trainingSet, target, learning_rate, MaxIterations)\n"
   ]
  },
  {
   "cell_type": "markdown",
   "metadata": {},
   "source": [
    "*Discuss your results here*"
   ]
  },
  {
   "cell_type": "markdown",
   "metadata": {},
   "source": [
    "The analysis shows that at learning rate of 0.01 the intercept is at 0.504540540541, slope at -0.0107032764963, and second beta value at 0.451499117962"
   ]
  },
  {
   "cell_type": "markdown",
   "metadata": {},
   "source": [
    "### 3.2 Predicted values and RMSE\n",
    "\n",
    "Let's figure out how accurate this predictive model turned out to be. Compute the RMSE on your test cases, i.e. take the model parameters that you found above and compare the actual to the predicted values for just the test instances. If you did this the k-fold way above, this will be the average RMSE across the k test sets. If you did this the quick and dirty way above, this will just be the RMSE on your single test set.\n",
    "\n",
    "What is your test RMSE?  How does it compare to the performance of your nearest neighbor algorithm from the last problem set?"
   ]
  },
  {
   "cell_type": "code",
   "execution_count": 241,
   "metadata": {
    "collapsed": false
   },
   "outputs": [
    {
     "name": "stdout",
     "output_type": "stream",
     "text": [
      "21.2038444036\n"
     ]
    }
   ],
   "source": [
    "# Your code here\n",
    "from sklearn.metrics import mean_squared_error\n",
    "def compute_rmse(predictions, yvalues):\n",
    "    # taking the square root of the mean squared error \n",
    "    rmse = np.sqrt(mean_squared_error(predictions,yvalues))\n",
    "    return rmse\n",
    "\n",
    "#create a beta array of both beta coefficients \n",
    "beta_array = np.array([beta1, beta2])\n",
    "\n",
    "X_test = np.array(bdata_df[[\"CRIM\", \"RM\"]].dropna())\n",
    "y = bdata_df['MEDV'].dropna()\n",
    "\n",
    "#calculate the preditions using the coefficients and the intercept\n",
    "predictions = np.dot(X_test, beta_array) + intercept\n",
    "\n",
    "#compute the rmse against the target data\n",
    "rmse = compute_rmse(predictions, y)\n",
    "print rmse"
   ]
  },
  {
   "cell_type": "markdown",
   "metadata": {},
   "source": [
    "*Discuss your results here*"
   ]
  },
  {
   "cell_type": "markdown",
   "metadata": {},
   "source": [
    "Analysis shows that at best the responses or coefficients vary around our target predicions by 21.20. "
   ]
  },
  {
   "cell_type": "markdown",
   "metadata": {},
   "source": [
    "### Extra Credit 1: Logistic Regression\n",
    "\n",
    "For extra credit, implement logistic regression using gradient descent. Create a new variable (EXPENSIVE) to indicate whether the median housing price is more than $400,000. Use your model  a logistic regression of EXPENSIVE on CHAS and RM. Report your results."
   ]
  },
  {
   "cell_type": "code",
   "execution_count": null,
   "metadata": {
    "collapsed": false
   },
   "outputs": [],
   "source": [
    "# Your code here"
   ]
  },
  {
   "cell_type": "markdown",
   "metadata": {},
   "source": [
    "*Discuss your results here*"
   ]
  },
  {
   "cell_type": "markdown",
   "metadata": {},
   "source": [
    "## 4 Regularization \n",
    "\n",
    "### 4.1 Get prepped\n",
    "\n",
    "Step 1: Create new interaction variables between each possible pair of the F_s features. If you originally had *K* features, you should now have *K+K^2/2* features. Standardize all of your features.\n",
    "\n",
    "Step 2: For simplicity, generate a single training and testing set.  Randomly sample 66% of your data and call this the training set, and set aside the remaining 34% as your test set."
   ]
  },
  {
   "cell_type": "code",
   "execution_count": 243,
   "metadata": {
    "collapsed": false
   },
   "outputs": [],
   "source": [
    "\n",
    "from sklearn.preprocessing import PolynomialFeatures\n",
    "from sklearn.model_selection import train_test_split\n",
    "#create the data sets\n",
    "X = pd.DataFrame(bdata.data, columns=bdata.feature_names)\n",
    "\n",
    "#create the target set\n",
    "y = bdata_df['MEDV'] = bdata.target\n",
    "\n",
    "\n",
    "#split between training and testing data \n",
    "X_train, X_test, y_train, y_test = train_test_split(X, y, test_size=0.34, random_state=42)\n",
    "\n",
    "#create a polynomial set of features with interaction_only = ture\n",
    "poly_features = PolynomialFeatures(interaction_only=True)\n",
    "poly_features.fit(X_train) # fit the poly features\n",
    "x_train_poly = poly_features.transform(X_train) # set training data into the poly features\n",
    "\n"
   ]
  },
  {
   "cell_type": "markdown",
   "metadata": {},
   "source": [
    "### 4.2 Let's overfit!\n",
    "Now, using your version of multivariate regression from 2.3, let's overfit the training data. Using your training set, regress housing price on as many of those *K+K/2* features as you can.  If you get too greedy, it's possible this will take a long time to compute, so start with 5-10 features, and if you have the time, add more features.\n",
    "\n",
    "Report the RMSE when you apply your model to your training set and to your testing set. How do these numbers compare to each other, and to the RMSE from 3.2 and nearest neighbors?"
   ]
  },
  {
   "cell_type": "code",
   "execution_count": 244,
   "metadata": {
    "collapsed": false
   },
   "outputs": [
    {
     "name": "stdout",
     "output_type": "stream",
     "text": [
      "With rate:0.01 after 0 iterations alpha = 0.504540540541, beta = 0.504540540541, beta2 = 0.504540540541. Time taken 0.0 seconds\n",
      "With rate:0.01 after 1000 iterations alpha = 0.504540540541, beta = 0.504540540541, beta2 = 0.504540540541. Time taken 1.17 seconds\n",
      "With rate:0.01 after 2000 iterations alpha = 0.504540540541, beta = 0.504540540541, beta2 = 0.504540540541. Time taken 2.33 seconds\n",
      "With rate:0.01 after 3000 iterations alpha = 0.504540540541, beta = 0.504540540541, beta2 = 0.504540540541. Time taken 3.83 seconds\n",
      "With rate:0.01 after 4000 iterations alpha = 0.504540540541, beta = 0.504540540541, beta2 = 0.504540540541. Time taken 4.98 seconds\n",
      "With rate:0.01 after 5000 iterations alpha = 0.504540540541, beta = 0.504540540541, beta2 = 0.504540540541. Time taken 6.47 seconds\n",
      "With rate:0.01 after 6000 iterations alpha = 0.504540540541, beta = 0.504540540541, beta2 = 0.504540540541. Time taken 7.61 seconds\n",
      "With rate:0.01 after 7000 iterations alpha = 0.504540540541, beta = 0.504540540541, beta2 = 0.504540540541. Time taken 8.78 seconds\n",
      "With rate:0.01 after 8000 iterations alpha = 0.504540540541, beta = 0.504540540541, beta2 = 0.504540540541. Time taken 9.91 seconds\n",
      "With rate:0.01 after 9000 iterations alpha = 0.504540540541, beta = 0.504540540541, beta2 = 0.504540540541. Time taken 11.05 seconds\n",
      "\n"
     ]
    }
   ],
   "source": [
    "#execute the multivariate for the poly features \n",
    "MaxIterations = 10000\n",
    "learning_rate = 0.01\n",
    "intercept, beta1, beta2 = multivariate_ols(x_train_poly, target, learning_rate, MaxIterations)\n"
   ]
  },
  {
   "cell_type": "code",
   "execution_count": 245,
   "metadata": {
    "collapsed": false
   },
   "outputs": [
    {
     "name": "stdout",
     "output_type": "stream",
     "text": [
      "20.4779923419\n"
     ]
    }
   ],
   "source": [
    "#set the beta arrays \n",
    "beta_array = np.array([beta1, beta2])\n",
    "\n",
    "#create data set for CRIME and Room \n",
    "X_test = np.array(bdata_df[[\"CRIM\", \"RM\"]].dropna())\n",
    "#create the data set\n",
    "y = bdata_df['MEDV'].dropna()\n",
    "\n",
    "#generate the predictions\n",
    "predictions = np.dot(X_test, beta_array) + intercept\n",
    "rmse = compute_rmse(predictions, y)\n",
    "print rmse"
   ]
  },
  {
   "cell_type": "markdown",
   "metadata": {},
   "source": [
    "*Discuss your results here*"
   ]
  },
  {
   "cell_type": "markdown",
   "metadata": {},
   "source": [
    "Analysis shows that the RMSE is slightly better at 20.47 when using a polymialfeatures where the interaction_only is activate.   In the previous experiment (3.2 the RMSE  was around 21.20. We notice with thisexperiment using the polynomialfeatures and interaction_only active, the RMSE decreases by 0.73. A better improvment in our model. If the degrees of features were to be increased, we expect that the RMSE would have been hire than was was reported in experiment 3.2. "
   ]
  },
  {
   "cell_type": "markdown",
   "metadata": {},
   "source": [
    "### 4.3 Ridge regularization\n",
    "Incorporate L2 (Ridge) regularization into your multivariate_ols regression. Write a new version of your gradient descent algorithm that includes a regularization term \"lambda\" to penalize excessive complexity. \n",
    "\n",
    "Use your regularized regression to re-fit the model from 3.2 above on your training data. Try this for several different values of lambda, and report your RMSE for each lambda separately for your training and testing data. How do these numbers compare to each other, to the RMSE from 4.2,  to the RMSE from 2.3, and to the RMSE from nearest neighbors?\n",
    "\n",
    "Go brag to your friends about how you just implemented ridge-regularized multivariate regression using gradient descent optimization, from scratch. If you still have friends."
   ]
  },
  {
   "cell_type": "code",
   "execution_count": 246,
   "metadata": {
    "collapsed": false
   },
   "outputs": [],
   "source": [
    "\n",
    "import time\n",
    "\"\"\"\n",
    "Function\n",
    "--------\n",
    "multivariate_ols\n",
    "    Gradient Decent to minimize OLS. Used to find co-efficients of bivariate OLS Linear regression\n",
    "\n",
    "Parameters\n",
    "----------\n",
    "xvalue_matrix, yvalues : narray\n",
    "    xvalue_matrix: independent variable\n",
    "    yvalues: dependent variable\n",
    "    \n",
    "R: float\n",
    "    Learning rate\n",
    "    \n",
    "MaxIterations: Int\n",
    "    maximum number of iterations\n",
    "    \n",
    "\n",
    "Returns\n",
    "-------\n",
    "alpha: float\n",
    "    intercept\n",
    "    \n",
    "beta_array: array[float]\n",
    "    co-efficient\n",
    "\"\"\"\n",
    "\n",
    "def multivariate_Ridge_ols(xvalues, yvalues, R=0.01, MaxIterations=1000, lambda2=1):\n",
    "    \n",
    "    start_time = time.time()\n",
    "    initial_b = 0 # initial y-intercept guess\n",
    "    initial_m = 0 # initial slope guess\n",
    "    initial_m2 = 0 # intial x^2 guess \n",
    "    \n",
    "    for i in range(MaxIterations):\n",
    "        intercept, slope,  beta2 = multivariate_Ridge_helper(xvalues, yvalues,initial_b,initial_m, R, lambda2)\n",
    "        if i % 1000 == 0:\n",
    "            print \"With rate:{0} after {1} iterations alpha = {2}, beta = {3}, beta2 = {4}. Time taken {5} seconds\".format(R, i, intercept,slope, beta2, str(round(time.time() - start_time,2)))\n",
    "            \n",
    "    print \n",
    "    return intercept, slope, beta2\n",
    "\n",
    "def multivariate_Ridge_helper(xvalues, yvalues, b_current, m_current, learning_rate, lambda2):\n",
    "    \n",
    "    b_gradient = 0\n",
    "    m_gradient = 0\n",
    "    m2_gradient = 0\n",
    "    N = float(len(xvalues))\n",
    "    for i in range(0, len(xvalues)):\n",
    "        x = xvalues[i, 0]\n",
    "        y = yvalues[i]\n",
    "        b_gradient += -(2/N) * (y - ((m_current * x) + b_current)) \n",
    "        m_gradient += -(2/N) * x * (y - ((m_current * x) + b_current)) \n",
    "        m2_gradient += -(2/N)*x**2 * (y - ((m_current * x) +b_current)) \n",
    "    new_b = b_current - (learning_rate * b_gradient) + lambda2 * b_current #added lambda to the current intercept \n",
    "    new_m = m_current - (learning_rate * m_gradient) + lambda2 * m_current  #added lambda to the current coefficent\n",
    "    new_m2 = m_current - (learning_rate * m2_gradient) + lambda2 * m_current #added lamdda to the second current coefficient\n",
    "    \n",
    "    return [new_b, new_m, new_m2]"
   ]
  },
  {
   "cell_type": "code",
   "execution_count": 247,
   "metadata": {
    "collapsed": false
   },
   "outputs": [
    {
     "name": "stdout",
     "output_type": "stream",
     "text": [
      "With rate:0.01 after 0 iterations alpha = 0.0538844140583, beta = -0.0107032764963, beta2 = 0.000842991479981. Time taken 0.0 seconds\n",
      "With rate:0.01 after 1000 iterations alpha = 0.0538844140583, beta = -0.0107032764963, beta2 = 0.000842991479981. Time taken 2.08 seconds\n",
      "With rate:0.01 after 2000 iterations alpha = 0.0538844140583, beta = -0.0107032764963, beta2 = 0.000842991479981. Time taken 3.74 seconds\n",
      "With rate:0.01 after 3000 iterations alpha = 0.0538844140583, beta = -0.0107032764963, beta2 = 0.000842991479981. Time taken 5.4 seconds\n",
      "With rate:0.01 after 4000 iterations alpha = 0.0538844140583, beta = -0.0107032764963, beta2 = 0.000842991479981. Time taken 7.05 seconds\n",
      "With rate:0.01 after 5000 iterations alpha = 0.0538844140583, beta = -0.0107032764963, beta2 = 0.000842991479981. Time taken 8.71 seconds\n",
      "With rate:0.01 after 6000 iterations alpha = 0.0538844140583, beta = -0.0107032764963, beta2 = 0.000842991479981. Time taken 10.34 seconds\n",
      "With rate:0.01 after 7000 iterations alpha = 0.0538844140583, beta = -0.0107032764963, beta2 = 0.000842991479981. Time taken 12.01 seconds\n",
      "With rate:0.01 after 8000 iterations alpha = 0.0538844140583, beta = -0.0107032764963, beta2 = 0.000842991479981. Time taken 13.66 seconds\n",
      "With rate:0.01 after 9000 iterations alpha = 0.0538844140583, beta = -0.0107032764963, beta2 = 0.000842991479981. Time taken 15.94 seconds\n",
      "\n"
     ]
    }
   ],
   "source": [
    "\n",
    "from sklearn.model_selection import train_test_split\n",
    "\n",
    "#Set data sets \n",
    "X = pd.DataFrame(bdata.data, columns=bdata.feature_names)\n",
    "bdata_df['MEDV'] = bdata.target\n",
    "y = bdata_df['MEDV'].dropna()\n",
    "\n",
    "#create a training and testing set 66% and 34% respectively\n",
    "X_train, X_test, y_train, y_test = train_test_split(X, y, test_size=0.34, random_state=42)\n",
    "\n",
    "#create a training set with CRIME and ROOM data sets\n",
    "trainingSet =np.array(X_train[[\"CRIM\", \"RM\"]].dropna())\n",
    "trainingSet  = np.asmatrix(trainingSet)\n",
    "trainingSet = standardize(trainingSet)\n",
    "\n",
    "#generate the target data set \n",
    "target = target - np.mean(target, axis=0)\n",
    "\n",
    "MaxIterations = 10000\n",
    "learning_rate = 0.01\n",
    "lambda2 = 1\n",
    "\n",
    "#calculate the multivariate ridge for lambda = 1\n",
    "interceptRidge, beta1Ridge, beta2Ridge = multivariate_Ridge_ols(trainingSet, target, learning_rate, MaxIterations, lambda2)\n"
   ]
  },
  {
   "cell_type": "markdown",
   "metadata": {},
   "source": [
    "*Discuss your results here*"
   ]
  },
  {
   "cell_type": "markdown",
   "metadata": {},
   "source": [
    "Analysis shows that when using the L2 ridge, slope is at  0.0538844140583 and the beta arrays are at -0.0107032764963 and 0.000842991479982"
   ]
  },
  {
   "cell_type": "code",
   "execution_count": 248,
   "metadata": {
    "collapsed": false
   },
   "outputs": [
    {
     "name": "stdout",
     "output_type": "stream",
     "text": [
      "24.3014996376\n"
     ]
    }
   ],
   "source": [
    "#create the beta arrays\n",
    "beta_array = np.array([beta1Ridge, beta2Ridge])\n",
    "\n",
    "#generate the data sets\n",
    "X_test = np.array(bdata_df[[\"CRIM\", \"RM\"]].dropna())\n",
    "y = bdata_df['MEDV'].dropna()\n",
    "\n",
    "#create the prediction data\n",
    "predictions = np.dot(X_test, beta_array) + interceptRidge\n",
    "\n",
    "#compute the RMSE\n",
    "rmse = compute_rmse(predictions, y)\n",
    "print rmse"
   ]
  },
  {
   "cell_type": "code",
   "execution_count": 249,
   "metadata": {
    "collapsed": false
   },
   "outputs": [
    {
     "name": "stdout",
     "output_type": "stream",
     "text": [
      "With rate:0.01 after 0 iterations alpha = 0.0538844140583, beta = -0.0107032764963, beta2 = 0.000842991479981. Time taken 0.0 seconds\n",
      "With rate:0.01 after 1000 iterations alpha = 0.0538844140583, beta = -0.0107032764963, beta2 = 0.000842991479981. Time taken 2.03 seconds\n",
      "With rate:0.01 after 2000 iterations alpha = 0.0538844140583, beta = -0.0107032764963, beta2 = 0.000842991479981. Time taken 3.75 seconds\n",
      "With rate:0.01 after 3000 iterations alpha = 0.0538844140583, beta = -0.0107032764963, beta2 = 0.000842991479981. Time taken 5.71 seconds\n",
      "With rate:0.01 after 4000 iterations alpha = 0.0538844140583, beta = -0.0107032764963, beta2 = 0.000842991479981. Time taken 7.72 seconds\n",
      "With rate:0.01 after 5000 iterations alpha = 0.0538844140583, beta = -0.0107032764963, beta2 = 0.000842991479981. Time taken 9.35 seconds\n",
      "With rate:0.01 after 6000 iterations alpha = 0.0538844140583, beta = -0.0107032764963, beta2 = 0.000842991479981. Time taken 10.97 seconds\n",
      "With rate:0.01 after 7000 iterations alpha = 0.0538844140583, beta = -0.0107032764963, beta2 = 0.000842991479981. Time taken 13.13 seconds\n",
      "With rate:0.01 after 8000 iterations alpha = 0.0538844140583, beta = -0.0107032764963, beta2 = 0.000842991479981. Time taken 15.54 seconds\n",
      "With rate:0.01 after 9000 iterations alpha = 0.0538844140583, beta = -0.0107032764963, beta2 = 0.000842991479981. Time taken 17.24 seconds\n",
      "\n"
     ]
    }
   ],
   "source": [
    "#calculate the multivariate ridge for lambda = 2\n",
    "MaxIterations = 10000\n",
    "learning_rate = 0.01\n",
    "lambda2 = 2\n",
    "interceptRidge2, beta1Ridge2, beta2Ridge2 = multivariate_Ridge_ols(trainingSet, target, learning_rate, MaxIterations, lambda2)\n"
   ]
  },
  {
   "cell_type": "markdown",
   "metadata": {},
   "source": [
    "Analysis shows that the RMSE for the L2 regularization is at 24.30. In previous experiments (3.2) the RMSE  was around 21.20. And in (4.2) it was at 20.47. This increases in the experiment is expected because of the addition of the lambad in the gradient calculation causes the RMSE to increase. "
   ]
  },
  {
   "cell_type": "code",
   "execution_count": 250,
   "metadata": {
    "collapsed": false
   },
   "outputs": [
    {
     "name": "stdout",
     "output_type": "stream",
     "text": [
      "24.3014996376\n"
     ]
    }
   ],
   "source": [
    " #set the beta arrays \n",
    "beta_array = np.array([beta1Ridge, beta2Ridge])\n",
    "\n",
    "#set the data sets \n",
    "X_test = np.array(bdata_df[[\"CRIM\", \"RM\"]].dropna())\n",
    "y = bdata_df['MEDV'].dropna()\n",
    "\n",
    "#calculate the predictions \n",
    "predictions = np.dot(X_test, beta_array) + interceptRidge\n",
    "\n",
    "#generate the rmse \n",
    "rmse = compute_rmse(predictions, y)\n",
    "print rmse"
   ]
  },
  {
   "cell_type": "markdown",
   "metadata": {},
   "source": [
    "Analysis shows that the RMSE tends to be uniform as the lambda changes. It appears that the model will not have a better RMSE beyond the 24.30 reported for different values of lambda"
   ]
  },
  {
   "cell_type": "markdown",
   "metadata": {},
   "source": [
    "### Extra Credit 2: Cross-validate lambda\n",
    "\n",
    "Use k-fold cross-validation to select the optimal value of lambda. Report the average RMSE across all training sets, and the average RMSE across all testing sets. How do these numbers compare to each other, to the RMSE from your previous efforts?  Finally, create a scatter plot that shows RMSE as a function of lambda."
   ]
  },
  {
   "cell_type": "markdown",
   "metadata": {},
   "source": [
    "*Discuss your results here*"
   ]
  },
  {
   "cell_type": "markdown",
   "metadata": {},
   "source": [
    "### (Showoff) Extra Credit 3: Lambda and coefficients\n",
    "\n",
    "If you're feeling extra-special, create a parameter plot that shows how the different coefficient estimates change as a function of lambda. To make this graph intelligible, only include the *K* original F_s features in this plot"
   ]
  },
  {
   "cell_type": "code",
   "execution_count": null,
   "metadata": {
    "collapsed": false
   },
   "outputs": [],
   "source": [
    "# Your code here"
   ]
  },
  {
   "cell_type": "markdown",
   "metadata": {},
   "source": [
    "*Discuss your results here*"
   ]
  }
 ],
 "metadata": {
  "anaconda-cloud": {},
  "kernelspec": {
   "display_name": "Python [default]",
   "language": "python",
   "name": "python2"
  },
  "language_info": {
   "codemirror_mode": {
    "name": "ipython",
    "version": 2
   },
   "file_extension": ".py",
   "mimetype": "text/x-python",
   "name": "python",
   "nbconvert_exporter": "python",
   "pygments_lexer": "ipython2",
   "version": "2.7.12"
  }
 },
 "nbformat": 4,
 "nbformat_minor": 0
}
